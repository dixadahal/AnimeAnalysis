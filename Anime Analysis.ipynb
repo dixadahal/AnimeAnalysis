{
 "cells": [
  {
   "cell_type": "code",
   "execution_count": 276,
   "id": "801932d5-d08c-4b21-813c-6a99e72539bb",
   "metadata": {},
   "outputs": [],
   "source": [
    "# Load necessary libraries\n",
    "import pandas as pd\n",
    "import matplotlib.pyplot as plt\n",
    "import seaborn as sns\n",
    "import plotly.express as px\n",
    "from sklearn.feature_extraction.text import TfidfVectorizer\n",
    "from sklearn.metrics.pairwise import cosine_similarity\n",
    "\n",
    "\n",
    "# Load the dataset\n",
    "\n",
    "file_path = r'C:\\Users\\dixad\\Documents\\covid_data-analysis\\Data\\anime.csv'\n",
    "anime_data = pd.read_csv(file_path)\n",
    "\n",
    "\n"
   ]
  },
  {
   "cell_type": "code",
   "execution_count": 277,
   "id": "b754ce1d-700e-403a-9835-3f1798e8e507",
   "metadata": {},
   "outputs": [
    {
     "name": "stdout",
     "output_type": "stream",
     "text": [
      "Dataset Info:\n",
      "<class 'pandas.core.frame.DataFrame'>\n",
      "RangeIndex: 1000 entries, 0 to 999\n",
      "Data columns (total 22 columns):\n",
      " #   Column       Non-Null Count  Dtype  \n",
      "---  ------       --------------  -----  \n",
      " 0   Score        1000 non-null   float64\n",
      " 1   Popularity   1000 non-null   int64  \n",
      " 2   Rank         1000 non-null   int64  \n",
      " 3   Members      1000 non-null   int64  \n",
      " 4   Description  1000 non-null   object \n",
      " 5   Synonyms     709 non-null    object \n",
      " 6   Japanese     999 non-null    object \n",
      " 7   English      859 non-null    object \n",
      " 8   Type         1000 non-null   object \n",
      " 9   Episodes     1000 non-null   object \n",
      " 10  Status       1000 non-null   object \n",
      " 11  Aired        1000 non-null   object \n",
      " 12  Premiered    569 non-null    object \n",
      " 13  Broadcast    569 non-null    object \n",
      " 14  Producers    1000 non-null   object \n",
      " 15  Licensors    1000 non-null   object \n",
      " 16  Studios      1000 non-null   object \n",
      " 17  Source       1000 non-null   object \n",
      " 18  Genres       771 non-null    object \n",
      " 19  Demographic  521 non-null    object \n",
      " 20  Duration     1000 non-null   object \n",
      " 21  Rating       1000 non-null   object \n",
      "dtypes: float64(1), int64(3), object(18)\n",
      "memory usage: 172.0+ KB\n"
     ]
    }
   ],
   "source": [
    "# Inspect basic information\n",
    "print(\"Dataset Info:\")\n",
    "anime_data.info()\n",
    "\n"
   ]
  },
  {
   "cell_type": "code",
   "execution_count": 278,
   "id": "f4e14ffb-1bdd-438a-8088-43f720f998a6",
   "metadata": {},
   "outputs": [
    {
     "name": "stdout",
     "output_type": "stream",
     "text": [
      "\n",
      "Preview of the Dataset:\n"
     ]
    },
    {
     "data": {
      "text/html": [
       "<div>\n",
       "<style scoped>\n",
       "    .dataframe tbody tr th:only-of-type {\n",
       "        vertical-align: middle;\n",
       "    }\n",
       "\n",
       "    .dataframe tbody tr th {\n",
       "        vertical-align: top;\n",
       "    }\n",
       "\n",
       "    .dataframe thead th {\n",
       "        text-align: right;\n",
       "    }\n",
       "</style>\n",
       "<table border=\"1\" class=\"dataframe\">\n",
       "  <thead>\n",
       "    <tr style=\"text-align: right;\">\n",
       "      <th></th>\n",
       "      <th>Score</th>\n",
       "      <th>Popularity</th>\n",
       "      <th>Rank</th>\n",
       "      <th>Members</th>\n",
       "      <th>Description</th>\n",
       "      <th>Synonyms</th>\n",
       "      <th>Japanese</th>\n",
       "      <th>English</th>\n",
       "      <th>Type</th>\n",
       "      <th>Episodes</th>\n",
       "      <th>...</th>\n",
       "      <th>Premiered</th>\n",
       "      <th>Broadcast</th>\n",
       "      <th>Producers</th>\n",
       "      <th>Licensors</th>\n",
       "      <th>Studios</th>\n",
       "      <th>Source</th>\n",
       "      <th>Genres</th>\n",
       "      <th>Demographic</th>\n",
       "      <th>Duration</th>\n",
       "      <th>Rating</th>\n",
       "    </tr>\n",
       "  </thead>\n",
       "  <tbody>\n",
       "    <tr>\n",
       "      <th>0</th>\n",
       "      <td>8.55</td>\n",
       "      <td>1</td>\n",
       "      <td>108</td>\n",
       "      <td>3</td>\n",
       "      <td>Centuries ago, mankind was slaughtered to near...</td>\n",
       "      <td>AoT, SnK</td>\n",
       "      <td>進撃の巨人</td>\n",
       "      <td>Attack on Titan</td>\n",
       "      <td>TV</td>\n",
       "      <td>25</td>\n",
       "      <td>...</td>\n",
       "      <td>Spring 2013</td>\n",
       "      <td>Sundays at 01:58 (JST)</td>\n",
       "      <td>Production I.G, Dentsu, Mainichi Broadcasting ...</td>\n",
       "      <td>Funimation</td>\n",
       "      <td>Wit Studio</td>\n",
       "      <td>Manga</td>\n",
       "      <td>ActionAction, Award WinningAward Winning, Dram...</td>\n",
       "      <td>ShounenShounen</td>\n",
       "      <td>24 min. per ep.</td>\n",
       "      <td>R - 17+ (violence &amp; profanity)</td>\n",
       "    </tr>\n",
       "    <tr>\n",
       "      <th>1</th>\n",
       "      <td>8.62</td>\n",
       "      <td>2</td>\n",
       "      <td>80</td>\n",
       "      <td>3</td>\n",
       "      <td>Brutal murders, petty thefts, and senseless vi...</td>\n",
       "      <td>DN</td>\n",
       "      <td>デスノート</td>\n",
       "      <td>Death Note</td>\n",
       "      <td>TV</td>\n",
       "      <td>37</td>\n",
       "      <td>...</td>\n",
       "      <td>Fall 2006</td>\n",
       "      <td>Wednesdays at 00:56 (JST)</td>\n",
       "      <td>VAP, Nippon Television Network, Shueisha, D.N....</td>\n",
       "      <td>VIZ Media</td>\n",
       "      <td>Madhouse</td>\n",
       "      <td>Manga</td>\n",
       "      <td>SupernaturalSupernatural, SuspenseSuspense</td>\n",
       "      <td>ShounenShounen</td>\n",
       "      <td>23 min. per ep.</td>\n",
       "      <td>R - 17+ (violence &amp; profanity)</td>\n",
       "    </tr>\n",
       "    <tr>\n",
       "      <th>2</th>\n",
       "      <td>9.09</td>\n",
       "      <td>3</td>\n",
       "      <td>2</td>\n",
       "      <td>3</td>\n",
       "      <td>After a horrific alchemy experiment goes wrong...</td>\n",
       "      <td>Hagane no Renkinjutsushi: Fullmetal Alchemist,...</td>\n",
       "      <td>鋼の錬金術師 FULLMETAL ALCHEMIST</td>\n",
       "      <td>Fullmetal Alchemist: Brotherhood</td>\n",
       "      <td>TV</td>\n",
       "      <td>64</td>\n",
       "      <td>...</td>\n",
       "      <td>Spring 2009</td>\n",
       "      <td>Sundays at 17:00 (JST)</td>\n",
       "      <td>Aniplex, Square Enix, Mainichi Broadcasting Sy...</td>\n",
       "      <td>Funimation, Aniplex of America</td>\n",
       "      <td>Bones</td>\n",
       "      <td>Manga</td>\n",
       "      <td>ActionAction, AdventureAdventure, DramaDrama, ...</td>\n",
       "      <td>ShounenShounen</td>\n",
       "      <td>24 min. per ep.</td>\n",
       "      <td>R - 17+ (violence &amp; profanity)</td>\n",
       "    </tr>\n",
       "    <tr>\n",
       "      <th>3</th>\n",
       "      <td>8.50</td>\n",
       "      <td>4</td>\n",
       "      <td>133</td>\n",
       "      <td>3</td>\n",
       "      <td>The seemingly unimpressive Saitama has a rathe...</td>\n",
       "      <td>One Punch-Man, One-Punch Man, OPM</td>\n",
       "      <td>ワンパンマン</td>\n",
       "      <td>One Punch Man</td>\n",
       "      <td>TV</td>\n",
       "      <td>12</td>\n",
       "      <td>...</td>\n",
       "      <td>Fall 2015</td>\n",
       "      <td>Mondays at 01:05 (JST)</td>\n",
       "      <td>TV Tokyo, Bandai Visual, Lantis, Asatsu DK, Ba...</td>\n",
       "      <td>VIZ Media</td>\n",
       "      <td>Madhouse</td>\n",
       "      <td>Web manga</td>\n",
       "      <td>ActionAction, ComedyComedy</td>\n",
       "      <td>SeinenSeinen</td>\n",
       "      <td>24 min. per ep.</td>\n",
       "      <td>R - 17+ (violence &amp; profanity)</td>\n",
       "    </tr>\n",
       "    <tr>\n",
       "      <th>4</th>\n",
       "      <td>8.47</td>\n",
       "      <td>6</td>\n",
       "      <td>145</td>\n",
       "      <td>3</td>\n",
       "      <td>Ever since the death of his father, the burden...</td>\n",
       "      <td>Blade of Demon Destruction</td>\n",
       "      <td>鬼滅の刃</td>\n",
       "      <td>Demon Slayer: Kimetsu no Yaiba</td>\n",
       "      <td>TV</td>\n",
       "      <td>26</td>\n",
       "      <td>...</td>\n",
       "      <td>Spring 2019</td>\n",
       "      <td>Saturdays at 23:30 (JST)</td>\n",
       "      <td>Aniplex, Shueisha</td>\n",
       "      <td>Aniplex of America</td>\n",
       "      <td>ufotable</td>\n",
       "      <td>Manga</td>\n",
       "      <td>ActionAction, Award WinningAward Winning, Fant...</td>\n",
       "      <td>ShounenShounen</td>\n",
       "      <td>23 min. per ep.</td>\n",
       "      <td>R - 17+ (violence &amp; profanity)</td>\n",
       "    </tr>\n",
       "  </tbody>\n",
       "</table>\n",
       "<p>5 rows × 22 columns</p>\n",
       "</div>"
      ],
      "text/plain": [
       "   Score  Popularity  Rank  Members  \\\n",
       "0   8.55           1   108        3   \n",
       "1   8.62           2    80        3   \n",
       "2   9.09           3     2        3   \n",
       "3   8.50           4   133        3   \n",
       "4   8.47           6   145        3   \n",
       "\n",
       "                                         Description  \\\n",
       "0  Centuries ago, mankind was slaughtered to near...   \n",
       "1  Brutal murders, petty thefts, and senseless vi...   \n",
       "2  After a horrific alchemy experiment goes wrong...   \n",
       "3  The seemingly unimpressive Saitama has a rathe...   \n",
       "4  Ever since the death of his father, the burden...   \n",
       "\n",
       "                                            Synonyms  \\\n",
       "0                                           AoT, SnK   \n",
       "1                                                 DN   \n",
       "2  Hagane no Renkinjutsushi: Fullmetal Alchemist,...   \n",
       "3                  One Punch-Man, One-Punch Man, OPM   \n",
       "4                         Blade of Demon Destruction   \n",
       "\n",
       "                     Japanese                           English Type Episodes  \\\n",
       "0                       進撃の巨人                   Attack on Titan   TV       25   \n",
       "1                       デスノート                        Death Note   TV       37   \n",
       "2  鋼の錬金術師 FULLMETAL ALCHEMIST  Fullmetal Alchemist: Brotherhood   TV       64   \n",
       "3                      ワンパンマン                     One Punch Man   TV       12   \n",
       "4                        鬼滅の刃    Demon Slayer: Kimetsu no Yaiba   TV       26   \n",
       "\n",
       "   ...    Premiered                  Broadcast  \\\n",
       "0  ...  Spring 2013     Sundays at 01:58 (JST)   \n",
       "1  ...    Fall 2006  Wednesdays at 00:56 (JST)   \n",
       "2  ...  Spring 2009     Sundays at 17:00 (JST)   \n",
       "3  ...    Fall 2015     Mondays at 01:05 (JST)   \n",
       "4  ...  Spring 2019   Saturdays at 23:30 (JST)   \n",
       "\n",
       "                                           Producers  \\\n",
       "0  Production I.G, Dentsu, Mainichi Broadcasting ...   \n",
       "1  VAP, Nippon Television Network, Shueisha, D.N....   \n",
       "2  Aniplex, Square Enix, Mainichi Broadcasting Sy...   \n",
       "3  TV Tokyo, Bandai Visual, Lantis, Asatsu DK, Ba...   \n",
       "4                                  Aniplex, Shueisha   \n",
       "\n",
       "                        Licensors     Studios     Source  \\\n",
       "0                      Funimation  Wit Studio      Manga   \n",
       "1                       VIZ Media    Madhouse      Manga   \n",
       "2  Funimation, Aniplex of America       Bones      Manga   \n",
       "3                       VIZ Media    Madhouse  Web manga   \n",
       "4              Aniplex of America    ufotable      Manga   \n",
       "\n",
       "                                              Genres     Demographic  \\\n",
       "0  ActionAction, Award WinningAward Winning, Dram...  ShounenShounen   \n",
       "1         SupernaturalSupernatural, SuspenseSuspense  ShounenShounen   \n",
       "2  ActionAction, AdventureAdventure, DramaDrama, ...  ShounenShounen   \n",
       "3                         ActionAction, ComedyComedy    SeinenSeinen   \n",
       "4  ActionAction, Award WinningAward Winning, Fant...  ShounenShounen   \n",
       "\n",
       "          Duration                          Rating  \n",
       "0  24 min. per ep.  R - 17+ (violence & profanity)  \n",
       "1  23 min. per ep.  R - 17+ (violence & profanity)  \n",
       "2  24 min. per ep.  R - 17+ (violence & profanity)  \n",
       "3  24 min. per ep.  R - 17+ (violence & profanity)  \n",
       "4  23 min. per ep.  R - 17+ (violence & profanity)  \n",
       "\n",
       "[5 rows x 22 columns]"
      ]
     },
     "execution_count": 278,
     "metadata": {},
     "output_type": "execute_result"
    }
   ],
   "source": [
    "print(\"\\nPreview of the Dataset:\")\n",
    "anime_data.head()"
   ]
  },
  {
   "cell_type": "code",
   "execution_count": 279,
   "id": "c51a0df7-16c0-481a-8b61-8cfc58ce2f37",
   "metadata": {},
   "outputs": [
    {
     "data": {
      "text/html": [
       "<div>\n",
       "<style scoped>\n",
       "    .dataframe tbody tr th:only-of-type {\n",
       "        vertical-align: middle;\n",
       "    }\n",
       "\n",
       "    .dataframe tbody tr th {\n",
       "        vertical-align: top;\n",
       "    }\n",
       "\n",
       "    .dataframe thead th {\n",
       "        text-align: right;\n",
       "    }\n",
       "</style>\n",
       "<table border=\"1\" class=\"dataframe\">\n",
       "  <thead>\n",
       "    <tr style=\"text-align: right;\">\n",
       "      <th></th>\n",
       "      <th>Studios</th>\n",
       "      <th>Rank</th>\n",
       "    </tr>\n",
       "  </thead>\n",
       "  <tbody>\n",
       "    <tr>\n",
       "      <th>0</th>\n",
       "      <td>Wit Studio</td>\n",
       "      <td>108</td>\n",
       "    </tr>\n",
       "    <tr>\n",
       "      <th>1</th>\n",
       "      <td>Madhouse</td>\n",
       "      <td>80</td>\n",
       "    </tr>\n",
       "    <tr>\n",
       "      <th>2</th>\n",
       "      <td>Bones</td>\n",
       "      <td>2</td>\n",
       "    </tr>\n",
       "    <tr>\n",
       "      <th>3</th>\n",
       "      <td>Madhouse</td>\n",
       "      <td>133</td>\n",
       "    </tr>\n",
       "    <tr>\n",
       "      <th>4</th>\n",
       "      <td>ufotable</td>\n",
       "      <td>145</td>\n",
       "    </tr>\n",
       "  </tbody>\n",
       "</table>\n",
       "</div>"
      ],
      "text/plain": [
       "      Studios  Rank\n",
       "0  Wit Studio   108\n",
       "1    Madhouse    80\n",
       "2       Bones     2\n",
       "3    Madhouse   133\n",
       "4    ufotable   145"
      ]
     },
     "execution_count": 279,
     "metadata": {},
     "output_type": "execute_result"
    }
   ],
   "source": [
    "# Create a new DataFrame for studios-related analysis\n",
    "studio_data = anime_data[['Studios', 'Rank']].copy()\n",
    "\n",
    "# Perform operations on 'studio_data' instead of 'anime_data'\n",
    "studio_data.head()"
   ]
  },
  {
   "cell_type": "code",
   "execution_count": 280,
   "id": "5037a61e-1a27-4654-8d9d-35397c822ecb",
   "metadata": {},
   "outputs": [
    {
     "name": "stdout",
     "output_type": "stream",
     "text": [
      "Index(['Score', 'Popularity', 'Rank', 'Members', 'Description', 'Synonyms',\n",
      "       'Japanese', 'English', 'Type', 'Episodes', 'Status', 'Aired',\n",
      "       'Premiered', 'Broadcast', 'Producers', 'Licensors', 'Studios', 'Source',\n",
      "       'Genres', 'Demographic', 'Duration', 'Rating'],\n",
      "      dtype='object')\n"
     ]
    }
   ],
   "source": [
    "print(anime_data.columns)"
   ]
  },
  {
   "cell_type": "code",
   "execution_count": 281,
   "id": "af1a121e-f9a0-4ed5-9be6-1007dee29bb0",
   "metadata": {},
   "outputs": [
    {
     "name": "stdout",
     "output_type": "stream",
     "text": [
      "Total anime: 1000\n",
      "Anime with English titles: 859 (85.90%)\n",
      "Anime without English titles: 141 (14.10%)\n"
     ]
    }
   ],
   "source": [
    "\n",
    "# Checking missing values in the 'English' column\n",
    "total_count = anime_data.shape[0]\n",
    "english_missing_count = anime_data['English'].isna().sum()\n",
    "\n",
    "# Calculate percentages\n",
    "with_english_title = total_count - english_missing_count\n",
    "without_english_title = english_missing_count\n",
    "percentage_with = (with_english_title / total_count) * 100\n",
    "percentage_without = (without_english_title / total_count) * 100\n",
    "\n",
    "print(f\"Total anime: {total_count}\")\n",
    "print(f\"Anime with English titles: {with_english_title} ({percentage_with:.2f}%)\")\n",
    "print(f\"Anime without English titles: {without_english_title} ({percentage_without:.2f}%)\")\n"
   ]
  },
  {
   "cell_type": "code",
   "execution_count": 282,
   "id": "d2befd6f-1de5-4808-a3b9-f627bfff151a",
   "metadata": {},
   "outputs": [
    {
     "name": "stdout",
     "output_type": "stream",
     "text": [
      "Top Studios by Percentage of Anime with English Titles:\n",
      "Has_English_Title        False  True  Percentage_With_English\n",
      "Studios                                                      \n",
      "8bit                         0     9                    100.0\n",
      "Satelight                    0     7                    100.0\n",
      "Red Dog Culture House        0     1                    100.0\n",
      "Radix                        0     1                    100.0\n",
      "Purple Cow Studio Japan      0     1                    100.0\n",
      "Project No.9                 0     1                    100.0\n",
      "Platinum Vision              0     2                    100.0\n",
      "Pierrot Plus                 0     1                    100.0\n",
      "Phoenix Entertainment        0     1                    100.0\n",
      "Pastel                       0     1                    100.0\n"
     ]
    }
   ],
   "source": [
    "# Clean and split 'Studios'\n",
    "anime_data['Studios'] = anime_data['Studios'].str.split(', ')\n",
    "\n",
    "# Explode 'Studios' for analysis\n",
    "exploded_studios = anime_data.explode('Studios')\n",
    "\n",
    "# Group by 'Has_English_Title' and 'Studios'\n",
    "exploded_studios['Has_English_Title'] = anime_data['English'].notna()\n",
    "studio_analysis = (\n",
    "    exploded_studios.groupby(['Studios', 'Has_English_Title'])\n",
    "    .size()\n",
    "    .unstack(fill_value=0)\n",
    ")\n",
    "\n",
    "# Calculate the percentage of anime with English titles for each studio\n",
    "studio_analysis['Percentage_With_English'] = (\n",
    "    studio_analysis[True] / studio_analysis.sum(axis=1) * 100\n",
    ")\n",
    "studio_analysis = studio_analysis.sort_values(by='Percentage_With_English', ascending=False)\n",
    "\n",
    "print(\"Top Studios by Percentage of Anime with English Titles:\")\n",
    "print(studio_analysis.head(10))\n"
   ]
  },
  {
   "cell_type": "code",
   "execution_count": 283,
   "id": "f47579df-ff95-4dcb-b178-c560d8d700b7",
   "metadata": {},
   "outputs": [
    {
     "name": "stdout",
     "output_type": "stream",
     "text": [
      "Index(['Score', 'Popularity', 'Rank', 'Members', 'Description', 'Synonyms',\n",
      "       'Japanese', 'English', 'Type', 'Episodes', 'Status', 'Aired',\n",
      "       'Premiered', 'Broadcast', 'Producers', 'Licensors', 'Studios', 'Source',\n",
      "       'Genres', 'Demographic', 'Duration', 'Rating'],\n",
      "      dtype='object')\n"
     ]
    }
   ],
   "source": [
    "print(anime_data.columns)\n"
   ]
  },
  {
   "cell_type": "code",
   "execution_count": 284,
   "id": "a5d6978e-3c12-427b-b901-88f8039e294b",
   "metadata": {},
   "outputs": [
    {
     "name": "stdout",
     "output_type": "stream",
     "text": [
      "Index(['Score', 'Popularity', 'Rank', 'Members', 'Description', 'Synonyms',\n",
      "       'Japanese', 'Title', 'Type', 'Episodes', 'Status', 'Aired', 'Premiered',\n",
      "       'Broadcast', 'Producers', 'Licensors', 'Studios', 'Source', 'Genres',\n",
      "       'Demographic', 'Duration', 'Rating'],\n",
      "      dtype='object')\n"
     ]
    }
   ],
   "source": [
    "# Rename the 'English' column to 'Title'\n",
    "anime_data.rename(columns={'English': 'Title'}, inplace=True)\n",
    "\n",
    "# Verify the change\n",
    "print(anime_data.columns)\n"
   ]
  },
  {
   "cell_type": "code",
   "execution_count": 285,
   "id": "d46421a6-cf48-4516-8c55-e2d40d875d42",
   "metadata": {},
   "outputs": [],
   "source": [
    "#print(anime_data.columns)\n"
   ]
  },
  {
   "cell_type": "code",
   "execution_count": 286,
   "id": "77ffc27f-964a-457b-9e10-77f8e7cea976",
   "metadata": {},
   "outputs": [
    {
     "name": "stdout",
     "output_type": "stream",
     "text": [
      "141\n"
     ]
    }
   ],
   "source": [
    "# Check if there are any missing values in the 'Title' column\n",
    "print(anime_data['Title'].isnull().sum())\n"
   ]
  },
  {
   "cell_type": "code",
   "execution_count": 287,
   "id": "30efcaa1-ffc5-4595-a9b3-e2725e77b2e2",
   "metadata": {},
   "outputs": [
    {
     "name": "stdout",
     "output_type": "stream",
     "text": [
      "0      Action, Award Winning, Drama, Suspense\n",
      "1                      Supernatural, Suspense\n",
      "2           Action, Adventure, Drama, Fantasy\n",
      "3                              Action, Comedy\n",
      "4              Action, Award Winning, Fantasy\n",
      "                        ...                  \n",
      "995        Action, Adventure, Fantasy, Sci-Fi\n",
      "996                Action, Adventure, Fantasy\n",
      "997        Action, Adventure, Fantasy, Sci-Fi\n",
      "998                    Action, Drama, Fantasy\n",
      "999                                       NaN\n",
      "Name: Genres, Length: 1000, dtype: object\n"
     ]
    }
   ],
   "source": [
    "import pandas as pd\n",
    "\n",
    "# Load the dataset\n",
    "file_path = r'C:\\Users\\dixad\\Documents\\covid_data-analysis\\Data\\anime.csv'\n",
    "df = pd.read_csv(file_path)\n",
    "\n",
    "# Clean the Genres column\n",
    "if 'Genres' in df.columns:\n",
    "    df['Genres'] = (\n",
    "        df['Genres']\n",
    "        #.str.replace(r'\\b(\\w+\\s*\\w*)\\1\\b', r'\\1', regex=True)\n",
    "        #.str.replace(r'\\b(\\w+[-\\w]*)\\1\\b', r'\\1', regex=True)# Remove repeated phrases\n",
    "        .str.replace(r'\\b(\\w+(?:[-\\s]\\w*)?)\\1\\b', r'\\1', regex=True)  # Remove repeated words/phrases\n",
    "        .str.replace(r'\\.{2,}', '', regex=True)  # Remove trailing dots\n",
    "        .str.replace(r'\\s*,\\s*', ', ')  # Normalize commas and spaces\n",
    "        .str.strip()  # Remove extra whitespace\n",
    "    )\n",
    "\n",
    "    # Display cleaned data\n",
    "    print(df['Genres'])\n",
    "\n",
    "    # Save the cleaned dataset\n",
    "    cleaned_file_path = r'C:\\Users\\dixad\\Documents\\covid_data-analysis\\Data\\cleaned_anime.csv'\n",
    "    df.to_csv(cleaned_file_path, index=False)\n",
    "else:\n",
    "    print(\"The 'Genres' column does not exist in the dataset.\")\n"
   ]
  },
  {
   "cell_type": "code",
   "execution_count": 288,
   "id": "9c39496e-85a8-4557-8c4f-61313f3373f1",
   "metadata": {},
   "outputs": [
    {
     "data": {
      "text/html": [
       "<div>\n",
       "<style scoped>\n",
       "    .dataframe tbody tr th:only-of-type {\n",
       "        vertical-align: middle;\n",
       "    }\n",
       "\n",
       "    .dataframe tbody tr th {\n",
       "        vertical-align: top;\n",
       "    }\n",
       "\n",
       "    .dataframe thead th {\n",
       "        text-align: right;\n",
       "    }\n",
       "</style>\n",
       "<table border=\"1\" class=\"dataframe\">\n",
       "  <thead>\n",
       "    <tr style=\"text-align: right;\">\n",
       "      <th></th>\n",
       "      <th>Score</th>\n",
       "      <th>Popularity</th>\n",
       "      <th>Rank</th>\n",
       "      <th>Members</th>\n",
       "      <th>Description</th>\n",
       "      <th>Synonyms</th>\n",
       "      <th>Japanese</th>\n",
       "      <th>English</th>\n",
       "      <th>Type</th>\n",
       "      <th>Episodes</th>\n",
       "      <th>...</th>\n",
       "      <th>Premiered</th>\n",
       "      <th>Broadcast</th>\n",
       "      <th>Producers</th>\n",
       "      <th>Licensors</th>\n",
       "      <th>Studios</th>\n",
       "      <th>Source</th>\n",
       "      <th>Genres</th>\n",
       "      <th>Demographic</th>\n",
       "      <th>Duration</th>\n",
       "      <th>Rating</th>\n",
       "    </tr>\n",
       "  </thead>\n",
       "  <tbody>\n",
       "    <tr>\n",
       "      <th>0</th>\n",
       "      <td>8.55</td>\n",
       "      <td>1</td>\n",
       "      <td>108</td>\n",
       "      <td>3</td>\n",
       "      <td>Centuries ago, mankind was slaughtered to near...</td>\n",
       "      <td>AoT, SnK</td>\n",
       "      <td>進撃の巨人</td>\n",
       "      <td>Attack on Titan</td>\n",
       "      <td>TV</td>\n",
       "      <td>25</td>\n",
       "      <td>...</td>\n",
       "      <td>Spring 2013</td>\n",
       "      <td>Sundays at 01:58 (JST)</td>\n",
       "      <td>Production I.G, Dentsu, Mainichi Broadcasting ...</td>\n",
       "      <td>Funimation</td>\n",
       "      <td>Wit Studio</td>\n",
       "      <td>Manga</td>\n",
       "      <td>Action, Award Winning, Drama, Suspense</td>\n",
       "      <td>ShounenShounen</td>\n",
       "      <td>24 min. per ep.</td>\n",
       "      <td>R - 17+ (violence &amp; profanity)</td>\n",
       "    </tr>\n",
       "    <tr>\n",
       "      <th>1</th>\n",
       "      <td>8.62</td>\n",
       "      <td>2</td>\n",
       "      <td>80</td>\n",
       "      <td>3</td>\n",
       "      <td>Brutal murders, petty thefts, and senseless vi...</td>\n",
       "      <td>DN</td>\n",
       "      <td>デスノート</td>\n",
       "      <td>Death Note</td>\n",
       "      <td>TV</td>\n",
       "      <td>37</td>\n",
       "      <td>...</td>\n",
       "      <td>Fall 2006</td>\n",
       "      <td>Wednesdays at 00:56 (JST)</td>\n",
       "      <td>VAP, Nippon Television Network, Shueisha, D.N....</td>\n",
       "      <td>VIZ Media</td>\n",
       "      <td>Madhouse</td>\n",
       "      <td>Manga</td>\n",
       "      <td>Supernatural, Suspense</td>\n",
       "      <td>ShounenShounen</td>\n",
       "      <td>23 min. per ep.</td>\n",
       "      <td>R - 17+ (violence &amp; profanity)</td>\n",
       "    </tr>\n",
       "    <tr>\n",
       "      <th>2</th>\n",
       "      <td>9.09</td>\n",
       "      <td>3</td>\n",
       "      <td>2</td>\n",
       "      <td>3</td>\n",
       "      <td>After a horrific alchemy experiment goes wrong...</td>\n",
       "      <td>Hagane no Renkinjutsushi: Fullmetal Alchemist,...</td>\n",
       "      <td>鋼の錬金術師 FULLMETAL ALCHEMIST</td>\n",
       "      <td>Fullmetal Alchemist: Brotherhood</td>\n",
       "      <td>TV</td>\n",
       "      <td>64</td>\n",
       "      <td>...</td>\n",
       "      <td>Spring 2009</td>\n",
       "      <td>Sundays at 17:00 (JST)</td>\n",
       "      <td>Aniplex, Square Enix, Mainichi Broadcasting Sy...</td>\n",
       "      <td>Funimation, Aniplex of America</td>\n",
       "      <td>Bones</td>\n",
       "      <td>Manga</td>\n",
       "      <td>Action, Adventure, Drama, Fantasy</td>\n",
       "      <td>ShounenShounen</td>\n",
       "      <td>24 min. per ep.</td>\n",
       "      <td>R - 17+ (violence &amp; profanity)</td>\n",
       "    </tr>\n",
       "    <tr>\n",
       "      <th>3</th>\n",
       "      <td>8.50</td>\n",
       "      <td>4</td>\n",
       "      <td>133</td>\n",
       "      <td>3</td>\n",
       "      <td>The seemingly unimpressive Saitama has a rathe...</td>\n",
       "      <td>One Punch-Man, One-Punch Man, OPM</td>\n",
       "      <td>ワンパンマン</td>\n",
       "      <td>One Punch Man</td>\n",
       "      <td>TV</td>\n",
       "      <td>12</td>\n",
       "      <td>...</td>\n",
       "      <td>Fall 2015</td>\n",
       "      <td>Mondays at 01:05 (JST)</td>\n",
       "      <td>TV Tokyo, Bandai Visual, Lantis, Asatsu DK, Ba...</td>\n",
       "      <td>VIZ Media</td>\n",
       "      <td>Madhouse</td>\n",
       "      <td>Web manga</td>\n",
       "      <td>Action, Comedy</td>\n",
       "      <td>SeinenSeinen</td>\n",
       "      <td>24 min. per ep.</td>\n",
       "      <td>R - 17+ (violence &amp; profanity)</td>\n",
       "    </tr>\n",
       "    <tr>\n",
       "      <th>4</th>\n",
       "      <td>8.47</td>\n",
       "      <td>6</td>\n",
       "      <td>145</td>\n",
       "      <td>3</td>\n",
       "      <td>Ever since the death of his father, the burden...</td>\n",
       "      <td>Blade of Demon Destruction</td>\n",
       "      <td>鬼滅の刃</td>\n",
       "      <td>Demon Slayer: Kimetsu no Yaiba</td>\n",
       "      <td>TV</td>\n",
       "      <td>26</td>\n",
       "      <td>...</td>\n",
       "      <td>Spring 2019</td>\n",
       "      <td>Saturdays at 23:30 (JST)</td>\n",
       "      <td>Aniplex, Shueisha</td>\n",
       "      <td>Aniplex of America</td>\n",
       "      <td>ufotable</td>\n",
       "      <td>Manga</td>\n",
       "      <td>Action, Award Winning, Fantasy</td>\n",
       "      <td>ShounenShounen</td>\n",
       "      <td>23 min. per ep.</td>\n",
       "      <td>R - 17+ (violence &amp; profanity)</td>\n",
       "    </tr>\n",
       "  </tbody>\n",
       "</table>\n",
       "<p>5 rows × 22 columns</p>\n",
       "</div>"
      ],
      "text/plain": [
       "   Score  Popularity  Rank  Members  \\\n",
       "0   8.55           1   108        3   \n",
       "1   8.62           2    80        3   \n",
       "2   9.09           3     2        3   \n",
       "3   8.50           4   133        3   \n",
       "4   8.47           6   145        3   \n",
       "\n",
       "                                         Description  \\\n",
       "0  Centuries ago, mankind was slaughtered to near...   \n",
       "1  Brutal murders, petty thefts, and senseless vi...   \n",
       "2  After a horrific alchemy experiment goes wrong...   \n",
       "3  The seemingly unimpressive Saitama has a rathe...   \n",
       "4  Ever since the death of his father, the burden...   \n",
       "\n",
       "                                            Synonyms  \\\n",
       "0                                           AoT, SnK   \n",
       "1                                                 DN   \n",
       "2  Hagane no Renkinjutsushi: Fullmetal Alchemist,...   \n",
       "3                  One Punch-Man, One-Punch Man, OPM   \n",
       "4                         Blade of Demon Destruction   \n",
       "\n",
       "                     Japanese                           English Type Episodes  \\\n",
       "0                       進撃の巨人                   Attack on Titan   TV       25   \n",
       "1                       デスノート                        Death Note   TV       37   \n",
       "2  鋼の錬金術師 FULLMETAL ALCHEMIST  Fullmetal Alchemist: Brotherhood   TV       64   \n",
       "3                      ワンパンマン                     One Punch Man   TV       12   \n",
       "4                        鬼滅の刃    Demon Slayer: Kimetsu no Yaiba   TV       26   \n",
       "\n",
       "   ...    Premiered                  Broadcast  \\\n",
       "0  ...  Spring 2013     Sundays at 01:58 (JST)   \n",
       "1  ...    Fall 2006  Wednesdays at 00:56 (JST)   \n",
       "2  ...  Spring 2009     Sundays at 17:00 (JST)   \n",
       "3  ...    Fall 2015     Mondays at 01:05 (JST)   \n",
       "4  ...  Spring 2019   Saturdays at 23:30 (JST)   \n",
       "\n",
       "                                           Producers  \\\n",
       "0  Production I.G, Dentsu, Mainichi Broadcasting ...   \n",
       "1  VAP, Nippon Television Network, Shueisha, D.N....   \n",
       "2  Aniplex, Square Enix, Mainichi Broadcasting Sy...   \n",
       "3  TV Tokyo, Bandai Visual, Lantis, Asatsu DK, Ba...   \n",
       "4                                  Aniplex, Shueisha   \n",
       "\n",
       "                        Licensors     Studios     Source  \\\n",
       "0                      Funimation  Wit Studio      Manga   \n",
       "1                       VIZ Media    Madhouse      Manga   \n",
       "2  Funimation, Aniplex of America       Bones      Manga   \n",
       "3                       VIZ Media    Madhouse  Web manga   \n",
       "4              Aniplex of America    ufotable      Manga   \n",
       "\n",
       "                                   Genres     Demographic         Duration  \\\n",
       "0  Action, Award Winning, Drama, Suspense  ShounenShounen  24 min. per ep.   \n",
       "1                  Supernatural, Suspense  ShounenShounen  23 min. per ep.   \n",
       "2       Action, Adventure, Drama, Fantasy  ShounenShounen  24 min. per ep.   \n",
       "3                          Action, Comedy    SeinenSeinen  24 min. per ep.   \n",
       "4          Action, Award Winning, Fantasy  ShounenShounen  23 min. per ep.   \n",
       "\n",
       "                           Rating  \n",
       "0  R - 17+ (violence & profanity)  \n",
       "1  R - 17+ (violence & profanity)  \n",
       "2  R - 17+ (violence & profanity)  \n",
       "3  R - 17+ (violence & profanity)  \n",
       "4  R - 17+ (violence & profanity)  \n",
       "\n",
       "[5 rows x 22 columns]"
      ]
     },
     "execution_count": 288,
     "metadata": {},
     "output_type": "execute_result"
    }
   ],
   "source": [
    "df.head(5)  #  first few rows of the cleaned DataFrame\n"
   ]
  },
  {
   "cell_type": "code",
   "execution_count": 289,
   "id": "490d614e-398b-473f-9735-293603e9acbe",
   "metadata": {},
   "outputs": [
    {
     "name": "stdout",
     "output_type": "stream",
     "text": [
      "Index(['Score', 'Popularity', 'Rank', 'Members', 'Description', 'Synonyms',\n",
      "       'Japanese', 'Title', 'Type', 'Episodes', 'Status', 'Aired', 'Premiered',\n",
      "       'Broadcast', 'Producers', 'Licensors', 'Studios', 'Source', 'Genres',\n",
      "       'Demographic', 'Duration', 'Rating'],\n",
      "      dtype='object')\n"
     ]
    }
   ],
   "source": [
    "# Rename the 'English' column to 'Title'\n",
    "df.rename(columns={'English': 'Title'}, inplace=True)\n",
    "\n",
    "# Verify the change\n",
    "print(df.columns)"
   ]
  },
  {
   "cell_type": "code",
   "execution_count": 290,
   "id": "582898c5-711c-4ae8-bda3-45772d2f1f8e",
   "metadata": {},
   "outputs": [
    {
     "name": "stdout",
     "output_type": "stream",
     "text": [
      "Best Anime by Score:\n",
      "                             Title  Score\n",
      "187  Frieren: Beyond Journey's End   9.38\n"
     ]
    }
   ],
   "source": [
    "\n",
    "# Find the anime with the highest score\n",
    "best_by_score = df[['Title', 'Score']].sort_values(by='Score', ascending=False).head(1)\n",
    "\n",
    "print(\"Best Anime by Score:\")\n",
    "print(best_by_score)\n",
    "\n"
   ]
  },
  {
   "cell_type": "code",
   "execution_count": 291,
   "id": "740ab508-0726-48ea-8136-75182d85da3d",
   "metadata": {},
   "outputs": [
    {
     "name": "stdout",
     "output_type": "stream",
     "text": [
      "Most Popular Anime:\n",
      "             Title  Popularity\n",
      "0  Attack on Titan           1\n"
     ]
    }
   ],
   "source": [
    "# Find the most popular anime (lowest popularity rank is the most popular)\n",
    "best_by_popularity = df[['Title', 'Popularity']].sort_values(by='Popularity').head(1)\n",
    "\n",
    "print(\"Most Popular Anime:\")\n",
    "print(best_by_popularity)\n"
   ]
  },
  {
   "cell_type": "code",
   "execution_count": 292,
   "id": "fd074b61-3ae3-49ec-8656-44cee30fc488",
   "metadata": {},
   "outputs": [
    {
     "name": "stdout",
     "output_type": "stream",
     "text": [
      "Anime with the Most Community Engagement (Members):\n",
      "                   Title  Members\n",
      "116  Weathering with You      998\n"
     ]
    }
   ],
   "source": [
    "# Find the anime with the highest number of members\n",
    "best_by_members = df[['Title', 'Members']].sort_values(by='Members', ascending=False).head(1)\n",
    "\n",
    "print(\"Anime with the Most Community Engagement (Members):\")\n",
    "print(best_by_members)\n"
   ]
  },
  {
   "cell_type": "code",
   "execution_count": 293,
   "id": "57593dca-c8c5-40a7-a178-5f87c6921063",
   "metadata": {},
   "outputs": [
    {
     "name": "stdout",
     "output_type": "stream",
     "text": [
      "Best Anime by Combined Score (Score and Popularity):\n",
      "             Title  Score  Popularity  Combined_Score\n",
      "0  Attack on Titan   8.55           1            8.55\n"
     ]
    }
   ],
   "source": [
    "# Create a combined score considering both 'Score' and 'Popularity'\n",
    "df['Combined_Score'] = df['Score'] * (1 / df['Popularity'])  # Popularity inversely affects the score\n",
    "\n",
    "# Find the anime with the highest combined score\n",
    "best_by_combined = df[['Title', 'Score', 'Popularity', 'Combined_Score']].sort_values(by='Combined_Score', ascending=False).head(1)\n",
    "\n",
    "print(\"Best Anime by Combined Score (Score and Popularity):\")\n",
    "print(best_by_combined)\n"
   ]
  },
  {
   "cell_type": "code",
   "execution_count": 294,
   "id": "3c1a4cf3-09a2-4603-9bcf-6f3078a740dd",
   "metadata": {},
   "outputs": [
    {
     "name": "stdout",
     "output_type": "stream",
     "text": [
      "Best Anime by Type:\n",
      "               Score\n",
      "Type                \n",
      "TV          8.189525\n",
      "TV Special  8.154091\n",
      "Movie       8.144766\n",
      "ONA         8.112830\n",
      "Special     8.048649\n",
      "OVA         8.042262\n"
     ]
    }
   ],
   "source": [
    "# Group by 'Type' and calculate the average score per type\n",
    "type_best_anime = df.groupby('Type').agg({'Score': 'mean'}).sort_values(by='Score', ascending=False)\n",
    "\n",
    "print(\"Best Anime by Type:\")\n",
    "print(type_best_anime.head(10))  # Display top 10 types with the best scores\n"
   ]
  },
  {
   "cell_type": "code",
   "execution_count": 295,
   "id": "9ee4f8db-5184-4161-86bb-069aa2ae6595",
   "metadata": {
    "scrolled": true
   },
   "outputs": [
    {
     "name": "stdout",
     "output_type": "stream",
     "text": [
      "Best Anime by Type:\n"
     ]
    },
    {
     "data": {
      "text/html": [
       "<div>\n",
       "<style scoped>\n",
       "    .dataframe tbody tr th:only-of-type {\n",
       "        vertical-align: middle;\n",
       "    }\n",
       "\n",
       "    .dataframe tbody tr th {\n",
       "        vertical-align: top;\n",
       "    }\n",
       "\n",
       "    .dataframe thead th {\n",
       "        text-align: right;\n",
       "    }\n",
       "</style>\n",
       "<table border=\"1\" class=\"dataframe\">\n",
       "  <thead>\n",
       "    <tr style=\"text-align: right;\">\n",
       "      <th></th>\n",
       "      <th>top_anime_1</th>\n",
       "      <th>top_anime_2</th>\n",
       "      <th>top_anime_3</th>\n",
       "      <th>avg_score</th>\n",
       "    </tr>\n",
       "    <tr>\n",
       "      <th>Type</th>\n",
       "      <th></th>\n",
       "      <th></th>\n",
       "      <th></th>\n",
       "      <th></th>\n",
       "    </tr>\n",
       "  </thead>\n",
       "  <tbody>\n",
       "    <tr>\n",
       "      <th>TV</th>\n",
       "      <td>Attack on Titan</td>\n",
       "      <td>Death Note</td>\n",
       "      <td>Fullmetal Alchemist: Brotherhood</td>\n",
       "      <td>8.189525</td>\n",
       "    </tr>\n",
       "    <tr>\n",
       "      <th>TV Special</th>\n",
       "      <td>Attack on Titan: Final Season - The Final Chap...</td>\n",
       "      <td>Nekomonogatari Black</td>\n",
       "      <td>Hanamonogatari</td>\n",
       "      <td>8.154091</td>\n",
       "    </tr>\n",
       "    <tr>\n",
       "      <th>Movie</th>\n",
       "      <td>Your Name.</td>\n",
       "      <td>A Silent Voice</td>\n",
       "      <td>Spirited Away</td>\n",
       "      <td>8.144766</td>\n",
       "    </tr>\n",
       "    <tr>\n",
       "      <th>ONA</th>\n",
       "      <td>JoJo's Bizarre Adventure: Stone Ocean</td>\n",
       "      <td>The King's Avatar</td>\n",
       "      <td>Link Click</td>\n",
       "      <td>8.112830</td>\n",
       "    </tr>\n",
       "    <tr>\n",
       "      <th>Special</th>\n",
       "      <td>Steins;Gate: Egoistic Poriomania</td>\n",
       "      <td>ReLIFE: Final Arc</td>\n",
       "      <td>Violet Evergarden: The Day You Understand \"I L...</td>\n",
       "      <td>8.048649</td>\n",
       "    </tr>\n",
       "    <tr>\n",
       "      <th>OVA</th>\n",
       "      <td>Hellsing Ultimate</td>\n",
       "      <td>FLCL</td>\n",
       "      <td>Attack on Titan: No Regrets</td>\n",
       "      <td>8.042262</td>\n",
       "    </tr>\n",
       "  </tbody>\n",
       "</table>\n",
       "</div>"
      ],
      "text/plain": [
       "                                                  top_anime_1  \\\n",
       "Type                                                            \n",
       "TV                                            Attack on Titan   \n",
       "TV Special  Attack on Titan: Final Season - The Final Chap...   \n",
       "Movie                                              Your Name.   \n",
       "ONA                     JoJo's Bizarre Adventure: Stone Ocean   \n",
       "Special                      Steins;Gate: Egoistic Poriomania   \n",
       "OVA                                         Hellsing Ultimate   \n",
       "\n",
       "                     top_anime_2  \\\n",
       "Type                               \n",
       "TV                    Death Note   \n",
       "TV Special  Nekomonogatari Black   \n",
       "Movie             A Silent Voice   \n",
       "ONA            The King's Avatar   \n",
       "Special        ReLIFE: Final Arc   \n",
       "OVA                         FLCL   \n",
       "\n",
       "                                                  top_anime_3  avg_score  \n",
       "Type                                                                      \n",
       "TV                           Fullmetal Alchemist: Brotherhood   8.189525  \n",
       "TV Special                                     Hanamonogatari   8.154091  \n",
       "Movie                                           Spirited Away   8.144766  \n",
       "ONA                                                Link Click   8.112830  \n",
       "Special     Violet Evergarden: The Day You Understand \"I L...   8.048649  \n",
       "OVA                               Attack on Titan: No Regrets   8.042262  "
      ]
     },
     "execution_count": 295,
     "metadata": {},
     "output_type": "execute_result"
    }
   ],
   "source": [
    "# Group by 'Type' and calculate the average score per type, also include the top anime names\n",
    "type_best_anime = df.groupby('Type').agg(\n",
    "    top_anime_1=('Title', lambda x: x.dropna().astype(str).iloc[0] if len(x) > 0 else ''),\n",
    "    top_anime_2=('Title', lambda x: x.dropna().astype(str).iloc[1] if len(x) > 1 else ''),\n",
    "    top_anime_3=('Title', lambda x: x.dropna().astype(str).iloc[2] if len(x) > 2 else ''),\n",
    "    avg_score=('Score', 'mean')  # Calculate the average score per type\n",
    ").sort_values(by='avg_score', ascending=False)\n",
    "\n",
    "# Display the top 10 types with their best anime and average score\n",
    "print(\"Best Anime by Type:\")\n",
    "type_best_anime.head(10)\n"
   ]
  },
  {
   "cell_type": "code",
   "execution_count": 296,
   "id": "a5b27f26-9c51-4dec-949e-9d7e93507ce0",
   "metadata": {},
   "outputs": [],
   "source": [
    "#print(\"\\nPreview of the Dataset:\")\n",
    "#anime_data.head()"
   ]
  },
  {
   "cell_type": "code",
   "execution_count": 297,
   "id": "b481219e-30f8-4bdc-a9d2-3922a8215096",
   "metadata": {},
   "outputs": [
    {
     "data": {
      "image/png": "[encoded data removed]",
      "text/plain": [
       "<Figure size 900x300 with 1 Axes>"
      ]
     },
     "metadata": {},
     "output_type": "display_data"
    }
   ],
   "source": [
    "import matplotlib.pyplot as plt\n",
    "import seaborn as sns\n",
    "\n",
    "# Plot the distribution of Anime Scores\n",
    "plt.figure(figsize=(9, 3))\n",
    "sns.histplot(df['Score'], kde=True, color='purple', bins=30)\n",
    "plt.title(\"Distribution of Anime Scores\")\n",
    "plt.xlabel(\"Score\")\n",
    "plt.ylabel(\"Frequency\")\n",
    "plt.show()"
   ]
  },
  {
   "cell_type": "code",
   "execution_count": 298,
   "id": "45bad00f-dbd2-4075-8036-5103dad28c2d",
   "metadata": {},
   "outputs": [
    {
     "data": {
      "image/png": "[encoded data removed]",
      "text/plain": [
       "<Figure size 1000x300 with 1 Axes>"
      ]
     },
     "metadata": {},
     "output_type": "display_data"
    }
   ],
   "source": [
    "# Clean the Genres column again (if needed)\n",
    "df['Genres'] = df['Genres'].fillna('')  # Ensure no NaN values\n",
    "df['Genres'] = df['Genres'].apply(lambda x: x.split(', ') if x else [])  # Split genres into lists\n",
    "\n",
    "# Exploding the list of genres into individual rows\n",
    "exploded_genres = df['Genres'].explode()\n",
    "\n",
    "# Count the occurrences of each genre\n",
    "genre_counts = exploded_genres.value_counts().head(10)\n",
    "\n",
    "# Plot the top 10 genres\n",
    "plt.figure(figsize=(10, 3))\n",
    "sns.barplot(x=genre_counts.values, y=genre_counts.index, hue=genre_counts.index, dodge=False, palette='viridis')\n",
    "plt.title('Top 10 Most Common Genres', fontsize=16)\n",
    "plt.xlabel('Count', fontsize=12)\n",
    "plt.ylabel('Genre', fontsize=12)\n",
    "plt.show()\n"
   ]
  },
  {
   "cell_type": "code",
   "execution_count": 299,
   "id": "a42dec28-c99a-47f7-99a7-0ba4f6fa8cb1",
   "metadata": {},
   "outputs": [
    {
     "data": {
      "image/png": "[encoded data removed]",
      "text/plain": [
       "<Figure size 800x300 with 1 Axes>"
      ]
     },
     "metadata": {},
     "output_type": "display_data"
    }
   ],
   "source": [
    "# Count of Anime by Status\n",
    "status_counts = df['Status'].value_counts()\n",
    "\n",
    "# Plot the distribution of Status\n",
    "plt.figure(figsize=(8, 3))\n",
    "status_counts.plot(kind='bar', color='skyblue')\n",
    "plt.title(\"Count of Anime by Status\")\n",
    "plt.xlabel(\"Status\")\n",
    "plt.ylabel(\"Count\")\n",
    "plt.xticks(rotation=45)\n",
    "plt.show()\n"
   ]
  },
  {
   "cell_type": "code",
   "execution_count": 300,
   "id": "e9734cba-b12b-425f-a44a-ee095220ff5f",
   "metadata": {},
   "outputs": [
    {
     "name": "stdout",
     "output_type": "stream",
     "text": [
      "0    [Action, Award Winning, Drama, Suspense]\n",
      "1                    [Supernatural, Suspense]\n",
      "2         [Action, Adventure, Drama, Fantasy]\n",
      "3                            [Action, Comedy]\n",
      "4            [Action, Award Winning, Fantasy]\n",
      "Name: Genres, dtype: object\n"
     ]
    }
   ],
   "source": [
    "#print(genre_counts.head())\n",
    "print(df['Genres'].head())  # View the first few rows of the 'Genres' column\n"
   ]
  },
  {
   "cell_type": "code",
   "execution_count": 301,
   "id": "f12b0c09-5bb2-44ea-beba-59e4eff4dc33",
   "metadata": {},
   "outputs": [
    {
     "data": {
      "application/vnd.plotly.v1+json": {
       "config": {
        "plotlyServerURL": "https://plot.ly"
       },
       "data": [
        {
         "customdata": [
          [
           "Action"
          ],
          [
           "Drama"
          ],
          [
           "Fantasy"
          ],
          [
           "Comedy"
          ],
          [
           "Adventure"
          ],
          [
           "Sci-Fi"
          ],
          [
           "Romance"
          ],
          [
           "Mystery"
          ],
          [
           "Supernatural"
          ],
          [
           "Award Winning"
          ]
         ],
         "domain": {
          "x": [
           0,
           1
          ],
          "y": [
           0,
           1
          ]
         },
         "hole": 0.2,
         "hovertemplate": "Anime Genre=%{customdata[0]}<br>Number of Anime=%{value}<extra></extra>",
         "labels": [
          "Action",
          "Drama",
          "Fantasy",
          "Comedy",
          "Adventure",
          "Sci-Fi",
          "Romance",
          "Mystery",
          "Supernatural",
          "Award Winning"
         ],
         "legendgroup": "",
         "marker": {
          "colors": [
           "#636efa",
           "#EF553B",
           "#00cc96",
           "#ab63fa",
           "#FFA15A",
           "#19d3f3",
           "#FF6692",
           "#B6E880",
           "#FF97FF",
           "#FECB52"
          ]
         },
         "name": "",
         "showlegend": true,
         "textinfo": "percent",
         "textposition": "outside",
         "type": "pie",
         "values": [
          366,
          288,
          262,
          242,
          226,
          180,
          155,
          149,
          147,
          80
         ]
        }
       ],
       "layout": {
        "height": 600,
        "legend": {
         "tracegroupgap": 0
        },
        "margin": {
         "b": 40,
         "l": 40,
         "r": 40,
         "t": 40
        },
        "template": {
         "data": {
          "bar": [
           {
            "error_x": {
             "color": "#2a3f5f"
            },
            "error_y": {
             "color": "#2a3f5f"
            },
            "marker": {
             "line": {
              "color": "#E5ECF6",
              "width": 0.5
             },
             "pattern": {
              "fillmode": "overlay",
              "size": 10,
              "solidity": 0.2
             }
            },
            "type": "bar"
           }
          ],
          "barpolar": [
           {
            "marker": {
             "line": {
              "color": "#E5ECF6",
              "width": 0.5
             },
             "pattern": {
              "fillmode": "overlay",
              "size": 10,
              "solidity": 0.2
             }
            },
            "type": "barpolar"
           }
          ],
          "carpet": [
           {
            "aaxis": {
             "endlinecolor": "#2a3f5f",
             "gridcolor": "white",
             "linecolor": "white",
             "minorgridcolor": "white",
             "startlinecolor": "#2a3f5f"
            },
            "baxis": {
             "endlinecolor": "#2a3f5f",
             "gridcolor": "white",
             "linecolor": "white",
             "minorgridcolor": "white",
             "startlinecolor": "#2a3f5f"
            },
            "type": "carpet"
           }
          ],
          "choropleth": [
           {
            "colorbar": {
             "outlinewidth": 0,
             "ticks": ""
            },
            "type": "choropleth"
           }
          ],
          "contour": [
           {
            "colorbar": {
             "outlinewidth": 0,
             "ticks": ""
            },
            "colorscale": [
             [
              0,
              "#0d0887"
             ],
             [
              0.1111111111111111,
              "#46039f"
             ],
             [
              0.2222222222222222,
              "#7201a8"
             ],
             [
              0.3333333333333333,
              "#9c179e"
             ],
             [
              0.4444444444444444,
              "#bd3786"
             ],
             [
              0.5555555555555556,
              "#d8576b"
             ],
             [
              0.6666666666666666,
              "#ed7953"
             ],
             [
              0.7777777777777778,
              "#fb9f3a"
             ],
             [
              0.8888888888888888,
              "#fdca26"
             ],
             [
              1,
              "#f0f921"
             ]
            ],
            "type": "contour"
           }
          ],
          "contourcarpet": [
           {
            "colorbar": {
             "outlinewidth": 0,
             "ticks": ""
            },
            "type": "contourcarpet"
           }
          ],
          "heatmap": [
           {
            "colorbar": {
             "outlinewidth": 0,
             "ticks": ""
            },
            "colorscale": [
             [
              0,
              "#0d0887"
             ],
             [
              0.1111111111111111,
              "#46039f"
             ],
             [
              0.2222222222222222,
              "#7201a8"
             ],
             [
              0.3333333333333333,
              "#9c179e"
             ],
             [
              0.4444444444444444,
              "#bd3786"
             ],
             [
              0.5555555555555556,
              "#d8576b"
             ],
             [
              0.6666666666666666,
              "#ed7953"
             ],
             [
              0.7777777777777778,
              "#fb9f3a"
             ],
             [
              0.8888888888888888,
              "#fdca26"
             ],
             [
              1,
              "#f0f921"
             ]
            ],
            "type": "heatmap"
           }
          ],
          "heatmapgl": [
           {
            "colorbar": {
             "outlinewidth": 0,
             "ticks": ""
            },
            "colorscale": [
             [
              0,
              "#0d0887"
             ],
             [
              0.1111111111111111,
              "#46039f"
             ],
             [
              0.2222222222222222,
              "#7201a8"
             ],
             [
              0.3333333333333333,
              "#9c179e"
             ],
             [
              0.4444444444444444,
              "#bd3786"
             ],
             [
              0.5555555555555556,
              "#d8576b"
             ],
             [
              0.6666666666666666,
              "#ed7953"
             ],
             [
              0.7777777777777778,
              "#fb9f3a"
             ],
             [
              0.8888888888888888,
              "#fdca26"
             ],
             [
              1,
              "#f0f921"
             ]
            ],
            "type": "heatmapgl"
           }
          ],
          "histogram": [
           {
            "marker": {
             "pattern": {
              "fillmode": "overlay",
              "size": 10,
              "solidity": 0.2
             }
            },
            "type": "histogram"
           }
          ],
          "histogram2d": [
           {
            "colorbar": {
             "outlinewidth": 0,
             "ticks": ""
            },
            "colorscale": [
             [
              0,
              "#0d0887"
             ],
             [
              0.1111111111111111,
              "#46039f"
             ],
             [
              0.2222222222222222,
              "#7201a8"
             ],
             [
              0.3333333333333333,
              "#9c179e"
             ],
             [
              0.4444444444444444,
              "#bd3786"
             ],
             [
              0.5555555555555556,
              "#d8576b"
             ],
             [
              0.6666666666666666,
              "#ed7953"
             ],
             [
              0.7777777777777778,
              "#fb9f3a"
             ],
             [
              0.8888888888888888,
              "#fdca26"
             ],
             [
              1,
              "#f0f921"
             ]
            ],
            "type": "histogram2d"
           }
          ],
          "histogram2dcontour": [
           {
            "colorbar": {
             "outlinewidth": 0,
             "ticks": ""
            },
            "colorscale": [
             [
              0,
              "#0d0887"
             ],
             [
              0.1111111111111111,
              "#46039f"
             ],
             [
              0.2222222222222222,
              "#7201a8"
             ],
             [
              0.3333333333333333,
              "#9c179e"
             ],
             [
              0.4444444444444444,
              "#bd3786"
             ],
             [
              0.5555555555555556,
              "#d8576b"
             ],
             [
              0.6666666666666666,
              "#ed7953"
             ],
             [
              0.7777777777777778,
              "#fb9f3a"
             ],
             [
              0.8888888888888888,
              "#fdca26"
             ],
             [
              1,
              "#f0f921"
             ]
            ],
            "type": "histogram2dcontour"
           }
          ],
          "mesh3d": [
           {
            "colorbar": {
             "outlinewidth": 0,
             "ticks": ""
            },
            "type": "mesh3d"
           }
          ],
          "parcoords": [
           {
            "line": {
             "colorbar": {
              "outlinewidth": 0,
              "ticks": ""
             }
            },
            "type": "parcoords"
           }
          ],
          "pie": [
           {
            "automargin": true,
            "type": "pie"
           }
          ],
          "scatter": [
           {
            "fillpattern": {
             "fillmode": "overlay",
             "size": 10,
             "solidity": 0.2
            },
            "type": "scatter"
           }
          ],
          "scatter3d": [
           {
            "line": {
             "colorbar": {
              "outlinewidth": 0,
              "ticks": ""
             }
            },
            "marker": {
             "colorbar": {
              "outlinewidth": 0,
              "ticks": ""
             }
            },
            "type": "scatter3d"
           }
          ],
          "scattercarpet": [
           {
            "marker": {
             "colorbar": {
              "outlinewidth": 0,
              "ticks": ""
             }
            },
            "type": "scattercarpet"
           }
          ],
          "scattergeo": [
           {
            "marker": {
             "colorbar": {
              "outlinewidth": 0,
              "ticks": ""
             }
            },
            "type": "scattergeo"
           }
          ],
          "scattergl": [
           {
            "marker": {
             "colorbar": {
              "outlinewidth": 0,
              "ticks": ""
             }
            },
            "type": "scattergl"
           }
          ],
          "scattermapbox": [
           {
            "marker": {
             "colorbar": {
              "outlinewidth": 0,
              "ticks": ""
             }
            },
            "type": "scattermapbox"
           }
          ],
          "scatterpolar": [
           {
            "marker": {
             "colorbar": {
              "outlinewidth": 0,
              "ticks": ""
             }
            },
            "type": "scatterpolar"
           }
          ],
          "scatterpolargl": [
           {
            "marker": {
             "colorbar": {
              "outlinewidth": 0,
              "ticks": ""
             }
            },
            "type": "scatterpolargl"
           }
          ],
          "scatterternary": [
           {
            "marker": {
             "colorbar": {
              "outlinewidth": 0,
              "ticks": ""
             }
            },
            "type": "scatterternary"
           }
          ],
          "surface": [
           {
            "colorbar": {
             "outlinewidth": 0,
             "ticks": ""
            },
            "colorscale": [
             [
              0,
              "#0d0887"
             ],
             [
              0.1111111111111111,
              "#46039f"
             ],
             [
              0.2222222222222222,
              "#7201a8"
             ],
             [
              0.3333333333333333,
              "#9c179e"
             ],
             [
              0.4444444444444444,
              "#bd3786"
             ],
             [
              0.5555555555555556,
              "#d8576b"
             ],
             [
              0.6666666666666666,
              "#ed7953"
             ],
             [
              0.7777777777777778,
              "#fb9f3a"
             ],
             [
              0.8888888888888888,
              "#fdca26"
             ],
             [
              1,
              "#f0f921"
             ]
            ],
            "type": "surface"
           }
          ],
          "table": [
           {
            "cells": {
             "fill": {
              "color": "#EBF0F8"
             },
             "line": {
              "color": "white"
             }
            },
            "header": {
             "fill": {
              "color": "#C8D4E3"
             },
             "line": {
              "color": "white"
             }
            },
            "type": "table"
           }
          ]
         },
         "layout": {
          "annotationdefaults": {
           "arrowcolor": "#2a3f5f",
           "arrowhead": 0,
           "arrowwidth": 1
          },
          "autotypenumbers": "strict",
          "coloraxis": {
           "colorbar": {
            "outlinewidth": 0,
            "ticks": ""
           }
          },
          "colorscale": {
           "diverging": [
            [
             0,
             "#8e0152"
            ],
            [
             0.1,
             "#c51b7d"
            ],
            [
             0.2,
             "#de77ae"
            ],
            [
             0.3,
             "#f1b6da"
            ],
            [
             0.4,
             "#fde0ef"
            ],
            [
             0.5,
             "#f7f7f7"
            ],
            [
             0.6,
             "#e6f5d0"
            ],
            [
             0.7,
             "#b8e186"
            ],
            [
             0.8,
             "#7fbc41"
            ],
            [
             0.9,
             "#4d9221"
            ],
            [
             1,
             "#276419"
            ]
           ],
           "sequential": [
            [
             0,
             "#0d0887"
            ],
            [
             0.1111111111111111,
             "#46039f"
            ],
            [
             0.2222222222222222,
             "#7201a8"
            ],
            [
             0.3333333333333333,
             "#9c179e"
            ],
            [
             0.4444444444444444,
             "#bd3786"
            ],
            [
             0.5555555555555556,
             "#d8576b"
            ],
            [
             0.6666666666666666,
             "#ed7953"
            ],
            [
             0.7777777777777778,
             "#fb9f3a"
            ],
            [
             0.8888888888888888,
             "#fdca26"
            ],
            [
             1,
             "#f0f921"
            ]
           ],
           "sequentialminus": [
            [
             0,
             "#0d0887"
            ],
            [
             0.1111111111111111,
             "#46039f"
            ],
            [
             0.2222222222222222,
             "#7201a8"
            ],
            [
             0.3333333333333333,
             "#9c179e"
            ],
            [
             0.4444444444444444,
             "#bd3786"
            ],
            [
             0.5555555555555556,
             "#d8576b"
            ],
            [
             0.6666666666666666,
             "#ed7953"
            ],
            [
             0.7777777777777778,
             "#fb9f3a"
            ],
            [
             0.8888888888888888,
             "#fdca26"
            ],
            [
             1,
             "#f0f921"
            ]
           ]
          },
          "colorway": [
           "#636efa",
           "#EF553B",
           "#00cc96",
           "#ab63fa",
           "#FFA15A",
           "#19d3f3",
           "#FF6692",
           "#B6E880",
           "#FF97FF",
           "#FECB52"
          ],
          "font": {
           "color": "#2a3f5f"
          },
          "geo": {
           "bgcolor": "white",
           "lakecolor": "white",
           "landcolor": "#E5ECF6",
           "showlakes": true,
           "showland": true,
           "subunitcolor": "white"
          },
          "hoverlabel": {
           "align": "left"
          },
          "hovermode": "closest",
          "mapbox": {
           "style": "light"
          },
          "paper_bgcolor": "white",
          "plot_bgcolor": "#E5ECF6",
          "polar": {
           "angularaxis": {
            "gridcolor": "white",
            "linecolor": "white",
            "ticks": ""
           },
           "bgcolor": "#E5ECF6",
           "radialaxis": {
            "gridcolor": "white",
            "linecolor": "white",
            "ticks": ""
           }
          },
          "scene": {
           "xaxis": {
            "backgroundcolor": "#E5ECF6",
            "gridcolor": "white",
            "gridwidth": 2,
            "linecolor": "white",
            "showbackground": true,
            "ticks": "",
            "zerolinecolor": "white"
           },
           "yaxis": {
            "backgroundcolor": "#E5ECF6",
            "gridcolor": "white",
            "gridwidth": 2,
            "linecolor": "white",
            "showbackground": true,
            "ticks": "",
            "zerolinecolor": "white"
           },
           "zaxis": {
            "backgroundcolor": "#E5ECF6",
            "gridcolor": "white",
            "gridwidth": 2,
            "linecolor": "white",
            "showbackground": true,
            "ticks": "",
            "zerolinecolor": "white"
           }
          },
          "shapedefaults": {
           "line": {
            "color": "#2a3f5f"
           }
          },
          "ternary": {
           "aaxis": {
            "gridcolor": "white",
            "linecolor": "white",
            "ticks": ""
           },
           "baxis": {
            "gridcolor": "white",
            "linecolor": "white",
            "ticks": ""
           },
           "bgcolor": "#E5ECF6",
           "caxis": {
            "gridcolor": "white",
            "linecolor": "white",
            "ticks": ""
           }
          },
          "title": {
           "x": 0.05
          },
          "xaxis": {
           "automargin": true,
           "gridcolor": "white",
           "linecolor": "white",
           "ticks": "",
           "title": {
            "standoff": 15
           },
           "zerolinecolor": "white",
           "zerolinewidth": 2
          },
          "yaxis": {
           "automargin": true,
           "gridcolor": "white",
           "linecolor": "white",
           "ticks": "",
           "title": {
            "standoff": 15
           },
           "zerolinecolor": "white",
           "zerolinewidth": 2
          }
         }
        },
        "title": {
         "text": "Genre Distribution"
        },
        "width": 600
       }
      },
      "image/png": "[encoded data removed]",
      "text/html": [
       "<div>                            <div id=\"e62df58a-b602-4233-bd69-a7e291af8515\" class=\"plotly-graph-div\" style=\"height:600px; width:600px;\"></div>            <script type=\"text/javascript\">                require([\"plotly\"], function(Plotly) {                    window.PLOTLYENV=window.PLOTLYENV || {};                                    if (document.getElementById(\"e62df58a-b602-4233-bd69-a7e291af8515\")) {                    Plotly.newPlot(                        \"e62df58a-b602-4233-bd69-a7e291af8515\",                        [{\"customdata\":[[\"Action\"],[\"Drama\"],[\"Fantasy\"],[\"Comedy\"],[\"Adventure\"],[\"Sci-Fi\"],[\"Romance\"],[\"Mystery\"],[\"Supernatural\"],[\"Award Winning\"]],\"domain\":{\"x\":[0.0,1.0],\"y\":[0.0,1.0]},\"hole\":0.2,\"hovertemplate\":\"Anime Genre=%{customdata[0]}\\u003cbr\\u003eNumber of Anime=%{value}\\u003cextra\\u003e\\u003c\\u002fextra\\u003e\",\"labels\":[\"Action\",\"Drama\",\"Fantasy\",\"Comedy\",\"Adventure\",\"Sci-Fi\",\"Romance\",\"Mystery\",\"Supernatural\",\"Award Winning\"],\"legendgroup\":\"\",\"marker\":{\"colors\":[\"#636efa\",\"#EF553B\",\"#00cc96\",\"#ab63fa\",\"#FFA15A\",\"#19d3f3\",\"#FF6692\",\"#B6E880\",\"#FF97FF\",\"#FECB52\"]},\"name\":\"\",\"showlegend\":true,\"values\":[366,288,262,242,226,180,155,149,147,80],\"type\":\"pie\",\"textinfo\":\"percent\",\"textposition\":\"outside\"}],                        {\"template\":{\"data\":{\"histogram2dcontour\":[{\"type\":\"histogram2dcontour\",\"colorbar\":{\"outlinewidth\":0,\"ticks\":\"\"},\"colorscale\":[[0.0,\"#0d0887\"],[0.1111111111111111,\"#46039f\"],[0.2222222222222222,\"#7201a8\"],[0.3333333333333333,\"#9c179e\"],[0.4444444444444444,\"#bd3786\"],[0.5555555555555556,\"#d8576b\"],[0.6666666666666666,\"#ed7953\"],[0.7777777777777778,\"#fb9f3a\"],[0.8888888888888888,\"#fdca26\"],[1.0,\"#f0f921\"]]}],\"choropleth\":[{\"type\":\"choropleth\",\"colorbar\":{\"outlinewidth\":0,\"ticks\":\"\"}}],\"histogram2d\":[{\"type\":\"histogram2d\",\"colorbar\":{\"outlinewidth\":0,\"ticks\":\"\"},\"colorscale\":[[0.0,\"#0d0887\"],[0.1111111111111111,\"#46039f\"],[0.2222222222222222,\"#7201a8\"],[0.3333333333333333,\"#9c179e\"],[0.4444444444444444,\"#bd3786\"],[0.5555555555555556,\"#d8576b\"],[0.6666666666666666,\"#ed7953\"],[0.7777777777777778,\"#fb9f3a\"],[0.8888888888888888,\"#fdca26\"],[1.0,\"#f0f921\"]]}],\"heatmap\":[{\"type\":\"heatmap\",\"colorbar\":{\"outlinewidth\":0,\"ticks\":\"\"},\"colorscale\":[[0.0,\"#0d0887\"],[0.1111111111111111,\"#46039f\"],[0.2222222222222222,\"#7201a8\"],[0.3333333333333333,\"#9c179e\"],[0.4444444444444444,\"#bd3786\"],[0.5555555555555556,\"#d8576b\"],[0.6666666666666666,\"#ed7953\"],[0.7777777777777778,\"#fb9f3a\"],[0.8888888888888888,\"#fdca26\"],[1.0,\"#f0f921\"]]}],\"heatmapgl\":[{\"type\":\"heatmapgl\",\"colorbar\":{\"outlinewidth\":0,\"ticks\":\"\"},\"colorscale\":[[0.0,\"#0d0887\"],[0.1111111111111111,\"#46039f\"],[0.2222222222222222,\"#7201a8\"],[0.3333333333333333,\"#9c179e\"],[0.4444444444444444,\"#bd3786\"],[0.5555555555555556,\"#d8576b\"],[0.6666666666666666,\"#ed7953\"],[0.7777777777777778,\"#fb9f3a\"],[0.8888888888888888,\"#fdca26\"],[1.0,\"#f0f921\"]]}],\"contourcarpet\":[{\"type\":\"contourcarpet\",\"colorbar\":{\"outlinewidth\":0,\"ticks\":\"\"}}],\"contour\":[{\"type\":\"contour\",\"colorbar\":{\"outlinewidth\":0,\"ticks\":\"\"},\"colorscale\":[[0.0,\"#0d0887\"],[0.1111111111111111,\"#46039f\"],[0.2222222222222222,\"#7201a8\"],[0.3333333333333333,\"#9c179e\"],[0.4444444444444444,\"#bd3786\"],[0.5555555555555556,\"#d8576b\"],[0.6666666666666666,\"#ed7953\"],[0.7777777777777778,\"#fb9f3a\"],[0.8888888888888888,\"#fdca26\"],[1.0,\"#f0f921\"]]}],\"surface\":[{\"type\":\"surface\",\"colorbar\":{\"outlinewidth\":0,\"ticks\":\"\"},\"colorscale\":[[0.0,\"#0d0887\"],[0.1111111111111111,\"#46039f\"],[0.2222222222222222,\"#7201a8\"],[0.3333333333333333,\"#9c179e\"],[0.4444444444444444,\"#bd3786\"],[0.5555555555555556,\"#d8576b\"],[0.6666666666666666,\"#ed7953\"],[0.7777777777777778,\"#fb9f3a\"],[0.8888888888888888,\"#fdca26\"],[1.0,\"#f0f921\"]]}],\"mesh3d\":[{\"type\":\"mesh3d\",\"colorbar\":{\"outlinewidth\":0,\"ticks\":\"\"}}],\"scatter\":[{\"fillpattern\":{\"fillmode\":\"overlay\",\"size\":10,\"solidity\":0.2},\"type\":\"scatter\"}],\"parcoords\":[{\"type\":\"parcoords\",\"line\":{\"colorbar\":{\"outlinewidth\":0,\"ticks\":\"\"}}}],\"scatterpolargl\":[{\"type\":\"scatterpolargl\",\"marker\":{\"colorbar\":{\"outlinewidth\":0,\"ticks\":\"\"}}}],\"bar\":[{\"error_x\":{\"color\":\"#2a3f5f\"},\"error_y\":{\"color\":\"#2a3f5f\"},\"marker\":{\"line\":{\"color\":\"#E5ECF6\",\"width\":0.5},\"pattern\":{\"fillmode\":\"overlay\",\"size\":10,\"solidity\":0.2}},\"type\":\"bar\"}],\"scattergeo\":[{\"type\":\"scattergeo\",\"marker\":{\"colorbar\":{\"outlinewidth\":0,\"ticks\":\"\"}}}],\"scatterpolar\":[{\"type\":\"scatterpolar\",\"marker\":{\"colorbar\":{\"outlinewidth\":0,\"ticks\":\"\"}}}],\"histogram\":[{\"marker\":{\"pattern\":{\"fillmode\":\"overlay\",\"size\":10,\"solidity\":0.2}},\"type\":\"histogram\"}],\"scattergl\":[{\"type\":\"scattergl\",\"marker\":{\"colorbar\":{\"outlinewidth\":0,\"ticks\":\"\"}}}],\"scatter3d\":[{\"type\":\"scatter3d\",\"line\":{\"colorbar\":{\"outlinewidth\":0,\"ticks\":\"\"}},\"marker\":{\"colorbar\":{\"outlinewidth\":0,\"ticks\":\"\"}}}],\"scattermapbox\":[{\"type\":\"scattermapbox\",\"marker\":{\"colorbar\":{\"outlinewidth\":0,\"ticks\":\"\"}}}],\"scatterternary\":[{\"type\":\"scatterternary\",\"marker\":{\"colorbar\":{\"outlinewidth\":0,\"ticks\":\"\"}}}],\"scattercarpet\":[{\"type\":\"scattercarpet\",\"marker\":{\"colorbar\":{\"outlinewidth\":0,\"ticks\":\"\"}}}],\"carpet\":[{\"aaxis\":{\"endlinecolor\":\"#2a3f5f\",\"gridcolor\":\"white\",\"linecolor\":\"white\",\"minorgridcolor\":\"white\",\"startlinecolor\":\"#2a3f5f\"},\"baxis\":{\"endlinecolor\":\"#2a3f5f\",\"gridcolor\":\"white\",\"linecolor\":\"white\",\"minorgridcolor\":\"white\",\"startlinecolor\":\"#2a3f5f\"},\"type\":\"carpet\"}],\"table\":[{\"cells\":{\"fill\":{\"color\":\"#EBF0F8\"},\"line\":{\"color\":\"white\"}},\"header\":{\"fill\":{\"color\":\"#C8D4E3\"},\"line\":{\"color\":\"white\"}},\"type\":\"table\"}],\"barpolar\":[{\"marker\":{\"line\":{\"color\":\"#E5ECF6\",\"width\":0.5},\"pattern\":{\"fillmode\":\"overlay\",\"size\":10,\"solidity\":0.2}},\"type\":\"barpolar\"}],\"pie\":[{\"automargin\":true,\"type\":\"pie\"}]},\"layout\":{\"autotypenumbers\":\"strict\",\"colorway\":[\"#636efa\",\"#EF553B\",\"#00cc96\",\"#ab63fa\",\"#FFA15A\",\"#19d3f3\",\"#FF6692\",\"#B6E880\",\"#FF97FF\",\"#FECB52\"],\"font\":{\"color\":\"#2a3f5f\"},\"hovermode\":\"closest\",\"hoverlabel\":{\"align\":\"left\"},\"paper_bgcolor\":\"white\",\"plot_bgcolor\":\"#E5ECF6\",\"polar\":{\"bgcolor\":\"#E5ECF6\",\"angularaxis\":{\"gridcolor\":\"white\",\"linecolor\":\"white\",\"ticks\":\"\"},\"radialaxis\":{\"gridcolor\":\"white\",\"linecolor\":\"white\",\"ticks\":\"\"}},\"ternary\":{\"bgcolor\":\"#E5ECF6\",\"aaxis\":{\"gridcolor\":\"white\",\"linecolor\":\"white\",\"ticks\":\"\"},\"baxis\":{\"gridcolor\":\"white\",\"linecolor\":\"white\",\"ticks\":\"\"},\"caxis\":{\"gridcolor\":\"white\",\"linecolor\":\"white\",\"ticks\":\"\"}},\"coloraxis\":{\"colorbar\":{\"outlinewidth\":0,\"ticks\":\"\"}},\"colorscale\":{\"sequential\":[[0.0,\"#0d0887\"],[0.1111111111111111,\"#46039f\"],[0.2222222222222222,\"#7201a8\"],[0.3333333333333333,\"#9c179e\"],[0.4444444444444444,\"#bd3786\"],[0.5555555555555556,\"#d8576b\"],[0.6666666666666666,\"#ed7953\"],[0.7777777777777778,\"#fb9f3a\"],[0.8888888888888888,\"#fdca26\"],[1.0,\"#f0f921\"]],\"sequentialminus\":[[0.0,\"#0d0887\"],[0.1111111111111111,\"#46039f\"],[0.2222222222222222,\"#7201a8\"],[0.3333333333333333,\"#9c179e\"],[0.4444444444444444,\"#bd3786\"],[0.5555555555555556,\"#d8576b\"],[0.6666666666666666,\"#ed7953\"],[0.7777777777777778,\"#fb9f3a\"],[0.8888888888888888,\"#fdca26\"],[1.0,\"#f0f921\"]],\"diverging\":[[0,\"#8e0152\"],[0.1,\"#c51b7d\"],[0.2,\"#de77ae\"],[0.3,\"#f1b6da\"],[0.4,\"#fde0ef\"],[0.5,\"#f7f7f7\"],[0.6,\"#e6f5d0\"],[0.7,\"#b8e186\"],[0.8,\"#7fbc41\"],[0.9,\"#4d9221\"],[1,\"#276419\"]]},\"xaxis\":{\"gridcolor\":\"white\",\"linecolor\":\"white\",\"ticks\":\"\",\"title\":{\"standoff\":15},\"zerolinecolor\":\"white\",\"automargin\":true,\"zerolinewidth\":2},\"yaxis\":{\"gridcolor\":\"white\",\"linecolor\":\"white\",\"ticks\":\"\",\"title\":{\"standoff\":15},\"zerolinecolor\":\"white\",\"automargin\":true,\"zerolinewidth\":2},\"scene\":{\"xaxis\":{\"backgroundcolor\":\"#E5ECF6\",\"gridcolor\":\"white\",\"linecolor\":\"white\",\"showbackground\":true,\"ticks\":\"\",\"zerolinecolor\":\"white\",\"gridwidth\":2},\"yaxis\":{\"backgroundcolor\":\"#E5ECF6\",\"gridcolor\":\"white\",\"linecolor\":\"white\",\"showbackground\":true,\"ticks\":\"\",\"zerolinecolor\":\"white\",\"gridwidth\":2},\"zaxis\":{\"backgroundcolor\":\"#E5ECF6\",\"gridcolor\":\"white\",\"linecolor\":\"white\",\"showbackground\":true,\"ticks\":\"\",\"zerolinecolor\":\"white\",\"gridwidth\":2}},\"shapedefaults\":{\"line\":{\"color\":\"#2a3f5f\"}},\"annotationdefaults\":{\"arrowcolor\":\"#2a3f5f\",\"arrowhead\":0,\"arrowwidth\":1},\"geo\":{\"bgcolor\":\"white\",\"landcolor\":\"#E5ECF6\",\"subunitcolor\":\"white\",\"showland\":true,\"showlakes\":true,\"lakecolor\":\"white\"},\"title\":{\"x\":0.05},\"mapbox\":{\"style\":\"light\"}}},\"legend\":{\"tracegroupgap\":0},\"title\":{\"text\":\"Genre Distribution\"},\"margin\":{\"t\":40,\"b\":40,\"l\":40,\"r\":40},\"width\":600,\"height\":600},                        {\"responsive\": true}                    ).then(function(){\n",
       "                            \n",
       "var gd = document.getElementById('e62df58a-b602-4233-bd69-a7e291af8515');\n",
       "var x = new MutationObserver(function (mutations, observer) {{\n",
       "        var display = window.getComputedStyle(gd).display;\n",
       "        if (!display || display === 'none') {{\n",
       "            console.log([gd, 'removed!']);\n",
       "            Plotly.purge(gd);\n",
       "            observer.disconnect();\n",
       "        }}\n",
       "}});\n",
       "\n",
       "// Listen for the removal of the full notebook cells\n",
       "var notebookContainer = gd.closest('#notebook-container');\n",
       "if (notebookContainer) {{\n",
       "    x.observe(notebookContainer, {childList: true});\n",
       "}}\n",
       "\n",
       "// Listen for the clearing of the current output cell\n",
       "var outputEl = gd.closest('.output');\n",
       "if (outputEl) {{\n",
       "    x.observe(outputEl, {childList: true});\n",
       "}}\n",
       "\n",
       "                        })                };                });            </script>        </div>"
      ]
     },
     "metadata": {},
     "output_type": "display_data"
    }
   ],
   "source": [
    "# Split the genres into separate rows (explode)\n",
    "genre_counts = df['Genres'].dropna().explode().value_counts().reset_index()\n",
    "\n",
    "# Rename the columns for clarity\n",
    "genre_counts.columns = ['Genre', 'Count']\n",
    "\n",
    "# limit to top 10 genres to reduce congestion\n",
    "genre_counts = genre_counts.head(10)\n",
    "\n",
    "# Create the pie chart for genre distribution without pull effect\n",
    "fig = px.pie(genre_counts, names='Genre', values='Count', title='Genre Distribution', \n",
    "             hole=0.2,  # Creates a donut chart effect (optional)\n",
    "             color='Genre',  # Colors based on 'Genre'\n",
    "             labels={'Genre': 'Anime Genre', 'Count': 'Number of Anime'})\n",
    "\n",
    "# Update the traces to show percentages outside the pie chart\n",
    "fig.update_traces(textinfo='percent', textposition='outside')\n",
    "\n",
    "\n",
    "fig.update_layout(\n",
    "    width=600,  # Adjust the width of the figure\n",
    "    height=600,  # Adjust the height of the figure\n",
    "    margin=dict(t=40, b=40, l=40, r=40)  # Add margins for spacing\n",
    ")\n",
    "\n",
    "# Display the plot\n",
    "fig.show()\n"
   ]
  },
  {
   "cell_type": "code",
   "execution_count": 302,
   "id": "e70b89c6-33c5-4c40-acbf-98e26a9aa753",
   "metadata": {},
   "outputs": [
    {
     "data": {
      "application/vnd.plotly.v1+json": {
       "config": {
        "plotlyServerURL": "https://plot.ly"
       },
       "data": [
        {
         "customdata": [
          [
           "TV"
          ],
          [
           "Movie"
          ],
          [
           "OVA"
          ],
          [
           "ONA"
          ],
          [
           "Special"
          ],
          [
           "TV Special"
          ]
         ],
         "domain": {
          "x": [
           0,
           1
          ],
          "y": [
           0,
           1
          ]
         },
         "hole": 0.3,
         "hovertemplate": "Anime Type=%{customdata[0]}<br>Number of Anime=%{value}<extra></extra>",
         "labels": [
          "TV",
          "Movie",
          "OVA",
          "ONA",
          "Special",
          "TV Special"
         ],
         "legendgroup": "",
         "marker": {
          "colors": [
           "#636efa",
           "#EF553B",
           "#00cc96",
           "#ab63fa",
           "#FFA15A",
           "#19d3f3"
          ]
         },
         "name": "",
         "showlegend": true,
         "textinfo": "percent",
         "textposition": "outside",
         "type": "pie",
         "values": [
          569,
          235,
          84,
          53,
          37,
          22
         ]
        }
       ],
       "layout": {
        "height": 500,
        "legend": {
         "tracegroupgap": 0
        },
        "template": {
         "data": {
          "bar": [
           {
            "error_x": {
             "color": "#2a3f5f"
            },
            "error_y": {
             "color": "#2a3f5f"
            },
            "marker": {
             "line": {
              "color": "#E5ECF6",
              "width": 0.5
             },
             "pattern": {
              "fillmode": "overlay",
              "size": 10,
              "solidity": 0.2
             }
            },
            "type": "bar"
           }
          ],
          "barpolar": [
           {
            "marker": {
             "line": {
              "color": "#E5ECF6",
              "width": 0.5
             },
             "pattern": {
              "fillmode": "overlay",
              "size": 10,
              "solidity": 0.2
             }
            },
            "type": "barpolar"
           }
          ],
          "carpet": [
           {
            "aaxis": {
             "endlinecolor": "#2a3f5f",
             "gridcolor": "white",
             "linecolor": "white",
             "minorgridcolor": "white",
             "startlinecolor": "#2a3f5f"
            },
            "baxis": {
             "endlinecolor": "#2a3f5f",
             "gridcolor": "white",
             "linecolor": "white",
             "minorgridcolor": "white",
             "startlinecolor": "#2a3f5f"
            },
            "type": "carpet"
           }
          ],
          "choropleth": [
           {
            "colorbar": {
             "outlinewidth": 0,
             "ticks": ""
            },
            "type": "choropleth"
           }
          ],
          "contour": [
           {
            "colorbar": {
             "outlinewidth": 0,
             "ticks": ""
            },
            "colorscale": [
             [
              0,
              "#0d0887"
             ],
             [
              0.1111111111111111,
              "#46039f"
             ],
             [
              0.2222222222222222,
              "#7201a8"
             ],
             [
              0.3333333333333333,
              "#9c179e"
             ],
             [
              0.4444444444444444,
              "#bd3786"
             ],
             [
              0.5555555555555556,
              "#d8576b"
             ],
             [
              0.6666666666666666,
              "#ed7953"
             ],
             [
              0.7777777777777778,
              "#fb9f3a"
             ],
             [
              0.8888888888888888,
              "#fdca26"
             ],
             [
              1,
              "#f0f921"
             ]
            ],
            "type": "contour"
           }
          ],
          "contourcarpet": [
           {
            "colorbar": {
             "outlinewidth": 0,
             "ticks": ""
            },
            "type": "contourcarpet"
           }
          ],
          "heatmap": [
           {
            "colorbar": {
             "outlinewidth": 0,
             "ticks": ""
            },
            "colorscale": [
             [
              0,
              "#0d0887"
             ],
             [
              0.1111111111111111,
              "#46039f"
             ],
             [
              0.2222222222222222,
              "#7201a8"
             ],
             [
              0.3333333333333333,
              "#9c179e"
             ],
             [
              0.4444444444444444,
              "#bd3786"
             ],
             [
              0.5555555555555556,
              "#d8576b"
             ],
             [
              0.6666666666666666,
              "#ed7953"
             ],
             [
              0.7777777777777778,
              "#fb9f3a"
             ],
             [
              0.8888888888888888,
              "#fdca26"
             ],
             [
              1,
              "#f0f921"
             ]
            ],
            "type": "heatmap"
           }
          ],
          "heatmapgl": [
           {
            "colorbar": {
             "outlinewidth": 0,
             "ticks": ""
            },
            "colorscale": [
             [
              0,
              "#0d0887"
             ],
             [
              0.1111111111111111,
              "#46039f"
             ],
             [
              0.2222222222222222,
              "#7201a8"
             ],
             [
              0.3333333333333333,
              "#9c179e"
             ],
             [
              0.4444444444444444,
              "#bd3786"
             ],
             [
              0.5555555555555556,
              "#d8576b"
             ],
             [
              0.6666666666666666,
              "#ed7953"
             ],
             [
              0.7777777777777778,
              "#fb9f3a"
             ],
             [
              0.8888888888888888,
              "#fdca26"
             ],
             [
              1,
              "#f0f921"
             ]
            ],
            "type": "heatmapgl"
           }
          ],
          "histogram": [
           {
            "marker": {
             "pattern": {
              "fillmode": "overlay",
              "size": 10,
              "solidity": 0.2
             }
            },
            "type": "histogram"
           }
          ],
          "histogram2d": [
           {
            "colorbar": {
             "outlinewidth": 0,
             "ticks": ""
            },
            "colorscale": [
             [
              0,
              "#0d0887"
             ],
             [
              0.1111111111111111,
              "#46039f"
             ],
             [
              0.2222222222222222,
              "#7201a8"
             ],
             [
              0.3333333333333333,
              "#9c179e"
             ],
             [
              0.4444444444444444,
              "#bd3786"
             ],
             [
              0.5555555555555556,
              "#d8576b"
             ],
             [
              0.6666666666666666,
              "#ed7953"
             ],
             [
              0.7777777777777778,
              "#fb9f3a"
             ],
             [
              0.8888888888888888,
              "#fdca26"
             ],
             [
              1,
              "#f0f921"
             ]
            ],
            "type": "histogram2d"
           }
          ],
          "histogram2dcontour": [
           {
            "colorbar": {
             "outlinewidth": 0,
             "ticks": ""
            },
            "colorscale": [
             [
              0,
              "#0d0887"
             ],
             [
              0.1111111111111111,
              "#46039f"
             ],
             [
              0.2222222222222222,
              "#7201a8"
             ],
             [
              0.3333333333333333,
              "#9c179e"
             ],
             [
              0.4444444444444444,
              "#bd3786"
             ],
             [
              0.5555555555555556,
              "#d8576b"
             ],
             [
              0.6666666666666666,
              "#ed7953"
             ],
             [
              0.7777777777777778,
              "#fb9f3a"
             ],
             [
              0.8888888888888888,
              "#fdca26"
             ],
             [
              1,
              "#f0f921"
             ]
            ],
            "type": "histogram2dcontour"
           }
          ],
          "mesh3d": [
           {
            "colorbar": {
             "outlinewidth": 0,
             "ticks": ""
            },
            "type": "mesh3d"
           }
          ],
          "parcoords": [
           {
            "line": {
             "colorbar": {
              "outlinewidth": 0,
              "ticks": ""
             }
            },
            "type": "parcoords"
           }
          ],
          "pie": [
           {
            "automargin": true,
            "type": "pie"
           }
          ],
          "scatter": [
           {
            "fillpattern": {
             "fillmode": "overlay",
             "size": 10,
             "solidity": 0.2
            },
            "type": "scatter"
           }
          ],
          "scatter3d": [
           {
            "line": {
             "colorbar": {
              "outlinewidth": 0,
              "ticks": ""
             }
            },
            "marker": {
             "colorbar": {
              "outlinewidth": 0,
              "ticks": ""
             }
            },
            "type": "scatter3d"
           }
          ],
          "scattercarpet": [
           {
            "marker": {
             "colorbar": {
              "outlinewidth": 0,
              "ticks": ""
             }
            },
            "type": "scattercarpet"
           }
          ],
          "scattergeo": [
           {
            "marker": {
             "colorbar": {
              "outlinewidth": 0,
              "ticks": ""
             }
            },
            "type": "scattergeo"
           }
          ],
          "scattergl": [
           {
            "marker": {
             "colorbar": {
              "outlinewidth": 0,
              "ticks": ""
             }
            },
            "type": "scattergl"
           }
          ],
          "scattermapbox": [
           {
            "marker": {
             "colorbar": {
              "outlinewidth": 0,
              "ticks": ""
             }
            },
            "type": "scattermapbox"
           }
          ],
          "scatterpolar": [
           {
            "marker": {
             "colorbar": {
              "outlinewidth": 0,
              "ticks": ""
             }
            },
            "type": "scatterpolar"
           }
          ],
          "scatterpolargl": [
           {
            "marker": {
             "colorbar": {
              "outlinewidth": 0,
              "ticks": ""
             }
            },
            "type": "scatterpolargl"
           }
          ],
          "scatterternary": [
           {
            "marker": {
             "colorbar": {
              "outlinewidth": 0,
              "ticks": ""
             }
            },
            "type": "scatterternary"
           }
          ],
          "surface": [
           {
            "colorbar": {
             "outlinewidth": 0,
             "ticks": ""
            },
            "colorscale": [
             [
              0,
              "#0d0887"
             ],
             [
              0.1111111111111111,
              "#46039f"
             ],
             [
              0.2222222222222222,
              "#7201a8"
             ],
             [
              0.3333333333333333,
              "#9c179e"
             ],
             [
              0.4444444444444444,
              "#bd3786"
             ],
             [
              0.5555555555555556,
              "#d8576b"
             ],
             [
              0.6666666666666666,
              "#ed7953"
             ],
             [
              0.7777777777777778,
              "#fb9f3a"
             ],
             [
              0.8888888888888888,
              "#fdca26"
             ],
             [
              1,
              "#f0f921"
             ]
            ],
            "type": "surface"
           }
          ],
          "table": [
           {
            "cells": {
             "fill": {
              "color": "#EBF0F8"
             },
             "line": {
              "color": "white"
             }
            },
            "header": {
             "fill": {
              "color": "#C8D4E3"
             },
             "line": {
              "color": "white"
             }
            },
            "type": "table"
           }
          ]
         },
         "layout": {
          "annotationdefaults": {
           "arrowcolor": "#2a3f5f",
           "arrowhead": 0,
           "arrowwidth": 1
          },
          "autotypenumbers": "strict",
          "coloraxis": {
           "colorbar": {
            "outlinewidth": 0,
            "ticks": ""
           }
          },
          "colorscale": {
           "diverging": [
            [
             0,
             "#8e0152"
            ],
            [
             0.1,
             "#c51b7d"
            ],
            [
             0.2,
             "#de77ae"
            ],
            [
             0.3,
             "#f1b6da"
            ],
            [
             0.4,
             "#fde0ef"
            ],
            [
             0.5,
             "#f7f7f7"
            ],
            [
             0.6,
             "#e6f5d0"
            ],
            [
             0.7,
             "#b8e186"
            ],
            [
             0.8,
             "#7fbc41"
            ],
            [
             0.9,
             "#4d9221"
            ],
            [
             1,
             "#276419"
            ]
           ],
           "sequential": [
            [
             0,
             "#0d0887"
            ],
            [
             0.1111111111111111,
             "#46039f"
            ],
            [
             0.2222222222222222,
             "#7201a8"
            ],
            [
             0.3333333333333333,
             "#9c179e"
            ],
            [
             0.4444444444444444,
             "#bd3786"
            ],
            [
             0.5555555555555556,
             "#d8576b"
            ],
            [
             0.6666666666666666,
             "#ed7953"
            ],
            [
             0.7777777777777778,
             "#fb9f3a"
            ],
            [
             0.8888888888888888,
             "#fdca26"
            ],
            [
             1,
             "#f0f921"
            ]
           ],
           "sequentialminus": [
            [
             0,
             "#0d0887"
            ],
            [
             0.1111111111111111,
             "#46039f"
            ],
            [
             0.2222222222222222,
             "#7201a8"
            ],
            [
             0.3333333333333333,
             "#9c179e"
            ],
            [
             0.4444444444444444,
             "#bd3786"
            ],
            [
             0.5555555555555556,
             "#d8576b"
            ],
            [
             0.6666666666666666,
             "#ed7953"
            ],
            [
             0.7777777777777778,
             "#fb9f3a"
            ],
            [
             0.8888888888888888,
             "#fdca26"
            ],
            [
             1,
             "#f0f921"
            ]
           ]
          },
          "colorway": [
           "#636efa",
           "#EF553B",
           "#00cc96",
           "#ab63fa",
           "#FFA15A",
           "#19d3f3",
           "#FF6692",
           "#B6E880",
           "#FF97FF",
           "#FECB52"
          ],
          "font": {
           "color": "#2a3f5f"
          },
          "geo": {
           "bgcolor": "white",
           "lakecolor": "white",
           "landcolor": "#E5ECF6",
           "showlakes": true,
           "showland": true,
           "subunitcolor": "white"
          },
          "hoverlabel": {
           "align": "left"
          },
          "hovermode": "closest",
          "mapbox": {
           "style": "light"
          },
          "paper_bgcolor": "white",
          "plot_bgcolor": "#E5ECF6",
          "polar": {
           "angularaxis": {
            "gridcolor": "white",
            "linecolor": "white",
            "ticks": ""
           },
           "bgcolor": "#E5ECF6",
           "radialaxis": {
            "gridcolor": "white",
            "linecolor": "white",
            "ticks": ""
           }
          },
          "scene": {
           "xaxis": {
            "backgroundcolor": "#E5ECF6",
            "gridcolor": "white",
            "gridwidth": 2,
            "linecolor": "white",
            "showbackground": true,
            "ticks": "",
            "zerolinecolor": "white"
           },
           "yaxis": {
            "backgroundcolor": "#E5ECF6",
            "gridcolor": "white",
            "gridwidth": 2,
            "linecolor": "white",
            "showbackground": true,
            "ticks": "",
            "zerolinecolor": "white"
           },
           "zaxis": {
            "backgroundcolor": "#E5ECF6",
            "gridcolor": "white",
            "gridwidth": 2,
            "linecolor": "white",
            "showbackground": true,
            "ticks": "",
            "zerolinecolor": "white"
           }
          },
          "shapedefaults": {
           "line": {
            "color": "#2a3f5f"
           }
          },
          "ternary": {
           "aaxis": {
            "gridcolor": "white",
            "linecolor": "white",
            "ticks": ""
           },
           "baxis": {
            "gridcolor": "white",
            "linecolor": "white",
            "ticks": ""
           },
           "bgcolor": "#E5ECF6",
           "caxis": {
            "gridcolor": "white",
            "linecolor": "white",
            "ticks": ""
           }
          },
          "title": {
           "x": 0.05
          },
          "xaxis": {
           "automargin": true,
           "gridcolor": "white",
           "linecolor": "white",
           "ticks": "",
           "title": {
            "standoff": 15
           },
           "zerolinecolor": "white",
           "zerolinewidth": 2
          },
          "yaxis": {
           "automargin": true,
           "gridcolor": "white",
           "linecolor": "white",
           "ticks": "",
           "title": {
            "standoff": 15
           },
           "zerolinecolor": "white",
           "zerolinewidth": 2
          }
         }
        },
        "title": {
         "text": "Anime Type Distribution"
        },
        "width": 500
       }
      },
      "image/png": "[encoded data removed]",
      "text/html": [
       "<div>                            <div id=\"3b07207b-9d3b-49e4-af0b-f3771083ab35\" class=\"plotly-graph-div\" style=\"height:500px; width:500px;\"></div>            <script type=\"text/javascript\">                require([\"plotly\"], function(Plotly) {                    window.PLOTLYENV=window.PLOTLYENV || {};                                    if (document.getElementById(\"3b07207b-9d3b-49e4-af0b-f3771083ab35\")) {                    Plotly.newPlot(                        \"3b07207b-9d3b-49e4-af0b-f3771083ab35\",                        [{\"customdata\":[[\"TV\"],[\"Movie\"],[\"OVA\"],[\"ONA\"],[\"Special\"],[\"TV Special\"]],\"domain\":{\"x\":[0.0,1.0],\"y\":[0.0,1.0]},\"hole\":0.3,\"hovertemplate\":\"Anime Type=%{customdata[0]}\\u003cbr\\u003eNumber of Anime=%{value}\\u003cextra\\u003e\\u003c\\u002fextra\\u003e\",\"labels\":[\"TV\",\"Movie\",\"OVA\",\"ONA\",\"Special\",\"TV Special\"],\"legendgroup\":\"\",\"marker\":{\"colors\":[\"#636efa\",\"#EF553B\",\"#00cc96\",\"#ab63fa\",\"#FFA15A\",\"#19d3f3\"]},\"name\":\"\",\"showlegend\":true,\"values\":[569,235,84,53,37,22],\"type\":\"pie\",\"textinfo\":\"percent\",\"textposition\":\"outside\"}],                        {\"template\":{\"data\":{\"histogram2dcontour\":[{\"type\":\"histogram2dcontour\",\"colorbar\":{\"outlinewidth\":0,\"ticks\":\"\"},\"colorscale\":[[0.0,\"#0d0887\"],[0.1111111111111111,\"#46039f\"],[0.2222222222222222,\"#7201a8\"],[0.3333333333333333,\"#9c179e\"],[0.4444444444444444,\"#bd3786\"],[0.5555555555555556,\"#d8576b\"],[0.6666666666666666,\"#ed7953\"],[0.7777777777777778,\"#fb9f3a\"],[0.8888888888888888,\"#fdca26\"],[1.0,\"#f0f921\"]]}],\"choropleth\":[{\"type\":\"choropleth\",\"colorbar\":{\"outlinewidth\":0,\"ticks\":\"\"}}],\"histogram2d\":[{\"type\":\"histogram2d\",\"colorbar\":{\"outlinewidth\":0,\"ticks\":\"\"},\"colorscale\":[[0.0,\"#0d0887\"],[0.1111111111111111,\"#46039f\"],[0.2222222222222222,\"#7201a8\"],[0.3333333333333333,\"#9c179e\"],[0.4444444444444444,\"#bd3786\"],[0.5555555555555556,\"#d8576b\"],[0.6666666666666666,\"#ed7953\"],[0.7777777777777778,\"#fb9f3a\"],[0.8888888888888888,\"#fdca26\"],[1.0,\"#f0f921\"]]}],\"heatmap\":[{\"type\":\"heatmap\",\"colorbar\":{\"outlinewidth\":0,\"ticks\":\"\"},\"colorscale\":[[0.0,\"#0d0887\"],[0.1111111111111111,\"#46039f\"],[0.2222222222222222,\"#7201a8\"],[0.3333333333333333,\"#9c179e\"],[0.4444444444444444,\"#bd3786\"],[0.5555555555555556,\"#d8576b\"],[0.6666666666666666,\"#ed7953\"],[0.7777777777777778,\"#fb9f3a\"],[0.8888888888888888,\"#fdca26\"],[1.0,\"#f0f921\"]]}],\"heatmapgl\":[{\"type\":\"heatmapgl\",\"colorbar\":{\"outlinewidth\":0,\"ticks\":\"\"},\"colorscale\":[[0.0,\"#0d0887\"],[0.1111111111111111,\"#46039f\"],[0.2222222222222222,\"#7201a8\"],[0.3333333333333333,\"#9c179e\"],[0.4444444444444444,\"#bd3786\"],[0.5555555555555556,\"#d8576b\"],[0.6666666666666666,\"#ed7953\"],[0.7777777777777778,\"#fb9f3a\"],[0.8888888888888888,\"#fdca26\"],[1.0,\"#f0f921\"]]}],\"contourcarpet\":[{\"type\":\"contourcarpet\",\"colorbar\":{\"outlinewidth\":0,\"ticks\":\"\"}}],\"contour\":[{\"type\":\"contour\",\"colorbar\":{\"outlinewidth\":0,\"ticks\":\"\"},\"colorscale\":[[0.0,\"#0d0887\"],[0.1111111111111111,\"#46039f\"],[0.2222222222222222,\"#7201a8\"],[0.3333333333333333,\"#9c179e\"],[0.4444444444444444,\"#bd3786\"],[0.5555555555555556,\"#d8576b\"],[0.6666666666666666,\"#ed7953\"],[0.7777777777777778,\"#fb9f3a\"],[0.8888888888888888,\"#fdca26\"],[1.0,\"#f0f921\"]]}],\"surface\":[{\"type\":\"surface\",\"colorbar\":{\"outlinewidth\":0,\"ticks\":\"\"},\"colorscale\":[[0.0,\"#0d0887\"],[0.1111111111111111,\"#46039f\"],[0.2222222222222222,\"#7201a8\"],[0.3333333333333333,\"#9c179e\"],[0.4444444444444444,\"#bd3786\"],[0.5555555555555556,\"#d8576b\"],[0.6666666666666666,\"#ed7953\"],[0.7777777777777778,\"#fb9f3a\"],[0.8888888888888888,\"#fdca26\"],[1.0,\"#f0f921\"]]}],\"mesh3d\":[{\"type\":\"mesh3d\",\"colorbar\":{\"outlinewidth\":0,\"ticks\":\"\"}}],\"scatter\":[{\"fillpattern\":{\"fillmode\":\"overlay\",\"size\":10,\"solidity\":0.2},\"type\":\"scatter\"}],\"parcoords\":[{\"type\":\"parcoords\",\"line\":{\"colorbar\":{\"outlinewidth\":0,\"ticks\":\"\"}}}],\"scatterpolargl\":[{\"type\":\"scatterpolargl\",\"marker\":{\"colorbar\":{\"outlinewidth\":0,\"ticks\":\"\"}}}],\"bar\":[{\"error_x\":{\"color\":\"#2a3f5f\"},\"error_y\":{\"color\":\"#2a3f5f\"},\"marker\":{\"line\":{\"color\":\"#E5ECF6\",\"width\":0.5},\"pattern\":{\"fillmode\":\"overlay\",\"size\":10,\"solidity\":0.2}},\"type\":\"bar\"}],\"scattergeo\":[{\"type\":\"scattergeo\",\"marker\":{\"colorbar\":{\"outlinewidth\":0,\"ticks\":\"\"}}}],\"scatterpolar\":[{\"type\":\"scatterpolar\",\"marker\":{\"colorbar\":{\"outlinewidth\":0,\"ticks\":\"\"}}}],\"histogram\":[{\"marker\":{\"pattern\":{\"fillmode\":\"overlay\",\"size\":10,\"solidity\":0.2}},\"type\":\"histogram\"}],\"scattergl\":[{\"type\":\"scattergl\",\"marker\":{\"colorbar\":{\"outlinewidth\":0,\"ticks\":\"\"}}}],\"scatter3d\":[{\"type\":\"scatter3d\",\"line\":{\"colorbar\":{\"outlinewidth\":0,\"ticks\":\"\"}},\"marker\":{\"colorbar\":{\"outlinewidth\":0,\"ticks\":\"\"}}}],\"scattermapbox\":[{\"type\":\"scattermapbox\",\"marker\":{\"colorbar\":{\"outlinewidth\":0,\"ticks\":\"\"}}}],\"scatterternary\":[{\"type\":\"scatterternary\",\"marker\":{\"colorbar\":{\"outlinewidth\":0,\"ticks\":\"\"}}}],\"scattercarpet\":[{\"type\":\"scattercarpet\",\"marker\":{\"colorbar\":{\"outlinewidth\":0,\"ticks\":\"\"}}}],\"carpet\":[{\"aaxis\":{\"endlinecolor\":\"#2a3f5f\",\"gridcolor\":\"white\",\"linecolor\":\"white\",\"minorgridcolor\":\"white\",\"startlinecolor\":\"#2a3f5f\"},\"baxis\":{\"endlinecolor\":\"#2a3f5f\",\"gridcolor\":\"white\",\"linecolor\":\"white\",\"minorgridcolor\":\"white\",\"startlinecolor\":\"#2a3f5f\"},\"type\":\"carpet\"}],\"table\":[{\"cells\":{\"fill\":{\"color\":\"#EBF0F8\"},\"line\":{\"color\":\"white\"}},\"header\":{\"fill\":{\"color\":\"#C8D4E3\"},\"line\":{\"color\":\"white\"}},\"type\":\"table\"}],\"barpolar\":[{\"marker\":{\"line\":{\"color\":\"#E5ECF6\",\"width\":0.5},\"pattern\":{\"fillmode\":\"overlay\",\"size\":10,\"solidity\":0.2}},\"type\":\"barpolar\"}],\"pie\":[{\"automargin\":true,\"type\":\"pie\"}]},\"layout\":{\"autotypenumbers\":\"strict\",\"colorway\":[\"#636efa\",\"#EF553B\",\"#00cc96\",\"#ab63fa\",\"#FFA15A\",\"#19d3f3\",\"#FF6692\",\"#B6E880\",\"#FF97FF\",\"#FECB52\"],\"font\":{\"color\":\"#2a3f5f\"},\"hovermode\":\"closest\",\"hoverlabel\":{\"align\":\"left\"},\"paper_bgcolor\":\"white\",\"plot_bgcolor\":\"#E5ECF6\",\"polar\":{\"bgcolor\":\"#E5ECF6\",\"angularaxis\":{\"gridcolor\":\"white\",\"linecolor\":\"white\",\"ticks\":\"\"},\"radialaxis\":{\"gridcolor\":\"white\",\"linecolor\":\"white\",\"ticks\":\"\"}},\"ternary\":{\"bgcolor\":\"#E5ECF6\",\"aaxis\":{\"gridcolor\":\"white\",\"linecolor\":\"white\",\"ticks\":\"\"},\"baxis\":{\"gridcolor\":\"white\",\"linecolor\":\"white\",\"ticks\":\"\"},\"caxis\":{\"gridcolor\":\"white\",\"linecolor\":\"white\",\"ticks\":\"\"}},\"coloraxis\":{\"colorbar\":{\"outlinewidth\":0,\"ticks\":\"\"}},\"colorscale\":{\"sequential\":[[0.0,\"#0d0887\"],[0.1111111111111111,\"#46039f\"],[0.2222222222222222,\"#7201a8\"],[0.3333333333333333,\"#9c179e\"],[0.4444444444444444,\"#bd3786\"],[0.5555555555555556,\"#d8576b\"],[0.6666666666666666,\"#ed7953\"],[0.7777777777777778,\"#fb9f3a\"],[0.8888888888888888,\"#fdca26\"],[1.0,\"#f0f921\"]],\"sequentialminus\":[[0.0,\"#0d0887\"],[0.1111111111111111,\"#46039f\"],[0.2222222222222222,\"#7201a8\"],[0.3333333333333333,\"#9c179e\"],[0.4444444444444444,\"#bd3786\"],[0.5555555555555556,\"#d8576b\"],[0.6666666666666666,\"#ed7953\"],[0.7777777777777778,\"#fb9f3a\"],[0.8888888888888888,\"#fdca26\"],[1.0,\"#f0f921\"]],\"diverging\":[[0,\"#8e0152\"],[0.1,\"#c51b7d\"],[0.2,\"#de77ae\"],[0.3,\"#f1b6da\"],[0.4,\"#fde0ef\"],[0.5,\"#f7f7f7\"],[0.6,\"#e6f5d0\"],[0.7,\"#b8e186\"],[0.8,\"#7fbc41\"],[0.9,\"#4d9221\"],[1,\"#276419\"]]},\"xaxis\":{\"gridcolor\":\"white\",\"linecolor\":\"white\",\"ticks\":\"\",\"title\":{\"standoff\":15},\"zerolinecolor\":\"white\",\"automargin\":true,\"zerolinewidth\":2},\"yaxis\":{\"gridcolor\":\"white\",\"linecolor\":\"white\",\"ticks\":\"\",\"title\":{\"standoff\":15},\"zerolinecolor\":\"white\",\"automargin\":true,\"zerolinewidth\":2},\"scene\":{\"xaxis\":{\"backgroundcolor\":\"#E5ECF6\",\"gridcolor\":\"white\",\"linecolor\":\"white\",\"showbackground\":true,\"ticks\":\"\",\"zerolinecolor\":\"white\",\"gridwidth\":2},\"yaxis\":{\"backgroundcolor\":\"#E5ECF6\",\"gridcolor\":\"white\",\"linecolor\":\"white\",\"showbackground\":true,\"ticks\":\"\",\"zerolinecolor\":\"white\",\"gridwidth\":2},\"zaxis\":{\"backgroundcolor\":\"#E5ECF6\",\"gridcolor\":\"white\",\"linecolor\":\"white\",\"showbackground\":true,\"ticks\":\"\",\"zerolinecolor\":\"white\",\"gridwidth\":2}},\"shapedefaults\":{\"line\":{\"color\":\"#2a3f5f\"}},\"annotationdefaults\":{\"arrowcolor\":\"#2a3f5f\",\"arrowhead\":0,\"arrowwidth\":1},\"geo\":{\"bgcolor\":\"white\",\"landcolor\":\"#E5ECF6\",\"subunitcolor\":\"white\",\"showland\":true,\"showlakes\":true,\"lakecolor\":\"white\"},\"title\":{\"x\":0.05},\"mapbox\":{\"style\":\"light\"}}},\"legend\":{\"tracegroupgap\":0},\"title\":{\"text\":\"Anime Type Distribution\"},\"width\":500,\"height\":500},                        {\"responsive\": true}                    ).then(function(){\n",
       "                            \n",
       "var gd = document.getElementById('3b07207b-9d3b-49e4-af0b-f3771083ab35');\n",
       "var x = new MutationObserver(function (mutations, observer) {{\n",
       "        var display = window.getComputedStyle(gd).display;\n",
       "        if (!display || display === 'none') {{\n",
       "            console.log([gd, 'removed!']);\n",
       "            Plotly.purge(gd);\n",
       "            observer.disconnect();\n",
       "        }}\n",
       "}});\n",
       "\n",
       "// Listen for the removal of the full notebook cells\n",
       "var notebookContainer = gd.closest('#notebook-container');\n",
       "if (notebookContainer) {{\n",
       "    x.observe(notebookContainer, {childList: true});\n",
       "}}\n",
       "\n",
       "// Listen for the clearing of the current output cell\n",
       "var outputEl = gd.closest('.output');\n",
       "if (outputEl) {{\n",
       "    x.observe(outputEl, {childList: true});\n",
       "}}\n",
       "\n",
       "                        })                };                });            </script>        </div>"
      ]
     },
     "metadata": {},
     "output_type": "display_data"
    }
   ],
   "source": [
    "import plotly.express as px\n",
    "\n",
    "# Prepare the data for Pie chart\n",
    "type_counts = df['Type'].value_counts().reset_index()\n",
    "type_counts.columns = ['Type', 'Count']\n",
    "\n",
    "# Create the basic pie chart\n",
    "fig = px.pie(type_counts, names='Type', values='Count', title='Anime Type Distribution', \n",
    "             hole=0.3,  # Creates a donut chart effect (optional)\n",
    "             color='Type',  # Colors based on 'Type'\n",
    "             labels={'Type': 'Anime Type', 'Count': 'Number of Anime'})\n",
    "\n",
    "# Update the traces to show percentages outside the pie chart\n",
    "fig.update_traces(textinfo='percent', textposition='outside')\n",
    "\n",
    "# Increase the figure size\n",
    "fig.update_layout(\n",
    "    width=500,  # Adjust the width of the figure\n",
    "    height=500,  # Adjust the height of the figure\n",
    ")\n",
    "\n",
    "# Show the pie chart\n",
    "fig.show()\n"
   ]
  },
  {
   "cell_type": "code",
   "execution_count": 303,
   "id": "bf2c6ba6-94ce-4f31-8fe1-59d3311d6e7c",
   "metadata": {},
   "outputs": [
    {
     "data": {
      "application/vnd.plotly.v1+json": {
       "config": {
        "plotlyServerURL": "https://plot.ly"
       },
       "data": [
        {
         "alignmentgroup": "True",
         "customdata": [
          [
           "G - All Ages"
          ],
          [
           "G - All Ages"
          ],
          [
           "G - All Ages"
          ],
          [
           "G - All Ages"
          ],
          [
           "G - All Ages"
          ]
         ],
         "hovertemplate": "Rating=%{customdata[0]}<br>Anime Type=%{x}<br>Average Members=%{y}<extra></extra>",
         "legendgroup": "G - All Ages",
         "marker": {
          "color": "#636efa",
          "pattern": {
           "shape": ""
          }
         },
         "name": "G - All Ages",
         "offsetgroup": "G - All Ages",
         "orientation": "v",
         "showlegend": true,
         "textposition": "auto",
         "type": "bar",
         "x": [
          "Movie",
          "ONA",
          "OVA",
          "Special",
          "TV"
         ],
         "xaxis": "x",
         "y": [
          167.62962962962962,
          1,
          24.5,
          24,
          73.33333333333333
         ],
         "yaxis": "y"
        },
        {
         "alignmentgroup": "True",
         "customdata": [
          [
           "PG - Children"
          ],
          [
           "PG - Children"
          ],
          [
           "PG - Children"
          ]
         ],
         "hovertemplate": "Rating=%{customdata[0]}<br>Anime Type=%{x}<br>Average Members=%{y}<extra></extra>",
         "legendgroup": "PG - Children",
         "marker": {
          "color": "#EF553B",
          "pattern": {
           "shape": ""
          }
         },
         "name": "PG - Children",
         "offsetgroup": "PG - Children",
         "orientation": "v",
         "showlegend": true,
         "textposition": "auto",
         "type": "bar",
         "x": [
          "Movie",
          "OVA",
          "TV"
         ],
         "xaxis": "x",
         "y": [
          116.33333333333333,
          14,
          175.66666666666666
         ],
         "yaxis": "y"
        },
        {
         "alignmentgroup": "True",
         "customdata": [
          [
           "PG-13 - Teens 13 or older"
          ],
          [
           "PG-13 - Teens 13 or older"
          ],
          [
           "PG-13 - Teens 13 or older"
          ],
          [
           "PG-13 - Teens 13 or older"
          ],
          [
           "PG-13 - Teens 13 or older"
          ],
          [
           "PG-13 - Teens 13 or older"
          ]
         ],
         "hovertemplate": "Rating=%{customdata[0]}<br>Anime Type=%{x}<br>Average Members=%{y}<extra></extra>",
         "legendgroup": "PG-13 - Teens 13 or older",
         "marker": {
          "color": "#00cc96",
          "pattern": {
           "shape": ""
          }
         },
         "name": "PG-13 - Teens 13 or older",
         "offsetgroup": "PG-13 - Teens 13 or older",
         "orientation": "v",
         "showlegend": true,
         "textposition": "auto",
         "type": "bar",
         "x": [
          "Movie",
          "ONA",
          "OVA",
          "Special",
          "TV",
          "TV Special"
         ],
         "xaxis": "x",
         "y": [
          187.52554744525548,
          69.78378378378379,
          118.91379310344827,
          129.58620689655172,
          262.55702917771885,
          122.53846153846153
         ],
         "yaxis": "y"
        },
        {
         "alignmentgroup": "True",
         "customdata": [
          [
           "R - 17+ (violence & profanity)"
          ],
          [
           "R - 17+ (violence & profanity)"
          ],
          [
           "R - 17+ (violence & profanity)"
          ],
          [
           "R - 17+ (violence & profanity)"
          ],
          [
           "R - 17+ (violence & profanity)"
          ],
          [
           "R - 17+ (violence & profanity)"
          ]
         ],
         "hovertemplate": "Rating=%{customdata[0]}<br>Anime Type=%{x}<br>Average Members=%{y}<extra></extra>",
         "legendgroup": "R - 17+ (violence & profanity)",
         "marker": {
          "color": "#ab63fa",
          "pattern": {
           "shape": ""
          }
         },
         "name": "R - 17+ (violence & profanity)",
         "offsetgroup": "R - 17+ (violence & profanity)",
         "orientation": "v",
         "showlegend": true,
         "textposition": "auto",
         "type": "bar",
         "x": [
          "Movie",
          "ONA",
          "OVA",
          "Special",
          "TV",
          "TV Special"
         ],
         "xaxis": "x",
         "y": [
          202.53658536585365,
          136.23076923076923,
          222.7058823529412,
          164.6,
          302.9935897435897,
          329.5
         ],
         "yaxis": "y"
        }
       ],
       "layout": {
        "autosize": true,
        "barmode": "group",
        "legend": {
         "title": {
          "text": "Rating"
         },
         "tracegroupgap": 0
        },
        "template": {
         "data": {
          "bar": [
           {
            "error_x": {
             "color": "#2a3f5f"
            },
            "error_y": {
             "color": "#2a3f5f"
            },
            "marker": {
             "line": {
              "color": "#E5ECF6",
              "width": 0.5
             },
             "pattern": {
              "fillmode": "overlay",
              "size": 10,
              "solidity": 0.2
             }
            },
            "type": "bar"
           }
          ],
          "barpolar": [
           {
            "marker": {
             "line": {
              "color": "#E5ECF6",
              "width": 0.5
             },
             "pattern": {
              "fillmode": "overlay",
              "size": 10,
              "solidity": 0.2
             }
            },
            "type": "barpolar"
           }
          ],
          "carpet": [
           {
            "aaxis": {
             "endlinecolor": "#2a3f5f",
             "gridcolor": "white",
             "linecolor": "white",
             "minorgridcolor": "white",
             "startlinecolor": "#2a3f5f"
            },
            "baxis": {
             "endlinecolor": "#2a3f5f",
             "gridcolor": "white",
             "linecolor": "white",
             "minorgridcolor": "white",
             "startlinecolor": "#2a3f5f"
            },
            "type": "carpet"
           }
          ],
          "choropleth": [
           {
            "colorbar": {
             "outlinewidth": 0,
             "ticks": ""
            },
            "type": "choropleth"
           }
          ],
          "contour": [
           {
            "colorbar": {
             "outlinewidth": 0,
             "ticks": ""
            },
            "colorscale": [
             [
              0,
              "#0d0887"
             ],
             [
              0.1111111111111111,
              "#46039f"
             ],
             [
              0.2222222222222222,
              "#7201a8"
             ],
             [
              0.3333333333333333,
              "#9c179e"
             ],
             [
              0.4444444444444444,
              "#bd3786"
             ],
             [
              0.5555555555555556,
              "#d8576b"
             ],
             [
              0.6666666666666666,
              "#ed7953"
             ],
             [
              0.7777777777777778,
              "#fb9f3a"
             ],
             [
              0.8888888888888888,
              "#fdca26"
             ],
             [
              1,
              "#f0f921"
             ]
            ],
            "type": "contour"
           }
          ],
          "contourcarpet": [
           {
            "colorbar": {
             "outlinewidth": 0,
             "ticks": ""
            },
            "type": "contourcarpet"
           }
          ],
          "heatmap": [
           {
            "colorbar": {
             "outlinewidth": 0,
             "ticks": ""
            },
            "colorscale": [
             [
              0,
              "#0d0887"
             ],
             [
              0.1111111111111111,
              "#46039f"
             ],
             [
              0.2222222222222222,
              "#7201a8"
             ],
             [
              0.3333333333333333,
              "#9c179e"
             ],
             [
              0.4444444444444444,
              "#bd3786"
             ],
             [
              0.5555555555555556,
              "#d8576b"
             ],
             [
              0.6666666666666666,
              "#ed7953"
             ],
             [
              0.7777777777777778,
              "#fb9f3a"
             ],
             [
              0.8888888888888888,
              "#fdca26"
             ],
             [
              1,
              "#f0f921"
             ]
            ],
            "type": "heatmap"
           }
          ],
          "heatmapgl": [
           {
            "colorbar": {
             "outlinewidth": 0,
             "ticks": ""
            },
            "colorscale": [
             [
              0,
              "#0d0887"
             ],
             [
              0.1111111111111111,
              "#46039f"
             ],
             [
              0.2222222222222222,
              "#7201a8"
             ],
             [
              0.3333333333333333,
              "#9c179e"
             ],
             [
              0.4444444444444444,
              "#bd3786"
             ],
             [
              0.5555555555555556,
              "#d8576b"
             ],
             [
              0.6666666666666666,
              "#ed7953"
             ],
             [
              0.7777777777777778,
              "#fb9f3a"
             ],
             [
              0.8888888888888888,
              "#fdca26"
             ],
             [
              1,
              "#f0f921"
             ]
            ],
            "type": "heatmapgl"
           }
          ],
          "histogram": [
           {
            "marker": {
             "pattern": {
              "fillmode": "overlay",
              "size": 10,
              "solidity": 0.2
             }
            },
            "type": "histogram"
           }
          ],
          "histogram2d": [
           {
            "colorbar": {
             "outlinewidth": 0,
             "ticks": ""
            },
            "colorscale": [
             [
              0,
              "#0d0887"
             ],
             [
              0.1111111111111111,
              "#46039f"
             ],
             [
              0.2222222222222222,
              "#7201a8"
             ],
             [
              0.3333333333333333,
              "#9c179e"
             ],
             [
              0.4444444444444444,
              "#bd3786"
             ],
             [
              0.5555555555555556,
              "#d8576b"
             ],
             [
              0.6666666666666666,
              "#ed7953"
             ],
             [
              0.7777777777777778,
              "#fb9f3a"
             ],
             [
              0.8888888888888888,
              "#fdca26"
             ],
             [
              1,
              "#f0f921"
             ]
            ],
            "type": "histogram2d"
           }
          ],
          "histogram2dcontour": [
           {
            "colorbar": {
             "outlinewidth": 0,
             "ticks": ""
            },
            "colorscale": [
             [
              0,
              "#0d0887"
             ],
             [
              0.1111111111111111,
              "#46039f"
             ],
             [
              0.2222222222222222,
              "#7201a8"
             ],
             [
              0.3333333333333333,
              "#9c179e"
             ],
             [
              0.4444444444444444,
              "#bd3786"
             ],
             [
              0.5555555555555556,
              "#d8576b"
             ],
             [
              0.6666666666666666,
              "#ed7953"
             ],
             [
              0.7777777777777778,
              "#fb9f3a"
             ],
             [
              0.8888888888888888,
              "#fdca26"
             ],
             [
              1,
              "#f0f921"
             ]
            ],
            "type": "histogram2dcontour"
           }
          ],
          "mesh3d": [
           {
            "colorbar": {
             "outlinewidth": 0,
             "ticks": ""
            },
            "type": "mesh3d"
           }
          ],
          "parcoords": [
           {
            "line": {
             "colorbar": {
              "outlinewidth": 0,
              "ticks": ""
             }
            },
            "type": "parcoords"
           }
          ],
          "pie": [
           {
            "automargin": true,
            "type": "pie"
           }
          ],
          "scatter": [
           {
            "fillpattern": {
             "fillmode": "overlay",
             "size": 10,
             "solidity": 0.2
            },
            "type": "scatter"
           }
          ],
          "scatter3d": [
           {
            "line": {
             "colorbar": {
              "outlinewidth": 0,
              "ticks": ""
             }
            },
            "marker": {
             "colorbar": {
              "outlinewidth": 0,
              "ticks": ""
             }
            },
            "type": "scatter3d"
           }
          ],
          "scattercarpet": [
           {
            "marker": {
             "colorbar": {
              "outlinewidth": 0,
              "ticks": ""
             }
            },
            "type": "scattercarpet"
           }
          ],
          "scattergeo": [
           {
            "marker": {
             "colorbar": {
              "outlinewidth": 0,
              "ticks": ""
             }
            },
            "type": "scattergeo"
           }
          ],
          "scattergl": [
           {
            "marker": {
             "colorbar": {
              "outlinewidth": 0,
              "ticks": ""
             }
            },
            "type": "scattergl"
           }
          ],
          "scattermapbox": [
           {
            "marker": {
             "colorbar": {
              "outlinewidth": 0,
              "ticks": ""
             }
            },
            "type": "scattermapbox"
           }
          ],
          "scatterpolar": [
           {
            "marker": {
             "colorbar": {
              "outlinewidth": 0,
              "ticks": ""
             }
            },
            "type": "scatterpolar"
           }
          ],
          "scatterpolargl": [
           {
            "marker": {
             "colorbar": {
              "outlinewidth": 0,
              "ticks": ""
             }
            },
            "type": "scatterpolargl"
           }
          ],
          "scatterternary": [
           {
            "marker": {
             "colorbar": {
              "outlinewidth": 0,
              "ticks": ""
             }
            },
            "type": "scatterternary"
           }
          ],
          "surface": [
           {
            "colorbar": {
             "outlinewidth": 0,
             "ticks": ""
            },
            "colorscale": [
             [
              0,
              "#0d0887"
             ],
             [
              0.1111111111111111,
              "#46039f"
             ],
             [
              0.2222222222222222,
              "#7201a8"
             ],
             [
              0.3333333333333333,
              "#9c179e"
             ],
             [
              0.4444444444444444,
              "#bd3786"
             ],
             [
              0.5555555555555556,
              "#d8576b"
             ],
             [
              0.6666666666666666,
              "#ed7953"
             ],
             [
              0.7777777777777778,
              "#fb9f3a"
             ],
             [
              0.8888888888888888,
              "#fdca26"
             ],
             [
              1,
              "#f0f921"
             ]
            ],
            "type": "surface"
           }
          ],
          "table": [
           {
            "cells": {
             "fill": {
              "color": "#EBF0F8"
             },
             "line": {
              "color": "white"
             }
            },
            "header": {
             "fill": {
              "color": "#C8D4E3"
             },
             "line": {
              "color": "white"
             }
            },
            "type": "table"
           }
          ]
         },
         "layout": {
          "annotationdefaults": {
           "arrowcolor": "#2a3f5f",
           "arrowhead": 0,
           "arrowwidth": 1
          },
          "autotypenumbers": "strict",
          "coloraxis": {
           "colorbar": {
            "outlinewidth": 0,
            "ticks": ""
           }
          },
          "colorscale": {
           "diverging": [
            [
             0,
             "#8e0152"
            ],
            [
             0.1,
             "#c51b7d"
            ],
            [
             0.2,
             "#de77ae"
            ],
            [
             0.3,
             "#f1b6da"
            ],
            [
             0.4,
             "#fde0ef"
            ],
            [
             0.5,
             "#f7f7f7"
            ],
            [
             0.6,
             "#e6f5d0"
            ],
            [
             0.7,
             "#b8e186"
            ],
            [
             0.8,
             "#7fbc41"
            ],
            [
             0.9,
             "#4d9221"
            ],
            [
             1,
             "#276419"
            ]
           ],
           "sequential": [
            [
             0,
             "#0d0887"
            ],
            [
             0.1111111111111111,
             "#46039f"
            ],
            [
             0.2222222222222222,
             "#7201a8"
            ],
            [
             0.3333333333333333,
             "#9c179e"
            ],
            [
             0.4444444444444444,
             "#bd3786"
            ],
            [
             0.5555555555555556,
             "#d8576b"
            ],
            [
             0.6666666666666666,
             "#ed7953"
            ],
            [
             0.7777777777777778,
             "#fb9f3a"
            ],
            [
             0.8888888888888888,
             "#fdca26"
            ],
            [
             1,
             "#f0f921"
            ]
           ],
           "sequentialminus": [
            [
             0,
             "#0d0887"
            ],
            [
             0.1111111111111111,
             "#46039f"
            ],
            [
             0.2222222222222222,
             "#7201a8"
            ],
            [
             0.3333333333333333,
             "#9c179e"
            ],
            [
             0.4444444444444444,
             "#bd3786"
            ],
            [
             0.5555555555555556,
             "#d8576b"
            ],
            [
             0.6666666666666666,
             "#ed7953"
            ],
            [
             0.7777777777777778,
             "#fb9f3a"
            ],
            [
             0.8888888888888888,
             "#fdca26"
            ],
            [
             1,
             "#f0f921"
            ]
           ]
          },
          "colorway": [
           "#636efa",
           "#EF553B",
           "#00cc96",
           "#ab63fa",
           "#FFA15A",
           "#19d3f3",
           "#FF6692",
           "#B6E880",
           "#FF97FF",
           "#FECB52"
          ],
          "font": {
           "color": "#2a3f5f"
          },
          "geo": {
           "bgcolor": "white",
           "lakecolor": "white",
           "landcolor": "#E5ECF6",
           "showlakes": true,
           "showland": true,
           "subunitcolor": "white"
          },
          "hoverlabel": {
           "align": "left"
          },
          "hovermode": "closest",
          "mapbox": {
           "style": "light"
          },
          "paper_bgcolor": "white",
          "plot_bgcolor": "#E5ECF6",
          "polar": {
           "angularaxis": {
            "gridcolor": "white",
            "linecolor": "white",
            "ticks": ""
           },
           "bgcolor": "#E5ECF6",
           "radialaxis": {
            "gridcolor": "white",
            "linecolor": "white",
            "ticks": ""
           }
          },
          "scene": {
           "xaxis": {
            "backgroundcolor": "#E5ECF6",
            "gridcolor": "white",
            "gridwidth": 2,
            "linecolor": "white",
            "showbackground": true,
            "ticks": "",
            "zerolinecolor": "white"
           },
           "yaxis": {
            "backgroundcolor": "#E5ECF6",
            "gridcolor": "white",
            "gridwidth": 2,
            "linecolor": "white",
            "showbackground": true,
            "ticks": "",
            "zerolinecolor": "white"
           },
           "zaxis": {
            "backgroundcolor": "#E5ECF6",
            "gridcolor": "white",
            "gridwidth": 2,
            "linecolor": "white",
            "showbackground": true,
            "ticks": "",
            "zerolinecolor": "white"
           }
          },
          "shapedefaults": {
           "line": {
            "color": "#2a3f5f"
           }
          },
          "ternary": {
           "aaxis": {
            "gridcolor": "white",
            "linecolor": "white",
            "ticks": ""
           },
           "baxis": {
            "gridcolor": "white",
            "linecolor": "white",
            "ticks": ""
           },
           "bgcolor": "#E5ECF6",
           "caxis": {
            "gridcolor": "white",
            "linecolor": "white",
            "ticks": ""
           }
          },
          "title": {
           "x": 0.05
          },
          "xaxis": {
           "automargin": true,
           "gridcolor": "white",
           "linecolor": "white",
           "ticks": "",
           "title": {
            "standoff": 15
           },
           "zerolinecolor": "white",
           "zerolinewidth": 2
          },
          "yaxis": {
           "automargin": true,
           "gridcolor": "white",
           "linecolor": "white",
           "ticks": "",
           "title": {
            "standoff": 15
           },
           "zerolinecolor": "white",
           "zerolinewidth": 2
          }
         }
        },
        "title": {
         "text": "Average Members by Type and Rating"
        },
        "xaxis": {
         "anchor": "y",
         "autorange": true,
         "domain": [
          0,
          1
         ],
         "range": [
          -0.5,
          5.5
         ],
         "title": {
          "text": "Anime Type"
         },
         "type": "category"
        },
        "yaxis": {
         "anchor": "x",
         "autorange": true,
         "domain": [
          0,
          1
         ],
         "range": [
          0,
          346.8421052631579
         ],
         "title": {
          "text": "Average Members"
         },
         "type": "linear"
        }
       }
      },
      "image/png": "[encoded data removed]",
      "text/html": [
       "<div>                            <div id=\"df9f6657-c577-4fe6-bcc7-dedc54183f70\" class=\"plotly-graph-div\" style=\"height:525px; width:100%;\"></div>            <script type=\"text/javascript\">                require([\"plotly\"], function(Plotly) {                    window.PLOTLYENV=window.PLOTLYENV || {};                                    if (document.getElementById(\"df9f6657-c577-4fe6-bcc7-dedc54183f70\")) {                    Plotly.newPlot(                        \"df9f6657-c577-4fe6-bcc7-dedc54183f70\",                        [{\"alignmentgroup\":\"True\",\"customdata\":[[\"G - All Ages\"],[\"G - All Ages\"],[\"G - All Ages\"],[\"G - All Ages\"],[\"G - All Ages\"]],\"hovertemplate\":\"Rating=%{customdata[0]}\\u003cbr\\u003eAnime Type=%{x}\\u003cbr\\u003eAverage Members=%{y}\\u003cextra\\u003e\\u003c\\u002fextra\\u003e\",\"legendgroup\":\"G - All Ages\",\"marker\":{\"color\":\"#636efa\",\"pattern\":{\"shape\":\"\"}},\"name\":\"G - All Ages\",\"offsetgroup\":\"G - All Ages\",\"orientation\":\"v\",\"showlegend\":true,\"textposition\":\"auto\",\"x\":[\"Movie\",\"ONA\",\"OVA\",\"Special\",\"TV\"],\"xaxis\":\"x\",\"y\":[167.62962962962962,1.0,24.5,24.0,73.33333333333333],\"yaxis\":\"y\",\"type\":\"bar\"},{\"alignmentgroup\":\"True\",\"customdata\":[[\"PG - Children\"],[\"PG - Children\"],[\"PG - Children\"]],\"hovertemplate\":\"Rating=%{customdata[0]}\\u003cbr\\u003eAnime Type=%{x}\\u003cbr\\u003eAverage Members=%{y}\\u003cextra\\u003e\\u003c\\u002fextra\\u003e\",\"legendgroup\":\"PG - Children\",\"marker\":{\"color\":\"#EF553B\",\"pattern\":{\"shape\":\"\"}},\"name\":\"PG - Children\",\"offsetgroup\":\"PG - Children\",\"orientation\":\"v\",\"showlegend\":true,\"textposition\":\"auto\",\"x\":[\"Movie\",\"OVA\",\"TV\"],\"xaxis\":\"x\",\"y\":[116.33333333333333,14.0,175.66666666666666],\"yaxis\":\"y\",\"type\":\"bar\"},{\"alignmentgroup\":\"True\",\"customdata\":[[\"PG-13 - Teens 13 or older\"],[\"PG-13 - Teens 13 or older\"],[\"PG-13 - Teens 13 or older\"],[\"PG-13 - Teens 13 or older\"],[\"PG-13 - Teens 13 or older\"],[\"PG-13 - Teens 13 or older\"]],\"hovertemplate\":\"Rating=%{customdata[0]}\\u003cbr\\u003eAnime Type=%{x}\\u003cbr\\u003eAverage Members=%{y}\\u003cextra\\u003e\\u003c\\u002fextra\\u003e\",\"legendgroup\":\"PG-13 - Teens 13 or older\",\"marker\":{\"color\":\"#00cc96\",\"pattern\":{\"shape\":\"\"}},\"name\":\"PG-13 - Teens 13 or older\",\"offsetgroup\":\"PG-13 - Teens 13 or older\",\"orientation\":\"v\",\"showlegend\":true,\"textposition\":\"auto\",\"x\":[\"Movie\",\"ONA\",\"OVA\",\"Special\",\"TV\",\"TV Special\"],\"xaxis\":\"x\",\"y\":[187.52554744525548,69.78378378378379,118.91379310344827,129.58620689655172,262.55702917771885,122.53846153846153],\"yaxis\":\"y\",\"type\":\"bar\"},{\"alignmentgroup\":\"True\",\"customdata\":[[\"R - 17+ (violence & profanity)\"],[\"R - 17+ (violence & profanity)\"],[\"R - 17+ (violence & profanity)\"],[\"R - 17+ (violence & profanity)\"],[\"R - 17+ (violence & profanity)\"],[\"R - 17+ (violence & profanity)\"]],\"hovertemplate\":\"Rating=%{customdata[0]}\\u003cbr\\u003eAnime Type=%{x}\\u003cbr\\u003eAverage Members=%{y}\\u003cextra\\u003e\\u003c\\u002fextra\\u003e\",\"legendgroup\":\"R - 17+ (violence & profanity)\",\"marker\":{\"color\":\"#ab63fa\",\"pattern\":{\"shape\":\"\"}},\"name\":\"R - 17+ (violence & profanity)\",\"offsetgroup\":\"R - 17+ (violence & profanity)\",\"orientation\":\"v\",\"showlegend\":true,\"textposition\":\"auto\",\"x\":[\"Movie\",\"ONA\",\"OVA\",\"Special\",\"TV\",\"TV Special\"],\"xaxis\":\"x\",\"y\":[202.53658536585365,136.23076923076923,222.7058823529412,164.6,302.9935897435897,329.5],\"yaxis\":\"y\",\"type\":\"bar\"}],                        {\"template\":{\"data\":{\"histogram2dcontour\":[{\"type\":\"histogram2dcontour\",\"colorbar\":{\"outlinewidth\":0,\"ticks\":\"\"},\"colorscale\":[[0.0,\"#0d0887\"],[0.1111111111111111,\"#46039f\"],[0.2222222222222222,\"#7201a8\"],[0.3333333333333333,\"#9c179e\"],[0.4444444444444444,\"#bd3786\"],[0.5555555555555556,\"#d8576b\"],[0.6666666666666666,\"#ed7953\"],[0.7777777777777778,\"#fb9f3a\"],[0.8888888888888888,\"#fdca26\"],[1.0,\"#f0f921\"]]}],\"choropleth\":[{\"type\":\"choropleth\",\"colorbar\":{\"outlinewidth\":0,\"ticks\":\"\"}}],\"histogram2d\":[{\"type\":\"histogram2d\",\"colorbar\":{\"outlinewidth\":0,\"ticks\":\"\"},\"colorscale\":[[0.0,\"#0d0887\"],[0.1111111111111111,\"#46039f\"],[0.2222222222222222,\"#7201a8\"],[0.3333333333333333,\"#9c179e\"],[0.4444444444444444,\"#bd3786\"],[0.5555555555555556,\"#d8576b\"],[0.6666666666666666,\"#ed7953\"],[0.7777777777777778,\"#fb9f3a\"],[0.8888888888888888,\"#fdca26\"],[1.0,\"#f0f921\"]]}],\"heatmap\":[{\"type\":\"heatmap\",\"colorbar\":{\"outlinewidth\":0,\"ticks\":\"\"},\"colorscale\":[[0.0,\"#0d0887\"],[0.1111111111111111,\"#46039f\"],[0.2222222222222222,\"#7201a8\"],[0.3333333333333333,\"#9c179e\"],[0.4444444444444444,\"#bd3786\"],[0.5555555555555556,\"#d8576b\"],[0.6666666666666666,\"#ed7953\"],[0.7777777777777778,\"#fb9f3a\"],[0.8888888888888888,\"#fdca26\"],[1.0,\"#f0f921\"]]}],\"heatmapgl\":[{\"type\":\"heatmapgl\",\"colorbar\":{\"outlinewidth\":0,\"ticks\":\"\"},\"colorscale\":[[0.0,\"#0d0887\"],[0.1111111111111111,\"#46039f\"],[0.2222222222222222,\"#7201a8\"],[0.3333333333333333,\"#9c179e\"],[0.4444444444444444,\"#bd3786\"],[0.5555555555555556,\"#d8576b\"],[0.6666666666666666,\"#ed7953\"],[0.7777777777777778,\"#fb9f3a\"],[0.8888888888888888,\"#fdca26\"],[1.0,\"#f0f921\"]]}],\"contourcarpet\":[{\"type\":\"contourcarpet\",\"colorbar\":{\"outlinewidth\":0,\"ticks\":\"\"}}],\"contour\":[{\"type\":\"contour\",\"colorbar\":{\"outlinewidth\":0,\"ticks\":\"\"},\"colorscale\":[[0.0,\"#0d0887\"],[0.1111111111111111,\"#46039f\"],[0.2222222222222222,\"#7201a8\"],[0.3333333333333333,\"#9c179e\"],[0.4444444444444444,\"#bd3786\"],[0.5555555555555556,\"#d8576b\"],[0.6666666666666666,\"#ed7953\"],[0.7777777777777778,\"#fb9f3a\"],[0.8888888888888888,\"#fdca26\"],[1.0,\"#f0f921\"]]}],\"surface\":[{\"type\":\"surface\",\"colorbar\":{\"outlinewidth\":0,\"ticks\":\"\"},\"colorscale\":[[0.0,\"#0d0887\"],[0.1111111111111111,\"#46039f\"],[0.2222222222222222,\"#7201a8\"],[0.3333333333333333,\"#9c179e\"],[0.4444444444444444,\"#bd3786\"],[0.5555555555555556,\"#d8576b\"],[0.6666666666666666,\"#ed7953\"],[0.7777777777777778,\"#fb9f3a\"],[0.8888888888888888,\"#fdca26\"],[1.0,\"#f0f921\"]]}],\"mesh3d\":[{\"type\":\"mesh3d\",\"colorbar\":{\"outlinewidth\":0,\"ticks\":\"\"}}],\"scatter\":[{\"fillpattern\":{\"fillmode\":\"overlay\",\"size\":10,\"solidity\":0.2},\"type\":\"scatter\"}],\"parcoords\":[{\"type\":\"parcoords\",\"line\":{\"colorbar\":{\"outlinewidth\":0,\"ticks\":\"\"}}}],\"scatterpolargl\":[{\"type\":\"scatterpolargl\",\"marker\":{\"colorbar\":{\"outlinewidth\":0,\"ticks\":\"\"}}}],\"bar\":[{\"error_x\":{\"color\":\"#2a3f5f\"},\"error_y\":{\"color\":\"#2a3f5f\"},\"marker\":{\"line\":{\"color\":\"#E5ECF6\",\"width\":0.5},\"pattern\":{\"fillmode\":\"overlay\",\"size\":10,\"solidity\":0.2}},\"type\":\"bar\"}],\"scattergeo\":[{\"type\":\"scattergeo\",\"marker\":{\"colorbar\":{\"outlinewidth\":0,\"ticks\":\"\"}}}],\"scatterpolar\":[{\"type\":\"scatterpolar\",\"marker\":{\"colorbar\":{\"outlinewidth\":0,\"ticks\":\"\"}}}],\"histogram\":[{\"marker\":{\"pattern\":{\"fillmode\":\"overlay\",\"size\":10,\"solidity\":0.2}},\"type\":\"histogram\"}],\"scattergl\":[{\"type\":\"scattergl\",\"marker\":{\"colorbar\":{\"outlinewidth\":0,\"ticks\":\"\"}}}],\"scatter3d\":[{\"type\":\"scatter3d\",\"line\":{\"colorbar\":{\"outlinewidth\":0,\"ticks\":\"\"}},\"marker\":{\"colorbar\":{\"outlinewidth\":0,\"ticks\":\"\"}}}],\"scattermapbox\":[{\"type\":\"scattermapbox\",\"marker\":{\"colorbar\":{\"outlinewidth\":0,\"ticks\":\"\"}}}],\"scatterternary\":[{\"type\":\"scatterternary\",\"marker\":{\"colorbar\":{\"outlinewidth\":0,\"ticks\":\"\"}}}],\"scattercarpet\":[{\"type\":\"scattercarpet\",\"marker\":{\"colorbar\":{\"outlinewidth\":0,\"ticks\":\"\"}}}],\"carpet\":[{\"aaxis\":{\"endlinecolor\":\"#2a3f5f\",\"gridcolor\":\"white\",\"linecolor\":\"white\",\"minorgridcolor\":\"white\",\"startlinecolor\":\"#2a3f5f\"},\"baxis\":{\"endlinecolor\":\"#2a3f5f\",\"gridcolor\":\"white\",\"linecolor\":\"white\",\"minorgridcolor\":\"white\",\"startlinecolor\":\"#2a3f5f\"},\"type\":\"carpet\"}],\"table\":[{\"cells\":{\"fill\":{\"color\":\"#EBF0F8\"},\"line\":{\"color\":\"white\"}},\"header\":{\"fill\":{\"color\":\"#C8D4E3\"},\"line\":{\"color\":\"white\"}},\"type\":\"table\"}],\"barpolar\":[{\"marker\":{\"line\":{\"color\":\"#E5ECF6\",\"width\":0.5},\"pattern\":{\"fillmode\":\"overlay\",\"size\":10,\"solidity\":0.2}},\"type\":\"barpolar\"}],\"pie\":[{\"automargin\":true,\"type\":\"pie\"}]},\"layout\":{\"autotypenumbers\":\"strict\",\"colorway\":[\"#636efa\",\"#EF553B\",\"#00cc96\",\"#ab63fa\",\"#FFA15A\",\"#19d3f3\",\"#FF6692\",\"#B6E880\",\"#FF97FF\",\"#FECB52\"],\"font\":{\"color\":\"#2a3f5f\"},\"hovermode\":\"closest\",\"hoverlabel\":{\"align\":\"left\"},\"paper_bgcolor\":\"white\",\"plot_bgcolor\":\"#E5ECF6\",\"polar\":{\"bgcolor\":\"#E5ECF6\",\"angularaxis\":{\"gridcolor\":\"white\",\"linecolor\":\"white\",\"ticks\":\"\"},\"radialaxis\":{\"gridcolor\":\"white\",\"linecolor\":\"white\",\"ticks\":\"\"}},\"ternary\":{\"bgcolor\":\"#E5ECF6\",\"aaxis\":{\"gridcolor\":\"white\",\"linecolor\":\"white\",\"ticks\":\"\"},\"baxis\":{\"gridcolor\":\"white\",\"linecolor\":\"white\",\"ticks\":\"\"},\"caxis\":{\"gridcolor\":\"white\",\"linecolor\":\"white\",\"ticks\":\"\"}},\"coloraxis\":{\"colorbar\":{\"outlinewidth\":0,\"ticks\":\"\"}},\"colorscale\":{\"sequential\":[[0.0,\"#0d0887\"],[0.1111111111111111,\"#46039f\"],[0.2222222222222222,\"#7201a8\"],[0.3333333333333333,\"#9c179e\"],[0.4444444444444444,\"#bd3786\"],[0.5555555555555556,\"#d8576b\"],[0.6666666666666666,\"#ed7953\"],[0.7777777777777778,\"#fb9f3a\"],[0.8888888888888888,\"#fdca26\"],[1.0,\"#f0f921\"]],\"sequentialminus\":[[0.0,\"#0d0887\"],[0.1111111111111111,\"#46039f\"],[0.2222222222222222,\"#7201a8\"],[0.3333333333333333,\"#9c179e\"],[0.4444444444444444,\"#bd3786\"],[0.5555555555555556,\"#d8576b\"],[0.6666666666666666,\"#ed7953\"],[0.7777777777777778,\"#fb9f3a\"],[0.8888888888888888,\"#fdca26\"],[1.0,\"#f0f921\"]],\"diverging\":[[0,\"#8e0152\"],[0.1,\"#c51b7d\"],[0.2,\"#de77ae\"],[0.3,\"#f1b6da\"],[0.4,\"#fde0ef\"],[0.5,\"#f7f7f7\"],[0.6,\"#e6f5d0\"],[0.7,\"#b8e186\"],[0.8,\"#7fbc41\"],[0.9,\"#4d9221\"],[1,\"#276419\"]]},\"xaxis\":{\"gridcolor\":\"white\",\"linecolor\":\"white\",\"ticks\":\"\",\"title\":{\"standoff\":15},\"zerolinecolor\":\"white\",\"automargin\":true,\"zerolinewidth\":2},\"yaxis\":{\"gridcolor\":\"white\",\"linecolor\":\"white\",\"ticks\":\"\",\"title\":{\"standoff\":15},\"zerolinecolor\":\"white\",\"automargin\":true,\"zerolinewidth\":2},\"scene\":{\"xaxis\":{\"backgroundcolor\":\"#E5ECF6\",\"gridcolor\":\"white\",\"linecolor\":\"white\",\"showbackground\":true,\"ticks\":\"\",\"zerolinecolor\":\"white\",\"gridwidth\":2},\"yaxis\":{\"backgroundcolor\":\"#E5ECF6\",\"gridcolor\":\"white\",\"linecolor\":\"white\",\"showbackground\":true,\"ticks\":\"\",\"zerolinecolor\":\"white\",\"gridwidth\":2},\"zaxis\":{\"backgroundcolor\":\"#E5ECF6\",\"gridcolor\":\"white\",\"linecolor\":\"white\",\"showbackground\":true,\"ticks\":\"\",\"zerolinecolor\":\"white\",\"gridwidth\":2}},\"shapedefaults\":{\"line\":{\"color\":\"#2a3f5f\"}},\"annotationdefaults\":{\"arrowcolor\":\"#2a3f5f\",\"arrowhead\":0,\"arrowwidth\":1},\"geo\":{\"bgcolor\":\"white\",\"landcolor\":\"#E5ECF6\",\"subunitcolor\":\"white\",\"showland\":true,\"showlakes\":true,\"lakecolor\":\"white\"},\"title\":{\"x\":0.05},\"mapbox\":{\"style\":\"light\"}}},\"xaxis\":{\"anchor\":\"y\",\"domain\":[0.0,1.0],\"title\":{\"text\":\"Anime Type\"}},\"yaxis\":{\"anchor\":\"x\",\"domain\":[0.0,1.0],\"title\":{\"text\":\"Average Members\"}},\"legend\":{\"title\":{\"text\":\"Rating\"},\"tracegroupgap\":0},\"title\":{\"text\":\"Average Members by Type and Rating\"},\"barmode\":\"group\"},                        {\"responsive\": true}                    ).then(function(){\n",
       "                            \n",
       "var gd = document.getElementById('df9f6657-c577-4fe6-bcc7-dedc54183f70');\n",
       "var x = new MutationObserver(function (mutations, observer) {{\n",
       "        var display = window.getComputedStyle(gd).display;\n",
       "        if (!display || display === 'none') {{\n",
       "            console.log([gd, 'removed!']);\n",
       "            Plotly.purge(gd);\n",
       "            observer.disconnect();\n",
       "        }}\n",
       "}});\n",
       "\n",
       "// Listen for the removal of the full notebook cells\n",
       "var notebookContainer = gd.closest('#notebook-container');\n",
       "if (notebookContainer) {{\n",
       "    x.observe(notebookContainer, {childList: true});\n",
       "}}\n",
       "\n",
       "// Listen for the clearing of the current output cell\n",
       "var outputEl = gd.closest('.output');\n",
       "if (outputEl) {{\n",
       "    x.observe(outputEl, {childList: true});\n",
       "}}\n",
       "\n",
       "                        })                };                });            </script>        </div>"
      ]
     },
     "metadata": {},
     "output_type": "display_data"
    }
   ],
   "source": [
    "\n",
    "\n",
    "# Filter out few rows\n",
    "df_filtered = df[~df['Rating'].isin(['R+ - Mild Nudity', '18+'])]\n",
    "\n",
    "# Grouping by 'Type' and 'Rating' to get the average number of members for each combination\n",
    "avg_members_by_type_rating = df_filtered.groupby(['Type', 'Rating'])['Members'].mean().reset_index()\n",
    "\n",
    "# Create a grouped bar chart using Plotly\n",
    "fig = px.bar(\n",
    "    avg_members_by_type_rating,\n",
    "    x='Type',\n",
    "    y='Members',\n",
    "    color='Rating',\n",
    "    barmode='group',\n",
    "    labels={'Members': 'Average Members', 'Type': 'Anime Type'},\n",
    "    title='Average Members by Type and Rating',\n",
    "    hover_data=['Rating', 'Members']  # Adding hover information\n",
    ")\n",
    "\n",
    "# Show the plot\n",
    "fig.show()\n"
   ]
  },
  {
   "cell_type": "code",
   "execution_count": 304,
   "id": "609c7d26-27e1-4878-9f9c-f0e6bc09b5b6",
   "metadata": {},
   "outputs": [
    {
     "name": "stdout",
     "output_type": "stream",
     "text": [
      "         Type  Members\n",
      "4          TV   151484\n",
      "0       Movie    46204\n",
      "2         OVA    11730\n",
      "1         ONA     5117\n",
      "3     Special     4653\n",
      "5  TV Special     4460\n"
     ]
    }
   ],
   "source": [
    "# Group by 'Type' and sum the 'Members' to get the total number of people who watched each type of anime\n",
    "type_members = anime_data.groupby('Type')['Members'].sum().reset_index()\n",
    "\n",
    "# Sort by the number of members to see which type has the highest number of viewers\n",
    "type_members = type_members.sort_values('Members', ascending=False)\n",
    "\n",
    "print(type_members)"
   ]
  },
  {
   "cell_type": "code",
   "execution_count": 305,
   "id": "27049fe5-a380-4951-bb60-f32ecffcf569",
   "metadata": {},
   "outputs": [
    {
     "data": {
      "application/vnd.plotly.v1+json": {
       "config": {
        "plotlyServerURL": "https://plot.ly"
       },
       "data": [
        {
         "alignmentgroup": "True",
         "hovertemplate": "Anime Type=%{y}<br>Total Members (Viewers)=%{text}<extra></extra>",
         "legendgroup": "TV",
         "marker": {
          "color": "#636efa",
          "pattern": {
           "shape": ""
          }
         },
         "name": "TV",
         "offsetgroup": "TV",
         "orientation": "h",
         "showlegend": true,
         "text": [
          151484
         ],
         "textposition": "none",
         "type": "bar",
         "x": [
          151484
         ],
         "xaxis": "x",
         "y": [
          "TV"
         ],
         "yaxis": "y"
        },
        {
         "alignmentgroup": "True",
         "hovertemplate": "Anime Type=%{y}<br>Total Members (Viewers)=%{text}<extra></extra>",
         "legendgroup": "Movie",
         "marker": {
          "color": "#EF553B",
          "pattern": {
           "shape": ""
          }
         },
         "name": "Movie",
         "offsetgroup": "Movie",
         "orientation": "h",
         "showlegend": true,
         "text": [
          46204
         ],
         "textposition": "none",
         "type": "bar",
         "x": [
          46204
         ],
         "xaxis": "x",
         "y": [
          "Movie"
         ],
         "yaxis": "y"
        },
        {
         "alignmentgroup": "True",
         "hovertemplate": "Anime Type=%{y}<br>Total Members (Viewers)=%{text}<extra></extra>",
         "legendgroup": "OVA",
         "marker": {
          "color": "#00cc96",
          "pattern": {
           "shape": ""
          }
         },
         "name": "OVA",
         "offsetgroup": "OVA",
         "orientation": "h",
         "showlegend": true,
         "text": [
          11730
         ],
         "textposition": "none",
         "type": "bar",
         "x": [
          11730
         ],
         "xaxis": "x",
         "y": [
          "OVA"
         ],
         "yaxis": "y"
        },
        {
         "alignmentgroup": "True",
         "hovertemplate": "Anime Type=%{y}<br>Total Members (Viewers)=%{text}<extra></extra>",
         "legendgroup": "ONA",
         "marker": {
          "color": "#ab63fa",
          "pattern": {
           "shape": ""
          }
         },
         "name": "ONA",
         "offsetgroup": "ONA",
         "orientation": "h",
         "showlegend": true,
         "text": [
          5117
         ],
         "textposition": "none",
         "type": "bar",
         "x": [
          5117
         ],
         "xaxis": "x",
         "y": [
          "ONA"
         ],
         "yaxis": "y"
        },
        {
         "alignmentgroup": "True",
         "hovertemplate": "Anime Type=%{y}<br>Total Members (Viewers)=%{text}<extra></extra>",
         "legendgroup": "Special",
         "marker": {
          "color": "#FFA15A",
          "pattern": {
           "shape": ""
          }
         },
         "name": "Special",
         "offsetgroup": "Special",
         "orientation": "h",
         "showlegend": true,
         "text": [
          4653
         ],
         "textposition": "none",
         "type": "bar",
         "x": [
          4653
         ],
         "xaxis": "x",
         "y": [
          "Special"
         ],
         "yaxis": "y"
        },
        {
         "alignmentgroup": "True",
         "hovertemplate": "Anime Type=%{y}<br>Total Members (Viewers)=%{text}<extra></extra>",
         "legendgroup": "TV Special",
         "marker": {
          "color": "#19d3f3",
          "pattern": {
           "shape": ""
          }
         },
         "name": "TV Special",
         "offsetgroup": "TV Special",
         "orientation": "h",
         "showlegend": true,
         "text": [
          4460
         ],
         "textposition": "none",
         "type": "bar",
         "x": [
          4460
         ],
         "xaxis": "x",
         "y": [
          "TV Special"
         ],
         "yaxis": "y"
        }
       ],
       "layout": {
        "autosize": true,
        "barmode": "relative",
        "legend": {
         "title": {
          "text": "Anime Type"
         },
         "tracegroupgap": 0
        },
        "template": {
         "data": {
          "bar": [
           {
            "error_x": {
             "color": "#2a3f5f"
            },
            "error_y": {
             "color": "#2a3f5f"
            },
            "marker": {
             "line": {
              "color": "#E5ECF6",
              "width": 0.5
             },
             "pattern": {
              "fillmode": "overlay",
              "size": 10,
              "solidity": 0.2
             }
            },
            "type": "bar"
           }
          ],
          "barpolar": [
           {
            "marker": {
             "line": {
              "color": "#E5ECF6",
              "width": 0.5
             },
             "pattern": {
              "fillmode": "overlay",
              "size": 10,
              "solidity": 0.2
             }
            },
            "type": "barpolar"
           }
          ],
          "carpet": [
           {
            "aaxis": {
             "endlinecolor": "#2a3f5f",
             "gridcolor": "white",
             "linecolor": "white",
             "minorgridcolor": "white",
             "startlinecolor": "#2a3f5f"
            },
            "baxis": {
             "endlinecolor": "#2a3f5f",
             "gridcolor": "white",
             "linecolor": "white",
             "minorgridcolor": "white",
             "startlinecolor": "#2a3f5f"
            },
            "type": "carpet"
           }
          ],
          "choropleth": [
           {
            "colorbar": {
             "outlinewidth": 0,
             "ticks": ""
            },
            "type": "choropleth"
           }
          ],
          "contour": [
           {
            "colorbar": {
             "outlinewidth": 0,
             "ticks": ""
            },
            "colorscale": [
             [
              0,
              "#0d0887"
             ],
             [
              0.1111111111111111,
              "#46039f"
             ],
             [
              0.2222222222222222,
              "#7201a8"
             ],
             [
              0.3333333333333333,
              "#9c179e"
             ],
             [
              0.4444444444444444,
              "#bd3786"
             ],
             [
              0.5555555555555556,
              "#d8576b"
             ],
             [
              0.6666666666666666,
              "#ed7953"
             ],
             [
              0.7777777777777778,
              "#fb9f3a"
             ],
             [
              0.8888888888888888,
              "#fdca26"
             ],
             [
              1,
              "#f0f921"
             ]
            ],
            "type": "contour"
           }
          ],
          "contourcarpet": [
           {
            "colorbar": {
             "outlinewidth": 0,
             "ticks": ""
            },
            "type": "contourcarpet"
           }
          ],
          "heatmap": [
           {
            "colorbar": {
             "outlinewidth": 0,
             "ticks": ""
            },
            "colorscale": [
             [
              0,
              "#0d0887"
             ],
             [
              0.1111111111111111,
              "#46039f"
             ],
             [
              0.2222222222222222,
              "#7201a8"
             ],
             [
              0.3333333333333333,
              "#9c179e"
             ],
             [
              0.4444444444444444,
              "#bd3786"
             ],
             [
              0.5555555555555556,
              "#d8576b"
             ],
             [
              0.6666666666666666,
              "#ed7953"
             ],
             [
              0.7777777777777778,
              "#fb9f3a"
             ],
             [
              0.8888888888888888,
              "#fdca26"
             ],
             [
              1,
              "#f0f921"
             ]
            ],
            "type": "heatmap"
           }
          ],
          "heatmapgl": [
           {
            "colorbar": {
             "outlinewidth": 0,
             "ticks": ""
            },
            "colorscale": [
             [
              0,
              "#0d0887"
             ],
             [
              0.1111111111111111,
              "#46039f"
             ],
             [
              0.2222222222222222,
              "#7201a8"
             ],
             [
              0.3333333333333333,
              "#9c179e"
             ],
             [
              0.4444444444444444,
              "#bd3786"
             ],
             [
              0.5555555555555556,
              "#d8576b"
             ],
             [
              0.6666666666666666,
              "#ed7953"
             ],
             [
              0.7777777777777778,
              "#fb9f3a"
             ],
             [
              0.8888888888888888,
              "#fdca26"
             ],
             [
              1,
              "#f0f921"
             ]
            ],
            "type": "heatmapgl"
           }
          ],
          "histogram": [
           {
            "marker": {
             "pattern": {
              "fillmode": "overlay",
              "size": 10,
              "solidity": 0.2
             }
            },
            "type": "histogram"
           }
          ],
          "histogram2d": [
           {
            "colorbar": {
             "outlinewidth": 0,
             "ticks": ""
            },
            "colorscale": [
             [
              0,
              "#0d0887"
             ],
             [
              0.1111111111111111,
              "#46039f"
             ],
             [
              0.2222222222222222,
              "#7201a8"
             ],
             [
              0.3333333333333333,
              "#9c179e"
             ],
             [
              0.4444444444444444,
              "#bd3786"
             ],
             [
              0.5555555555555556,
              "#d8576b"
             ],
             [
              0.6666666666666666,
              "#ed7953"
             ],
             [
              0.7777777777777778,
              "#fb9f3a"
             ],
             [
              0.8888888888888888,
              "#fdca26"
             ],
             [
              1,
              "#f0f921"
             ]
            ],
            "type": "histogram2d"
           }
          ],
          "histogram2dcontour": [
           {
            "colorbar": {
             "outlinewidth": 0,
             "ticks": ""
            },
            "colorscale": [
             [
              0,
              "#0d0887"
             ],
             [
              0.1111111111111111,
              "#46039f"
             ],
             [
              0.2222222222222222,
              "#7201a8"
             ],
             [
              0.3333333333333333,
              "#9c179e"
             ],
             [
              0.4444444444444444,
              "#bd3786"
             ],
             [
              0.5555555555555556,
              "#d8576b"
             ],
             [
              0.6666666666666666,
              "#ed7953"
             ],
             [
              0.7777777777777778,
              "#fb9f3a"
             ],
             [
              0.8888888888888888,
              "#fdca26"
             ],
             [
              1,
              "#f0f921"
             ]
            ],
            "type": "histogram2dcontour"
           }
          ],
          "mesh3d": [
           {
            "colorbar": {
             "outlinewidth": 0,
             "ticks": ""
            },
            "type": "mesh3d"
           }
          ],
          "parcoords": [
           {
            "line": {
             "colorbar": {
              "outlinewidth": 0,
              "ticks": ""
             }
            },
            "type": "parcoords"
           }
          ],
          "pie": [
           {
            "automargin": true,
            "type": "pie"
           }
          ],
          "scatter": [
           {
            "fillpattern": {
             "fillmode": "overlay",
             "size": 10,
             "solidity": 0.2
            },
            "type": "scatter"
           }
          ],
          "scatter3d": [
           {
            "line": {
             "colorbar": {
              "outlinewidth": 0,
              "ticks": ""
             }
            },
            "marker": {
             "colorbar": {
              "outlinewidth": 0,
              "ticks": ""
             }
            },
            "type": "scatter3d"
           }
          ],
          "scattercarpet": [
           {
            "marker": {
             "colorbar": {
              "outlinewidth": 0,
              "ticks": ""
             }
            },
            "type": "scattercarpet"
           }
          ],
          "scattergeo": [
           {
            "marker": {
             "colorbar": {
              "outlinewidth": 0,
              "ticks": ""
             }
            },
            "type": "scattergeo"
           }
          ],
          "scattergl": [
           {
            "marker": {
             "colorbar": {
              "outlinewidth": 0,
              "ticks": ""
             }
            },
            "type": "scattergl"
           }
          ],
          "scattermapbox": [
           {
            "marker": {
             "colorbar": {
              "outlinewidth": 0,
              "ticks": ""
             }
            },
            "type": "scattermapbox"
           }
          ],
          "scatterpolar": [
           {
            "marker": {
             "colorbar": {
              "outlinewidth": 0,
              "ticks": ""
             }
            },
            "type": "scatterpolar"
           }
          ],
          "scatterpolargl": [
           {
            "marker": {
             "colorbar": {
              "outlinewidth": 0,
              "ticks": ""
             }
            },
            "type": "scatterpolargl"
           }
          ],
          "scatterternary": [
           {
            "marker": {
             "colorbar": {
              "outlinewidth": 0,
              "ticks": ""
             }
            },
            "type": "scatterternary"
           }
          ],
          "surface": [
           {
            "colorbar": {
             "outlinewidth": 0,
             "ticks": ""
            },
            "colorscale": [
             [
              0,
              "#0d0887"
             ],
             [
              0.1111111111111111,
              "#46039f"
             ],
             [
              0.2222222222222222,
              "#7201a8"
             ],
             [
              0.3333333333333333,
              "#9c179e"
             ],
             [
              0.4444444444444444,
              "#bd3786"
             ],
             [
              0.5555555555555556,
              "#d8576b"
             ],
             [
              0.6666666666666666,
              "#ed7953"
             ],
             [
              0.7777777777777778,
              "#fb9f3a"
             ],
             [
              0.8888888888888888,
              "#fdca26"
             ],
             [
              1,
              "#f0f921"
             ]
            ],
            "type": "surface"
           }
          ],
          "table": [
           {
            "cells": {
             "fill": {
              "color": "#EBF0F8"
             },
             "line": {
              "color": "white"
             }
            },
            "header": {
             "fill": {
              "color": "#C8D4E3"
             },
             "line": {
              "color": "white"
             }
            },
            "type": "table"
           }
          ]
         },
         "layout": {
          "annotationdefaults": {
           "arrowcolor": "#2a3f5f",
           "arrowhead": 0,
           "arrowwidth": 1
          },
          "autotypenumbers": "strict",
          "coloraxis": {
           "colorbar": {
            "outlinewidth": 0,
            "ticks": ""
           }
          },
          "colorscale": {
           "diverging": [
            [
             0,
             "#8e0152"
            ],
            [
             0.1,
             "#c51b7d"
            ],
            [
             0.2,
             "#de77ae"
            ],
            [
             0.3,
             "#f1b6da"
            ],
            [
             0.4,
             "#fde0ef"
            ],
            [
             0.5,
             "#f7f7f7"
            ],
            [
             0.6,
             "#e6f5d0"
            ],
            [
             0.7,
             "#b8e186"
            ],
            [
             0.8,
             "#7fbc41"
            ],
            [
             0.9,
             "#4d9221"
            ],
            [
             1,
             "#276419"
            ]
           ],
           "sequential": [
            [
             0,
             "#0d0887"
            ],
            [
             0.1111111111111111,
             "#46039f"
            ],
            [
             0.2222222222222222,
             "#7201a8"
            ],
            [
             0.3333333333333333,
             "#9c179e"
            ],
            [
             0.4444444444444444,
             "#bd3786"
            ],
            [
             0.5555555555555556,
             "#d8576b"
            ],
            [
             0.6666666666666666,
             "#ed7953"
            ],
            [
             0.7777777777777778,
             "#fb9f3a"
            ],
            [
             0.8888888888888888,
             "#fdca26"
            ],
            [
             1,
             "#f0f921"
            ]
           ],
           "sequentialminus": [
            [
             0,
             "#0d0887"
            ],
            [
             0.1111111111111111,
             "#46039f"
            ],
            [
             0.2222222222222222,
             "#7201a8"
            ],
            [
             0.3333333333333333,
             "#9c179e"
            ],
            [
             0.4444444444444444,
             "#bd3786"
            ],
            [
             0.5555555555555556,
             "#d8576b"
            ],
            [
             0.6666666666666666,
             "#ed7953"
            ],
            [
             0.7777777777777778,
             "#fb9f3a"
            ],
            [
             0.8888888888888888,
             "#fdca26"
            ],
            [
             1,
             "#f0f921"
            ]
           ]
          },
          "colorway": [
           "#636efa",
           "#EF553B",
           "#00cc96",
           "#ab63fa",
           "#FFA15A",
           "#19d3f3",
           "#FF6692",
           "#B6E880",
           "#FF97FF",
           "#FECB52"
          ],
          "font": {
           "color": "#2a3f5f"
          },
          "geo": {
           "bgcolor": "white",
           "lakecolor": "white",
           "landcolor": "#E5ECF6",
           "showlakes": true,
           "showland": true,
           "subunitcolor": "white"
          },
          "hoverlabel": {
           "align": "left"
          },
          "hovermode": "closest",
          "mapbox": {
           "style": "light"
          },
          "paper_bgcolor": "white",
          "plot_bgcolor": "#E5ECF6",
          "polar": {
           "angularaxis": {
            "gridcolor": "white",
            "linecolor": "white",
            "ticks": ""
           },
           "bgcolor": "#E5ECF6",
           "radialaxis": {
            "gridcolor": "white",
            "linecolor": "white",
            "ticks": ""
           }
          },
          "scene": {
           "xaxis": {
            "backgroundcolor": "#E5ECF6",
            "gridcolor": "white",
            "gridwidth": 2,
            "linecolor": "white",
            "showbackground": true,
            "ticks": "",
            "zerolinecolor": "white"
           },
           "yaxis": {
            "backgroundcolor": "#E5ECF6",
            "gridcolor": "white",
            "gridwidth": 2,
            "linecolor": "white",
            "showbackground": true,
            "ticks": "",
            "zerolinecolor": "white"
           },
           "zaxis": {
            "backgroundcolor": "#E5ECF6",
            "gridcolor": "white",
            "gridwidth": 2,
            "linecolor": "white",
            "showbackground": true,
            "ticks": "",
            "zerolinecolor": "white"
           }
          },
          "shapedefaults": {
           "line": {
            "color": "#2a3f5f"
           }
          },
          "ternary": {
           "aaxis": {
            "gridcolor": "white",
            "linecolor": "white",
            "ticks": ""
           },
           "baxis": {
            "gridcolor": "white",
            "linecolor": "white",
            "ticks": ""
           },
           "bgcolor": "#E5ECF6",
           "caxis": {
            "gridcolor": "white",
            "linecolor": "white",
            "ticks": ""
           }
          },
          "title": {
           "x": 0.05
          },
          "xaxis": {
           "automargin": true,
           "gridcolor": "white",
           "linecolor": "white",
           "ticks": "",
           "title": {
            "standoff": 15
           },
           "zerolinecolor": "white",
           "zerolinewidth": 2
          },
          "yaxis": {
           "automargin": true,
           "gridcolor": "white",
           "linecolor": "white",
           "ticks": "",
           "title": {
            "standoff": 15
           },
           "zerolinecolor": "white",
           "zerolinewidth": 2
          }
         }
        },
        "title": {
         "text": "Anime Type Based on the Number of Viewers"
        },
        "xaxis": {
         "anchor": "y",
         "autorange": true,
         "domain": [
          0,
          1
         ],
         "range": [
          0,
          159456.84210526315
         ],
         "title": {
          "text": "Total Members (Viewers)"
         },
         "type": "linear"
        },
        "yaxis": {
         "anchor": "x",
         "autorange": true,
         "categoryarray": [
          "TV Special",
          "Special",
          "ONA",
          "OVA",
          "Movie",
          "TV"
         ],
         "categoryorder": "array",
         "domain": [
          0,
          1
         ],
         "range": [
          -0.5,
          5.5
         ],
         "title": {
          "text": "Anime Type"
         },
         "type": "category"
        }
       }
      },
      "image/png": "[encoded data removed]",
      "text/html": [
       "<div>                            <div id=\"1fb5940f-4f99-4768-b48f-7a24d1cc5002\" class=\"plotly-graph-div\" style=\"height:525px; width:100%;\"></div>            <script type=\"text/javascript\">                require([\"plotly\"], function(Plotly) {                    window.PLOTLYENV=window.PLOTLYENV || {};                                    if (document.getElementById(\"1fb5940f-4f99-4768-b48f-7a24d1cc5002\")) {                    Plotly.newPlot(                        \"1fb5940f-4f99-4768-b48f-7a24d1cc5002\",                        [{\"alignmentgroup\":\"True\",\"hovertemplate\":\"Anime Type=%{y}\\u003cbr\\u003eTotal Members (Viewers)=%{text}\\u003cextra\\u003e\\u003c\\u002fextra\\u003e\",\"legendgroup\":\"TV\",\"marker\":{\"color\":\"#636efa\",\"pattern\":{\"shape\":\"\"}},\"name\":\"TV\",\"offsetgroup\":\"TV\",\"orientation\":\"h\",\"showlegend\":true,\"text\":[151484.0],\"textposition\":\"none\",\"x\":[151484],\"xaxis\":\"x\",\"y\":[\"TV\"],\"yaxis\":\"y\",\"type\":\"bar\"},{\"alignmentgroup\":\"True\",\"hovertemplate\":\"Anime Type=%{y}\\u003cbr\\u003eTotal Members (Viewers)=%{text}\\u003cextra\\u003e\\u003c\\u002fextra\\u003e\",\"legendgroup\":\"Movie\",\"marker\":{\"color\":\"#EF553B\",\"pattern\":{\"shape\":\"\"}},\"name\":\"Movie\",\"offsetgroup\":\"Movie\",\"orientation\":\"h\",\"showlegend\":true,\"text\":[46204.0],\"textposition\":\"none\",\"x\":[46204],\"xaxis\":\"x\",\"y\":[\"Movie\"],\"yaxis\":\"y\",\"type\":\"bar\"},{\"alignmentgroup\":\"True\",\"hovertemplate\":\"Anime Type=%{y}\\u003cbr\\u003eTotal Members (Viewers)=%{text}\\u003cextra\\u003e\\u003c\\u002fextra\\u003e\",\"legendgroup\":\"OVA\",\"marker\":{\"color\":\"#00cc96\",\"pattern\":{\"shape\":\"\"}},\"name\":\"OVA\",\"offsetgroup\":\"OVA\",\"orientation\":\"h\",\"showlegend\":true,\"text\":[11730.0],\"textposition\":\"none\",\"x\":[11730],\"xaxis\":\"x\",\"y\":[\"OVA\"],\"yaxis\":\"y\",\"type\":\"bar\"},{\"alignmentgroup\":\"True\",\"hovertemplate\":\"Anime Type=%{y}\\u003cbr\\u003eTotal Members (Viewers)=%{text}\\u003cextra\\u003e\\u003c\\u002fextra\\u003e\",\"legendgroup\":\"ONA\",\"marker\":{\"color\":\"#ab63fa\",\"pattern\":{\"shape\":\"\"}},\"name\":\"ONA\",\"offsetgroup\":\"ONA\",\"orientation\":\"h\",\"showlegend\":true,\"text\":[5117.0],\"textposition\":\"none\",\"x\":[5117],\"xaxis\":\"x\",\"y\":[\"ONA\"],\"yaxis\":\"y\",\"type\":\"bar\"},{\"alignmentgroup\":\"True\",\"hovertemplate\":\"Anime Type=%{y}\\u003cbr\\u003eTotal Members (Viewers)=%{text}\\u003cextra\\u003e\\u003c\\u002fextra\\u003e\",\"legendgroup\":\"Special\",\"marker\":{\"color\":\"#FFA15A\",\"pattern\":{\"shape\":\"\"}},\"name\":\"Special\",\"offsetgroup\":\"Special\",\"orientation\":\"h\",\"showlegend\":true,\"text\":[4653.0],\"textposition\":\"none\",\"x\":[4653],\"xaxis\":\"x\",\"y\":[\"Special\"],\"yaxis\":\"y\",\"type\":\"bar\"},{\"alignmentgroup\":\"True\",\"hovertemplate\":\"Anime Type=%{y}\\u003cbr\\u003eTotal Members (Viewers)=%{text}\\u003cextra\\u003e\\u003c\\u002fextra\\u003e\",\"legendgroup\":\"TV Special\",\"marker\":{\"color\":\"#19d3f3\",\"pattern\":{\"shape\":\"\"}},\"name\":\"TV Special\",\"offsetgroup\":\"TV Special\",\"orientation\":\"h\",\"showlegend\":true,\"text\":[4460.0],\"textposition\":\"none\",\"x\":[4460],\"xaxis\":\"x\",\"y\":[\"TV Special\"],\"yaxis\":\"y\",\"type\":\"bar\"}],                        {\"template\":{\"data\":{\"histogram2dcontour\":[{\"type\":\"histogram2dcontour\",\"colorbar\":{\"outlinewidth\":0,\"ticks\":\"\"},\"colorscale\":[[0.0,\"#0d0887\"],[0.1111111111111111,\"#46039f\"],[0.2222222222222222,\"#7201a8\"],[0.3333333333333333,\"#9c179e\"],[0.4444444444444444,\"#bd3786\"],[0.5555555555555556,\"#d8576b\"],[0.6666666666666666,\"#ed7953\"],[0.7777777777777778,\"#fb9f3a\"],[0.8888888888888888,\"#fdca26\"],[1.0,\"#f0f921\"]]}],\"choropleth\":[{\"type\":\"choropleth\",\"colorbar\":{\"outlinewidth\":0,\"ticks\":\"\"}}],\"histogram2d\":[{\"type\":\"histogram2d\",\"colorbar\":{\"outlinewidth\":0,\"ticks\":\"\"},\"colorscale\":[[0.0,\"#0d0887\"],[0.1111111111111111,\"#46039f\"],[0.2222222222222222,\"#7201a8\"],[0.3333333333333333,\"#9c179e\"],[0.4444444444444444,\"#bd3786\"],[0.5555555555555556,\"#d8576b\"],[0.6666666666666666,\"#ed7953\"],[0.7777777777777778,\"#fb9f3a\"],[0.8888888888888888,\"#fdca26\"],[1.0,\"#f0f921\"]]}],\"heatmap\":[{\"type\":\"heatmap\",\"colorbar\":{\"outlinewidth\":0,\"ticks\":\"\"},\"colorscale\":[[0.0,\"#0d0887\"],[0.1111111111111111,\"#46039f\"],[0.2222222222222222,\"#7201a8\"],[0.3333333333333333,\"#9c179e\"],[0.4444444444444444,\"#bd3786\"],[0.5555555555555556,\"#d8576b\"],[0.6666666666666666,\"#ed7953\"],[0.7777777777777778,\"#fb9f3a\"],[0.8888888888888888,\"#fdca26\"],[1.0,\"#f0f921\"]]}],\"heatmapgl\":[{\"type\":\"heatmapgl\",\"colorbar\":{\"outlinewidth\":0,\"ticks\":\"\"},\"colorscale\":[[0.0,\"#0d0887\"],[0.1111111111111111,\"#46039f\"],[0.2222222222222222,\"#7201a8\"],[0.3333333333333333,\"#9c179e\"],[0.4444444444444444,\"#bd3786\"],[0.5555555555555556,\"#d8576b\"],[0.6666666666666666,\"#ed7953\"],[0.7777777777777778,\"#fb9f3a\"],[0.8888888888888888,\"#fdca26\"],[1.0,\"#f0f921\"]]}],\"contourcarpet\":[{\"type\":\"contourcarpet\",\"colorbar\":{\"outlinewidth\":0,\"ticks\":\"\"}}],\"contour\":[{\"type\":\"contour\",\"colorbar\":{\"outlinewidth\":0,\"ticks\":\"\"},\"colorscale\":[[0.0,\"#0d0887\"],[0.1111111111111111,\"#46039f\"],[0.2222222222222222,\"#7201a8\"],[0.3333333333333333,\"#9c179e\"],[0.4444444444444444,\"#bd3786\"],[0.5555555555555556,\"#d8576b\"],[0.6666666666666666,\"#ed7953\"],[0.7777777777777778,\"#fb9f3a\"],[0.8888888888888888,\"#fdca26\"],[1.0,\"#f0f921\"]]}],\"surface\":[{\"type\":\"surface\",\"colorbar\":{\"outlinewidth\":0,\"ticks\":\"\"},\"colorscale\":[[0.0,\"#0d0887\"],[0.1111111111111111,\"#46039f\"],[0.2222222222222222,\"#7201a8\"],[0.3333333333333333,\"#9c179e\"],[0.4444444444444444,\"#bd3786\"],[0.5555555555555556,\"#d8576b\"],[0.6666666666666666,\"#ed7953\"],[0.7777777777777778,\"#fb9f3a\"],[0.8888888888888888,\"#fdca26\"],[1.0,\"#f0f921\"]]}],\"mesh3d\":[{\"type\":\"mesh3d\",\"colorbar\":{\"outlinewidth\":0,\"ticks\":\"\"}}],\"scatter\":[{\"fillpattern\":{\"fillmode\":\"overlay\",\"size\":10,\"solidity\":0.2},\"type\":\"scatter\"}],\"parcoords\":[{\"type\":\"parcoords\",\"line\":{\"colorbar\":{\"outlinewidth\":0,\"ticks\":\"\"}}}],\"scatterpolargl\":[{\"type\":\"scatterpolargl\",\"marker\":{\"colorbar\":{\"outlinewidth\":0,\"ticks\":\"\"}}}],\"bar\":[{\"error_x\":{\"color\":\"#2a3f5f\"},\"error_y\":{\"color\":\"#2a3f5f\"},\"marker\":{\"line\":{\"color\":\"#E5ECF6\",\"width\":0.5},\"pattern\":{\"fillmode\":\"overlay\",\"size\":10,\"solidity\":0.2}},\"type\":\"bar\"}],\"scattergeo\":[{\"type\":\"scattergeo\",\"marker\":{\"colorbar\":{\"outlinewidth\":0,\"ticks\":\"\"}}}],\"scatterpolar\":[{\"type\":\"scatterpolar\",\"marker\":{\"colorbar\":{\"outlinewidth\":0,\"ticks\":\"\"}}}],\"histogram\":[{\"marker\":{\"pattern\":{\"fillmode\":\"overlay\",\"size\":10,\"solidity\":0.2}},\"type\":\"histogram\"}],\"scattergl\":[{\"type\":\"scattergl\",\"marker\":{\"colorbar\":{\"outlinewidth\":0,\"ticks\":\"\"}}}],\"scatter3d\":[{\"type\":\"scatter3d\",\"line\":{\"colorbar\":{\"outlinewidth\":0,\"ticks\":\"\"}},\"marker\":{\"colorbar\":{\"outlinewidth\":0,\"ticks\":\"\"}}}],\"scattermapbox\":[{\"type\":\"scattermapbox\",\"marker\":{\"colorbar\":{\"outlinewidth\":0,\"ticks\":\"\"}}}],\"scatterternary\":[{\"type\":\"scatterternary\",\"marker\":{\"colorbar\":{\"outlinewidth\":0,\"ticks\":\"\"}}}],\"scattercarpet\":[{\"type\":\"scattercarpet\",\"marker\":{\"colorbar\":{\"outlinewidth\":0,\"ticks\":\"\"}}}],\"carpet\":[{\"aaxis\":{\"endlinecolor\":\"#2a3f5f\",\"gridcolor\":\"white\",\"linecolor\":\"white\",\"minorgridcolor\":\"white\",\"startlinecolor\":\"#2a3f5f\"},\"baxis\":{\"endlinecolor\":\"#2a3f5f\",\"gridcolor\":\"white\",\"linecolor\":\"white\",\"minorgridcolor\":\"white\",\"startlinecolor\":\"#2a3f5f\"},\"type\":\"carpet\"}],\"table\":[{\"cells\":{\"fill\":{\"color\":\"#EBF0F8\"},\"line\":{\"color\":\"white\"}},\"header\":{\"fill\":{\"color\":\"#C8D4E3\"},\"line\":{\"color\":\"white\"}},\"type\":\"table\"}],\"barpolar\":[{\"marker\":{\"line\":{\"color\":\"#E5ECF6\",\"width\":0.5},\"pattern\":{\"fillmode\":\"overlay\",\"size\":10,\"solidity\":0.2}},\"type\":\"barpolar\"}],\"pie\":[{\"automargin\":true,\"type\":\"pie\"}]},\"layout\":{\"autotypenumbers\":\"strict\",\"colorway\":[\"#636efa\",\"#EF553B\",\"#00cc96\",\"#ab63fa\",\"#FFA15A\",\"#19d3f3\",\"#FF6692\",\"#B6E880\",\"#FF97FF\",\"#FECB52\"],\"font\":{\"color\":\"#2a3f5f\"},\"hovermode\":\"closest\",\"hoverlabel\":{\"align\":\"left\"},\"paper_bgcolor\":\"white\",\"plot_bgcolor\":\"#E5ECF6\",\"polar\":{\"bgcolor\":\"#E5ECF6\",\"angularaxis\":{\"gridcolor\":\"white\",\"linecolor\":\"white\",\"ticks\":\"\"},\"radialaxis\":{\"gridcolor\":\"white\",\"linecolor\":\"white\",\"ticks\":\"\"}},\"ternary\":{\"bgcolor\":\"#E5ECF6\",\"aaxis\":{\"gridcolor\":\"white\",\"linecolor\":\"white\",\"ticks\":\"\"},\"baxis\":{\"gridcolor\":\"white\",\"linecolor\":\"white\",\"ticks\":\"\"},\"caxis\":{\"gridcolor\":\"white\",\"linecolor\":\"white\",\"ticks\":\"\"}},\"coloraxis\":{\"colorbar\":{\"outlinewidth\":0,\"ticks\":\"\"}},\"colorscale\":{\"sequential\":[[0.0,\"#0d0887\"],[0.1111111111111111,\"#46039f\"],[0.2222222222222222,\"#7201a8\"],[0.3333333333333333,\"#9c179e\"],[0.4444444444444444,\"#bd3786\"],[0.5555555555555556,\"#d8576b\"],[0.6666666666666666,\"#ed7953\"],[0.7777777777777778,\"#fb9f3a\"],[0.8888888888888888,\"#fdca26\"],[1.0,\"#f0f921\"]],\"sequentialminus\":[[0.0,\"#0d0887\"],[0.1111111111111111,\"#46039f\"],[0.2222222222222222,\"#7201a8\"],[0.3333333333333333,\"#9c179e\"],[0.4444444444444444,\"#bd3786\"],[0.5555555555555556,\"#d8576b\"],[0.6666666666666666,\"#ed7953\"],[0.7777777777777778,\"#fb9f3a\"],[0.8888888888888888,\"#fdca26\"],[1.0,\"#f0f921\"]],\"diverging\":[[0,\"#8e0152\"],[0.1,\"#c51b7d\"],[0.2,\"#de77ae\"],[0.3,\"#f1b6da\"],[0.4,\"#fde0ef\"],[0.5,\"#f7f7f7\"],[0.6,\"#e6f5d0\"],[0.7,\"#b8e186\"],[0.8,\"#7fbc41\"],[0.9,\"#4d9221\"],[1,\"#276419\"]]},\"xaxis\":{\"gridcolor\":\"white\",\"linecolor\":\"white\",\"ticks\":\"\",\"title\":{\"standoff\":15},\"zerolinecolor\":\"white\",\"automargin\":true,\"zerolinewidth\":2},\"yaxis\":{\"gridcolor\":\"white\",\"linecolor\":\"white\",\"ticks\":\"\",\"title\":{\"standoff\":15},\"zerolinecolor\":\"white\",\"automargin\":true,\"zerolinewidth\":2},\"scene\":{\"xaxis\":{\"backgroundcolor\":\"#E5ECF6\",\"gridcolor\":\"white\",\"linecolor\":\"white\",\"showbackground\":true,\"ticks\":\"\",\"zerolinecolor\":\"white\",\"gridwidth\":2},\"yaxis\":{\"backgroundcolor\":\"#E5ECF6\",\"gridcolor\":\"white\",\"linecolor\":\"white\",\"showbackground\":true,\"ticks\":\"\",\"zerolinecolor\":\"white\",\"gridwidth\":2},\"zaxis\":{\"backgroundcolor\":\"#E5ECF6\",\"gridcolor\":\"white\",\"linecolor\":\"white\",\"showbackground\":true,\"ticks\":\"\",\"zerolinecolor\":\"white\",\"gridwidth\":2}},\"shapedefaults\":{\"line\":{\"color\":\"#2a3f5f\"}},\"annotationdefaults\":{\"arrowcolor\":\"#2a3f5f\",\"arrowhead\":0,\"arrowwidth\":1},\"geo\":{\"bgcolor\":\"white\",\"landcolor\":\"#E5ECF6\",\"subunitcolor\":\"white\",\"showland\":true,\"showlakes\":true,\"lakecolor\":\"white\"},\"title\":{\"x\":0.05},\"mapbox\":{\"style\":\"light\"}}},\"xaxis\":{\"anchor\":\"y\",\"domain\":[0.0,1.0],\"title\":{\"text\":\"Total Members (Viewers)\"}},\"yaxis\":{\"anchor\":\"x\",\"domain\":[0.0,1.0],\"title\":{\"text\":\"Anime Type\"},\"categoryorder\":\"array\",\"categoryarray\":[\"TV Special\",\"Special\",\"ONA\",\"OVA\",\"Movie\",\"TV\"]},\"legend\":{\"title\":{\"text\":\"Anime Type\"},\"tracegroupgap\":0},\"title\":{\"text\":\"Anime Type Based on the Number of Viewers\"},\"barmode\":\"relative\"},                        {\"responsive\": true}                    ).then(function(){\n",
       "                            \n",
       "var gd = document.getElementById('1fb5940f-4f99-4768-b48f-7a24d1cc5002');\n",
       "var x = new MutationObserver(function (mutations, observer) {{\n",
       "        var display = window.getComputedStyle(gd).display;\n",
       "        if (!display || display === 'none') {{\n",
       "            console.log([gd, 'removed!']);\n",
       "            Plotly.purge(gd);\n",
       "            observer.disconnect();\n",
       "        }}\n",
       "}});\n",
       "\n",
       "// Listen for the removal of the full notebook cells\n",
       "var notebookContainer = gd.closest('#notebook-container');\n",
       "if (notebookContainer) {{\n",
       "    x.observe(notebookContainer, {childList: true});\n",
       "}}\n",
       "\n",
       "// Listen for the clearing of the current output cell\n",
       "var outputEl = gd.closest('.output');\n",
       "if (outputEl) {{\n",
       "    x.observe(outputEl, {childList: true});\n",
       "}}\n",
       "\n",
       "                        })                };                });            </script>        </div>"
      ]
     },
     "metadata": {},
     "output_type": "display_data"
    }
   ],
   "source": [
    "import plotly.express as px\n",
    "\n",
    "# Prepare the data\n",
    "type_members = anime_data.groupby('Type')['Members'].sum().reset_index()\n",
    "type_members = type_members.sort_values('Members', ascending=False)\n",
    "\n",
    "# Create the interactive bar plot\n",
    "fig = px.bar(type_members, x='Members', y='Type', \n",
    "             title='Anime Type Based on the Number of Viewers', \n",
    "             labels={'Members': 'Total Members (Viewers)', 'Type': 'Anime Type'},\n",
    "             color='Type',  # Colors based on anime type\n",
    "             text='Members',  # Display the member count on top of the bars\n",
    "             orientation='h')  # Horizontal bar plot\n",
    "fig.update_traces(textposition='none')\n",
    "\n",
    "fig.show()\n"
   ]
  },
  {
   "cell_type": "code",
   "execution_count": 306,
   "id": "24f621b2-e9cd-4f2f-85b6-768bad1422ce",
   "metadata": {},
   "outputs": [
    {
     "name": "stdout",
     "output_type": "stream",
     "text": [
      "0    [Wit Studio]\n",
      "1      [Madhouse]\n",
      "2         [Bones]\n",
      "3      [Madhouse]\n",
      "4      [ufotable]\n",
      "Name: Studios, dtype: object\n"
     ]
    }
   ],
   "source": [
    "# Check the first few rows of the 'Studios' column to see its structure\n",
    "print(anime_data['Studios'].head())"
   ]
  },
  {
   "cell_type": "code",
   "execution_count": 307,
   "id": "bd6cf323-fe0c-49e1-864d-bfc12d1baa57",
   "metadata": {},
   "outputs": [
    {
     "data": {
      "application/vnd.plotly.v1+json": {
       "config": {
        "plotlyServerURL": "https://plot.ly"
       },
       "data": [
        {
         "branchvalues": "total",
         "domain": {
          "x": [
           0,
           1
          ],
          "y": [
           0,
           1
          ]
         },
         "hovertemplate": "<b>%{label}</b><br>Count: %{value}<extra></extra>",
         "ids": [
          "8bit",
          "A-1 Pictures",
          "A.C.G.T.",
          "ABJ COMPANY",
          "AHA Entertainment",
          "AIC",
          "AIC ASTA",
          "APPP",
          "Actas",
          "Ajia-do",
          "Animation Do",
          "Artland",
          "B.CMAY PICTURES",
          "BUG FILMS",
          "Bandai Namco Pictures",
          "Bee Train",
          "Bibury Animation Studios",
          "Bones",
          "Brain's Base",
          "C-Station",
          "C2C",
          "CLAP",
          "Cloud Hearts",
          "CloverWorks",
          "CoMix Wave Films",
          "Colored Pencil Animation",
          "CygamesPictures",
          "DandeLion Animation Studio",
          "David Production",
          "Doga Kobo",
          "Drive",
          "E&G Films",
          "Egg Firm",
          "Encourage Films",
          "Fenz",
          "Flat Studio",
          "Gainax",
          "Gallop",
          "Geek Toys",
          "Geno Studio",
          "GoHands",
          "Gonzo",
          "Graphinica",
          "Group TAC",
          "HAL Film Maker",
          "HMCH",
          "HORNETS",
          "Haoliners Animation League",
          "Hololive Production",
          "Hoods Entertainment",
          "Imagin",
          "J.C.Staff",
          "K-Factory",
          "Khara",
          "Kinema Citrus",
          "Kitty Film Mitaka Studio",
          "Kyoto Animation",
          "LAN Studio",
          "LIDENFILMS",
          "Lapin Track",
          "Lay-duce",
          "Lerche",
          "M.S.C",
          "MAPPA",
          "Madhouse",
          "Manglobe",
          "Marvy Jack",
          "Marza Animation Planet",
          "Minami Machi Bugyousho",
          "Motion Magic",
          "Mushi Production",
          "NAZ",
          "Nexus",
          "Nippon Animation",
          "Nippon Ramayana Film Co.",
          "Nomad",
          "None found",
          "Nut",
          "OLM",
          "Oh! Production",
          "Orange",
          "P.A. Works",
          "P.I.C.S.",
          "Passione",
          "Pastel",
          "Phoenix Entertainment",
          "Pierrot",
          "Pierrot Plus",
          "Platinum Vision",
          "Production I.G",
          "Production IMS",
          "Project No.9",
          "Purple Cow Studio Japan",
          "Radix",
          "Red Dog Culture House",
          "SANZIGEN",
          "SILVER LINK.",
          "Samsara Animation Studio",
          "Satelight",
          "Science SARU",
          "Seven Arcs",
          "Shaft",
          "Sharefun Studio",
          "Shenman Entertainment",
          "Shin-Ei Animation",
          "Shirogumi",
          "Shuka",
          "Sparkly Key Animation Studio",
          "Square Enix Visual Works",
          "Studio 4°C",
          "Studio Bind",
          "Studio Chizu",
          "Studio Comet",
          "Studio Deen",
          "Studio Ghibli",
          "Studio Gokumi",
          "Studio Hibari",
          "Studio Kafka",
          "Studio Kai",
          "Studio M2",
          "Studio Rikka",
          "Studio Signpost",
          "Studio VOLN",
          "Sunrise",
          "SynergySP",
          "TMS Entertainment",
          "TOHO animation STUDIO",
          "TROYCA",
          "TYO Animations",
          "Tatsunoko Production",
          "Telecom Animation Film",
          "Telescreen",
          "Tezuka Productions",
          "Toei Animation",
          "Tokyo Kids",
          "Tokyo Movie Shinsha",
          "Topcraft",
          "Trans Arts",
          "Triangle Staff",
          "Trigger",
          "White Fox",
          "Wit Studio",
          "Xebec",
          "Yokohama Animation Lab",
          "Yumeta Company",
          "ZERO-G",
          "add some",
          "domerica",
          "feel.",
          "ufotable"
         ],
         "labels": [
          "8bit",
          "A-1 Pictures",
          "A.C.G.T.",
          "ABJ COMPANY",
          "AHA Entertainment",
          "AIC",
          "AIC ASTA",
          "APPP",
          "Actas",
          "Ajia-do",
          "Animation Do",
          "Artland",
          "B.CMAY PICTURES",
          "BUG FILMS",
          "Bandai Namco Pictures",
          "Bee Train",
          "Bibury Animation Studios",
          "Bones",
          "Brain's Base",
          "C-Station",
          "C2C",
          "CLAP",
          "Cloud Hearts",
          "CloverWorks",
          "CoMix Wave Films",
          "Colored Pencil Animation",
          "CygamesPictures",
          "DandeLion Animation Studio",
          "David Production",
          "Doga Kobo",
          "Drive",
          "E&G Films",
          "Egg Firm",
          "Encourage Films",
          "Fenz",
          "Flat Studio",
          "Gainax",
          "Gallop",
          "Geek Toys",
          "Geno Studio",
          "GoHands",
          "Gonzo",
          "Graphinica",
          "Group TAC",
          "HAL Film Maker",
          "HMCH",
          "HORNETS",
          "Haoliners Animation League",
          "Hololive Production",
          "Hoods Entertainment",
          "Imagin",
          "J.C.Staff",
          "K-Factory",
          "Khara",
          "Kinema Citrus",
          "Kitty Film Mitaka Studio",
          "Kyoto Animation",
          "LAN Studio",
          "LIDENFILMS",
          "Lapin Track",
          "Lay-duce",
          "Lerche",
          "M.S.C",
          "MAPPA",
          "Madhouse",
          "Manglobe",
          "Marvy Jack",
          "Marza Animation Planet",
          "Minami Machi Bugyousho",
          "Motion Magic",
          "Mushi Production",
          "NAZ",
          "Nexus",
          "Nippon Animation",
          "Nippon Ramayana Film Co.",
          "Nomad",
          "None found",
          "Nut",
          "OLM",
          "Oh! Production",
          "Orange",
          "P.A. Works",
          "P.I.C.S.",
          "Passione",
          "Pastel",
          "Phoenix Entertainment",
          "Pierrot",
          "Pierrot Plus",
          "Platinum Vision",
          "Production I.G",
          "Production IMS",
          "Project No.9",
          "Purple Cow Studio Japan",
          "Radix",
          "Red Dog Culture House",
          "SANZIGEN",
          "SILVER LINK.",
          "Samsara Animation Studio",
          "Satelight",
          "Science SARU",
          "Seven Arcs",
          "Shaft",
          "Sharefun Studio",
          "Shenman Entertainment",
          "Shin-Ei Animation",
          "Shirogumi",
          "Shuka",
          "Sparkly Key Animation Studio",
          "Square Enix Visual Works",
          "Studio 4°C",
          "Studio Bind",
          "Studio Chizu",
          "Studio Comet",
          "Studio Deen",
          "Studio Ghibli",
          "Studio Gokumi",
          "Studio Hibari",
          "Studio Kafka",
          "Studio Kai",
          "Studio M2",
          "Studio Rikka",
          "Studio Signpost",
          "Studio VOLN",
          "Sunrise",
          "SynergySP",
          "TMS Entertainment",
          "TOHO animation STUDIO",
          "TROYCA",
          "TYO Animations",
          "Tatsunoko Production",
          "Telecom Animation Film",
          "Telescreen",
          "Tezuka Productions",
          "Toei Animation",
          "Tokyo Kids",
          "Tokyo Movie Shinsha",
          "Topcraft",
          "Trans Arts",
          "Triangle Staff",
          "Trigger",
          "White Fox",
          "Wit Studio",
          "Xebec",
          "Yokohama Animation Lab",
          "Yumeta Company",
          "ZERO-G",
          "add some",
          "domerica",
          "feel.",
          "ufotable"
         ],
         "name": "",
         "parents": [
          "",
          "",
          "",
          "",
          "",
          "",
          "",
          "",
          "",
          "",
          "",
          "",
          "",
          "",
          "",
          "",
          "",
          "",
          "",
          "",
          "",
          "",
          "",
          "",
          "",
          "",
          "",
          "",
          "",
          "",
          "",
          "",
          "",
          "",
          "",
          "",
          "",
          "",
          "",
          "",
          "",
          "",
          "",
          "",
          "",
          "",
          "",
          "",
          "",
          "",
          "",
          "",
          "",
          "",
          "",
          "",
          "",
          "",
          "",
          "",
          "",
          "",
          "",
          "",
          "",
          "",
          "",
          "",
          "",
          "",
          "",
          "",
          "",
          "",
          "",
          "",
          "",
          "",
          "",
          "",
          "",
          "",
          "",
          "",
          "",
          "",
          "",
          "",
          "",
          "",
          "",
          "",
          "",
          "",
          "",
          "",
          "",
          "",
          "",
          "",
          "",
          "",
          "",
          "",
          "",
          "",
          "",
          "",
          "",
          "",
          "",
          "",
          "",
          "",
          "",
          "",
          "",
          "",
          "",
          "",
          "",
          "",
          "",
          "",
          "",
          "",
          "",
          "",
          "",
          "",
          "",
          "",
          "",
          "",
          "",
          "",
          "",
          "",
          "",
          "",
          "",
          "",
          "",
          "",
          "",
          "",
          "",
          "",
          "",
          ""
         ],
         "type": "treemap",
         "values": [
          9,
          36,
          2,
          1,
          2,
          2,
          1,
          1,
          5,
          7,
          1,
          7,
          6,
          1,
          11,
          2,
          3,
          41,
          19,
          3,
          1,
          2,
          1,
          17,
          4,
          3,
          1,
          1,
          10,
          6,
          2,
          3,
          4,
          1,
          3,
          1,
          7,
          5,
          1,
          3,
          2,
          5,
          1,
          2,
          6,
          4,
          1,
          2,
          1,
          1,
          1,
          33,
          3,
          3,
          9,
          3,
          36,
          2,
          8,
          2,
          2,
          12,
          3,
          21,
          61,
          5,
          2,
          1,
          1,
          3,
          1,
          1,
          2,
          10,
          1,
          1,
          3,
          3,
          7,
          1,
          4,
          11,
          1,
          1,
          1,
          1,
          27,
          1,
          2,
          60,
          1,
          1,
          1,
          1,
          1,
          9,
          10,
          2,
          7,
          4,
          5,
          31,
          4,
          3,
          13,
          2,
          11,
          7,
          1,
          5,
          5,
          2,
          4,
          25,
          14,
          2,
          5,
          1,
          1,
          1,
          3,
          3,
          2,
          52,
          8,
          50,
          1,
          5,
          6,
          7,
          4,
          1,
          3,
          40,
          1,
          9,
          1,
          2,
          1,
          7,
          11,
          20,
          4,
          1,
          1,
          1,
          3,
          1,
          5,
          18
         ]
        }
       ],
       "layout": {
        "height": 500,
        "legend": {
         "tracegroupgap": 0
        },
        "template": {
         "data": {
          "bar": [
           {
            "error_x": {
             "color": "#2a3f5f"
            },
            "error_y": {
             "color": "#2a3f5f"
            },
            "marker": {
             "line": {
              "color": "#E5ECF6",
              "width": 0.5
             },
             "pattern": {
              "fillmode": "overlay",
              "size": 10,
              "solidity": 0.2
             }
            },
            "type": "bar"
           }
          ],
          "barpolar": [
           {
            "marker": {
             "line": {
              "color": "#E5ECF6",
              "width": 0.5
             },
             "pattern": {
              "fillmode": "overlay",
              "size": 10,
              "solidity": 0.2
             }
            },
            "type": "barpolar"
           }
          ],
          "carpet": [
           {
            "aaxis": {
             "endlinecolor": "#2a3f5f",
             "gridcolor": "white",
             "linecolor": "white",
             "minorgridcolor": "white",
             "startlinecolor": "#2a3f5f"
            },
            "baxis": {
             "endlinecolor": "#2a3f5f",
             "gridcolor": "white",
             "linecolor": "white",
             "minorgridcolor": "white",
             "startlinecolor": "#2a3f5f"
            },
            "type": "carpet"
           }
          ],
          "choropleth": [
           {
            "colorbar": {
             "outlinewidth": 0,
             "ticks": ""
            },
            "type": "choropleth"
           }
          ],
          "contour": [
           {
            "colorbar": {
             "outlinewidth": 0,
             "ticks": ""
            },
            "colorscale": [
             [
              0,
              "#0d0887"
             ],
             [
              0.1111111111111111,
              "#46039f"
             ],
             [
              0.2222222222222222,
              "#7201a8"
             ],
             [
              0.3333333333333333,
              "#9c179e"
             ],
             [
              0.4444444444444444,
              "#bd3786"
             ],
             [
              0.5555555555555556,
              "#d8576b"
             ],
             [
              0.6666666666666666,
              "#ed7953"
             ],
             [
              0.7777777777777778,
              "#fb9f3a"
             ],
             [
              0.8888888888888888,
              "#fdca26"
             ],
             [
              1,
              "#f0f921"
             ]
            ],
            "type": "contour"
           }
          ],
          "contourcarpet": [
           {
            "colorbar": {
             "outlinewidth": 0,
             "ticks": ""
            },
            "type": "contourcarpet"
           }
          ],
          "heatmap": [
           {
            "colorbar": {
             "outlinewidth": 0,
             "ticks": ""
            },
            "colorscale": [
             [
              0,
              "#0d0887"
             ],
             [
              0.1111111111111111,
              "#46039f"
             ],
             [
              0.2222222222222222,
              "#7201a8"
             ],
             [
              0.3333333333333333,
              "#9c179e"
             ],
             [
              0.4444444444444444,
              "#bd3786"
             ],
             [
              0.5555555555555556,
              "#d8576b"
             ],
             [
              0.6666666666666666,
              "#ed7953"
             ],
             [
              0.7777777777777778,
              "#fb9f3a"
             ],
             [
              0.8888888888888888,
              "#fdca26"
             ],
             [
              1,
              "#f0f921"
             ]
            ],
            "type": "heatmap"
           }
          ],
          "heatmapgl": [
           {
            "colorbar": {
             "outlinewidth": 0,
             "ticks": ""
            },
            "colorscale": [
             [
              0,
              "#0d0887"
             ],
             [
              0.1111111111111111,
              "#46039f"
             ],
             [
              0.2222222222222222,
              "#7201a8"
             ],
             [
              0.3333333333333333,
              "#9c179e"
             ],
             [
              0.4444444444444444,
              "#bd3786"
             ],
             [
              0.5555555555555556,
              "#d8576b"
             ],
             [
              0.6666666666666666,
              "#ed7953"
             ],
             [
              0.7777777777777778,
              "#fb9f3a"
             ],
             [
              0.8888888888888888,
              "#fdca26"
             ],
             [
              1,
              "#f0f921"
             ]
            ],
            "type": "heatmapgl"
           }
          ],
          "histogram": [
           {
            "marker": {
             "pattern": {
              "fillmode": "overlay",
              "size": 10,
              "solidity": 0.2
             }
            },
            "type": "histogram"
           }
          ],
          "histogram2d": [
           {
            "colorbar": {
             "outlinewidth": 0,
             "ticks": ""
            },
            "colorscale": [
             [
              0,
              "#0d0887"
             ],
             [
              0.1111111111111111,
              "#46039f"
             ],
             [
              0.2222222222222222,
              "#7201a8"
             ],
             [
              0.3333333333333333,
              "#9c179e"
             ],
             [
              0.4444444444444444,
              "#bd3786"
             ],
             [
              0.5555555555555556,
              "#d8576b"
             ],
             [
              0.6666666666666666,
              "#ed7953"
             ],
             [
              0.7777777777777778,
              "#fb9f3a"
             ],
             [
              0.8888888888888888,
              "#fdca26"
             ],
             [
              1,
              "#f0f921"
             ]
            ],
            "type": "histogram2d"
           }
          ],
          "histogram2dcontour": [
           {
            "colorbar": {
             "outlinewidth": 0,
             "ticks": ""
            },
            "colorscale": [
             [
              0,
              "#0d0887"
             ],
             [
              0.1111111111111111,
              "#46039f"
             ],
             [
              0.2222222222222222,
              "#7201a8"
             ],
             [
              0.3333333333333333,
              "#9c179e"
             ],
             [
              0.4444444444444444,
              "#bd3786"
             ],
             [
              0.5555555555555556,
              "#d8576b"
             ],
             [
              0.6666666666666666,
              "#ed7953"
             ],
             [
              0.7777777777777778,
              "#fb9f3a"
             ],
             [
              0.8888888888888888,
              "#fdca26"
             ],
             [
              1,
              "#f0f921"
             ]
            ],
            "type": "histogram2dcontour"
           }
          ],
          "mesh3d": [
           {
            "colorbar": {
             "outlinewidth": 0,
             "ticks": ""
            },
            "type": "mesh3d"
           }
          ],
          "parcoords": [
           {
            "line": {
             "colorbar": {
              "outlinewidth": 0,
              "ticks": ""
             }
            },
            "type": "parcoords"
           }
          ],
          "pie": [
           {
            "automargin": true,
            "type": "pie"
           }
          ],
          "scatter": [
           {
            "fillpattern": {
             "fillmode": "overlay",
             "size": 10,
             "solidity": 0.2
            },
            "type": "scatter"
           }
          ],
          "scatter3d": [
           {
            "line": {
             "colorbar": {
              "outlinewidth": 0,
              "ticks": ""
             }
            },
            "marker": {
             "colorbar": {
              "outlinewidth": 0,
              "ticks": ""
             }
            },
            "type": "scatter3d"
           }
          ],
          "scattercarpet": [
           {
            "marker": {
             "colorbar": {
              "outlinewidth": 0,
              "ticks": ""
             }
            },
            "type": "scattercarpet"
           }
          ],
          "scattergeo": [
           {
            "marker": {
             "colorbar": {
              "outlinewidth": 0,
              "ticks": ""
             }
            },
            "type": "scattergeo"
           }
          ],
          "scattergl": [
           {
            "marker": {
             "colorbar": {
              "outlinewidth": 0,
              "ticks": ""
             }
            },
            "type": "scattergl"
           }
          ],
          "scattermapbox": [
           {
            "marker": {
             "colorbar": {
              "outlinewidth": 0,
              "ticks": ""
             }
            },
            "type": "scattermapbox"
           }
          ],
          "scatterpolar": [
           {
            "marker": {
             "colorbar": {
              "outlinewidth": 0,
              "ticks": ""
             }
            },
            "type": "scatterpolar"
           }
          ],
          "scatterpolargl": [
           {
            "marker": {
             "colorbar": {
              "outlinewidth": 0,
              "ticks": ""
             }
            },
            "type": "scatterpolargl"
           }
          ],
          "scatterternary": [
           {
            "marker": {
             "colorbar": {
              "outlinewidth": 0,
              "ticks": ""
             }
            },
            "type": "scatterternary"
           }
          ],
          "surface": [
           {
            "colorbar": {
             "outlinewidth": 0,
             "ticks": ""
            },
            "colorscale": [
             [
              0,
              "#0d0887"
             ],
             [
              0.1111111111111111,
              "#46039f"
             ],
             [
              0.2222222222222222,
              "#7201a8"
             ],
             [
              0.3333333333333333,
              "#9c179e"
             ],
             [
              0.4444444444444444,
              "#bd3786"
             ],
             [
              0.5555555555555556,
              "#d8576b"
             ],
             [
              0.6666666666666666,
              "#ed7953"
             ],
             [
              0.7777777777777778,
              "#fb9f3a"
             ],
             [
              0.8888888888888888,
              "#fdca26"
             ],
             [
              1,
              "#f0f921"
             ]
            ],
            "type": "surface"
           }
          ],
          "table": [
           {
            "cells": {
             "fill": {
              "color": "#EBF0F8"
             },
             "line": {
              "color": "white"
             }
            },
            "header": {
             "fill": {
              "color": "#C8D4E3"
             },
             "line": {
              "color": "white"
             }
            },
            "type": "table"
           }
          ]
         },
         "layout": {
          "annotationdefaults": {
           "arrowcolor": "#2a3f5f",
           "arrowhead": 0,
           "arrowwidth": 1
          },
          "autotypenumbers": "strict",
          "coloraxis": {
           "colorbar": {
            "outlinewidth": 0,
            "ticks": ""
           }
          },
          "colorscale": {
           "diverging": [
            [
             0,
             "#8e0152"
            ],
            [
             0.1,
             "#c51b7d"
            ],
            [
             0.2,
             "#de77ae"
            ],
            [
             0.3,
             "#f1b6da"
            ],
            [
             0.4,
             "#fde0ef"
            ],
            [
             0.5,
             "#f7f7f7"
            ],
            [
             0.6,
             "#e6f5d0"
            ],
            [
             0.7,
             "#b8e186"
            ],
            [
             0.8,
             "#7fbc41"
            ],
            [
             0.9,
             "#4d9221"
            ],
            [
             1,
             "#276419"
            ]
           ],
           "sequential": [
            [
             0,
             "#0d0887"
            ],
            [
             0.1111111111111111,
             "#46039f"
            ],
            [
             0.2222222222222222,
             "#7201a8"
            ],
            [
             0.3333333333333333,
             "#9c179e"
            ],
            [
             0.4444444444444444,
             "#bd3786"
            ],
            [
             0.5555555555555556,
             "#d8576b"
            ],
            [
             0.6666666666666666,
             "#ed7953"
            ],
            [
             0.7777777777777778,
             "#fb9f3a"
            ],
            [
             0.8888888888888888,
             "#fdca26"
            ],
            [
             1,
             "#f0f921"
            ]
           ],
           "sequentialminus": [
            [
             0,
             "#0d0887"
            ],
            [
             0.1111111111111111,
             "#46039f"
            ],
            [
             0.2222222222222222,
             "#7201a8"
            ],
            [
             0.3333333333333333,
             "#9c179e"
            ],
            [
             0.4444444444444444,
             "#bd3786"
            ],
            [
             0.5555555555555556,
             "#d8576b"
            ],
            [
             0.6666666666666666,
             "#ed7953"
            ],
            [
             0.7777777777777778,
             "#fb9f3a"
            ],
            [
             0.8888888888888888,
             "#fdca26"
            ],
            [
             1,
             "#f0f921"
            ]
           ]
          },
          "colorway": [
           "#636efa",
           "#EF553B",
           "#00cc96",
           "#ab63fa",
           "#FFA15A",
           "#19d3f3",
           "#FF6692",
           "#B6E880",
           "#FF97FF",
           "#FECB52"
          ],
          "font": {
           "color": "#2a3f5f"
          },
          "geo": {
           "bgcolor": "white",
           "lakecolor": "white",
           "landcolor": "#E5ECF6",
           "showlakes": true,
           "showland": true,
           "subunitcolor": "white"
          },
          "hoverlabel": {
           "align": "left"
          },
          "hovermode": "closest",
          "mapbox": {
           "style": "light"
          },
          "paper_bgcolor": "white",
          "plot_bgcolor": "#E5ECF6",
          "polar": {
           "angularaxis": {
            "gridcolor": "white",
            "linecolor": "white",
            "ticks": ""
           },
           "bgcolor": "#E5ECF6",
           "radialaxis": {
            "gridcolor": "white",
            "linecolor": "white",
            "ticks": ""
           }
          },
          "scene": {
           "xaxis": {
            "backgroundcolor": "#E5ECF6",
            "gridcolor": "white",
            "gridwidth": 2,
            "linecolor": "white",
            "showbackground": true,
            "ticks": "",
            "zerolinecolor": "white"
           },
           "yaxis": {
            "backgroundcolor": "#E5ECF6",
            "gridcolor": "white",
            "gridwidth": 2,
            "linecolor": "white",
            "showbackground": true,
            "ticks": "",
            "zerolinecolor": "white"
           },
           "zaxis": {
            "backgroundcolor": "#E5ECF6",
            "gridcolor": "white",
            "gridwidth": 2,
            "linecolor": "white",
            "showbackground": true,
            "ticks": "",
            "zerolinecolor": "white"
           }
          },
          "shapedefaults": {
           "line": {
            "color": "#2a3f5f"
           }
          },
          "ternary": {
           "aaxis": {
            "gridcolor": "white",
            "linecolor": "white",
            "ticks": ""
           },
           "baxis": {
            "gridcolor": "white",
            "linecolor": "white",
            "ticks": ""
           },
           "bgcolor": "#E5ECF6",
           "caxis": {
            "gridcolor": "white",
            "linecolor": "white",
            "ticks": ""
           }
          },
          "title": {
           "x": 0.05
          },
          "xaxis": {
           "automargin": true,
           "gridcolor": "white",
           "linecolor": "white",
           "ticks": "",
           "title": {
            "standoff": 15
           },
           "zerolinecolor": "white",
           "zerolinewidth": 2
          },
          "yaxis": {
           "automargin": true,
           "gridcolor": "white",
           "linecolor": "white",
           "ticks": "",
           "title": {
            "standoff": 15
           },
           "zerolinecolor": "white",
           "zerolinewidth": 2
          }
         }
        },
        "title": {
         "text": "Top Studios Producing Anime"
        },
        "width": 1100
       }
      },
      "image/png": "[encoded data removed]",
      "text/html": [
       "<div>                            <div id=\"d5aec939-8fbd-4294-b261-c5185f1135b9\" class=\"plotly-graph-div\" style=\"height:500px; width:1100px;\"></div>            <script type=\"text/javascript\">                require([\"plotly\"], function(Plotly) {                    window.PLOTLYENV=window.PLOTLYENV || {};                                    if (document.getElementById(\"d5aec939-8fbd-4294-b261-c5185f1135b9\")) {                    Plotly.newPlot(                        \"d5aec939-8fbd-4294-b261-c5185f1135b9\",                        [{\"branchvalues\":\"total\",\"domain\":{\"x\":[0.0,1.0],\"y\":[0.0,1.0]},\"hovertemplate\":\"\\u003cb\\u003e%{label}\\u003c\\u002fb\\u003e\\u003cbr\\u003eCount: %{value}\\u003cextra\\u003e\\u003c\\u002fextra\\u003e\",\"ids\":[\"8bit\",\"A-1 Pictures\",\"A.C.G.T.\",\"ABJ COMPANY\",\"AHA Entertainment\",\"AIC\",\"AIC ASTA\",\"APPP\",\"Actas\",\"Ajia-do\",\"Animation Do\",\"Artland\",\"B.CMAY PICTURES\",\"BUG FILMS\",\"Bandai Namco Pictures\",\"Bee Train\",\"Bibury Animation Studios\",\"Bones\",\"Brain's Base\",\"C-Station\",\"C2C\",\"CLAP\",\"Cloud Hearts\",\"CloverWorks\",\"CoMix Wave Films\",\"Colored Pencil Animation\",\"CygamesPictures\",\"DandeLion Animation Studio\",\"David Production\",\"Doga Kobo\",\"Drive\",\"E&G Films\",\"Egg Firm\",\"Encourage Films\",\"Fenz\",\"Flat Studio\",\"Gainax\",\"Gallop\",\"Geek Toys\",\"Geno Studio\",\"GoHands\",\"Gonzo\",\"Graphinica\",\"Group TAC\",\"HAL Film Maker\",\"HMCH\",\"HORNETS\",\"Haoliners Animation League\",\"Hololive Production\",\"Hoods Entertainment\",\"Imagin\",\"J.C.Staff\",\"K-Factory\",\"Khara\",\"Kinema Citrus\",\"Kitty Film Mitaka Studio\",\"Kyoto Animation\",\"LAN Studio\",\"LIDENFILMS\",\"Lapin Track\",\"Lay-duce\",\"Lerche\",\"M.S.C\",\"MAPPA\",\"Madhouse\",\"Manglobe\",\"Marvy Jack\",\"Marza Animation Planet\",\"Minami Machi Bugyousho\",\"Motion Magic\",\"Mushi Production\",\"NAZ\",\"Nexus\",\"Nippon Animation\",\"Nippon Ramayana Film Co.\",\"Nomad\",\"None found\",\"Nut\",\"OLM\",\"Oh! Production\",\"Orange\",\"P.A. Works\",\"P.I.C.S.\",\"Passione\",\"Pastel\",\"Phoenix Entertainment\",\"Pierrot\",\"Pierrot Plus\",\"Platinum Vision\",\"Production I.G\",\"Production IMS\",\"Project No.9\",\"Purple Cow Studio Japan\",\"Radix\",\"Red Dog Culture House\",\"SANZIGEN\",\"SILVER LINK.\",\"Samsara Animation Studio\",\"Satelight\",\"Science SARU\",\"Seven Arcs\",\"Shaft\",\"Sharefun Studio\",\"Shenman Entertainment\",\"Shin-Ei Animation\",\"Shirogumi\",\"Shuka\",\"Sparkly Key Animation Studio\",\"Square Enix Visual Works\",\"Studio 4\\u00b0C\",\"Studio Bind\",\"Studio Chizu\",\"Studio Comet\",\"Studio Deen\",\"Studio Ghibli\",\"Studio Gokumi\",\"Studio Hibari\",\"Studio Kafka\",\"Studio Kai\",\"Studio M2\",\"Studio Rikka\",\"Studio Signpost\",\"Studio VOLN\",\"Sunrise\",\"SynergySP\",\"TMS Entertainment\",\"TOHO animation STUDIO\",\"TROYCA\",\"TYO Animations\",\"Tatsunoko Production\",\"Telecom Animation Film\",\"Telescreen\",\"Tezuka Productions\",\"Toei Animation\",\"Tokyo Kids\",\"Tokyo Movie Shinsha\",\"Topcraft\",\"Trans Arts\",\"Triangle Staff\",\"Trigger\",\"White Fox\",\"Wit Studio\",\"Xebec\",\"Yokohama Animation Lab\",\"Yumeta Company\",\"ZERO-G\",\"add some\",\"domerica\",\"feel.\",\"ufotable\"],\"labels\":[\"8bit\",\"A-1 Pictures\",\"A.C.G.T.\",\"ABJ COMPANY\",\"AHA Entertainment\",\"AIC\",\"AIC ASTA\",\"APPP\",\"Actas\",\"Ajia-do\",\"Animation Do\",\"Artland\",\"B.CMAY PICTURES\",\"BUG FILMS\",\"Bandai Namco Pictures\",\"Bee Train\",\"Bibury Animation Studios\",\"Bones\",\"Brain's Base\",\"C-Station\",\"C2C\",\"CLAP\",\"Cloud Hearts\",\"CloverWorks\",\"CoMix Wave Films\",\"Colored Pencil Animation\",\"CygamesPictures\",\"DandeLion Animation Studio\",\"David Production\",\"Doga Kobo\",\"Drive\",\"E&G Films\",\"Egg Firm\",\"Encourage Films\",\"Fenz\",\"Flat Studio\",\"Gainax\",\"Gallop\",\"Geek Toys\",\"Geno Studio\",\"GoHands\",\"Gonzo\",\"Graphinica\",\"Group TAC\",\"HAL Film Maker\",\"HMCH\",\"HORNETS\",\"Haoliners Animation League\",\"Hololive Production\",\"Hoods Entertainment\",\"Imagin\",\"J.C.Staff\",\"K-Factory\",\"Khara\",\"Kinema Citrus\",\"Kitty Film Mitaka Studio\",\"Kyoto Animation\",\"LAN Studio\",\"LIDENFILMS\",\"Lapin Track\",\"Lay-duce\",\"Lerche\",\"M.S.C\",\"MAPPA\",\"Madhouse\",\"Manglobe\",\"Marvy Jack\",\"Marza Animation Planet\",\"Minami Machi Bugyousho\",\"Motion Magic\",\"Mushi Production\",\"NAZ\",\"Nexus\",\"Nippon Animation\",\"Nippon Ramayana Film Co.\",\"Nomad\",\"None found\",\"Nut\",\"OLM\",\"Oh! Production\",\"Orange\",\"P.A. Works\",\"P.I.C.S.\",\"Passione\",\"Pastel\",\"Phoenix Entertainment\",\"Pierrot\",\"Pierrot Plus\",\"Platinum Vision\",\"Production I.G\",\"Production IMS\",\"Project No.9\",\"Purple Cow Studio Japan\",\"Radix\",\"Red Dog Culture House\",\"SANZIGEN\",\"SILVER LINK.\",\"Samsara Animation Studio\",\"Satelight\",\"Science SARU\",\"Seven Arcs\",\"Shaft\",\"Sharefun Studio\",\"Shenman Entertainment\",\"Shin-Ei Animation\",\"Shirogumi\",\"Shuka\",\"Sparkly Key Animation Studio\",\"Square Enix Visual Works\",\"Studio 4\\u00b0C\",\"Studio Bind\",\"Studio Chizu\",\"Studio Comet\",\"Studio Deen\",\"Studio Ghibli\",\"Studio Gokumi\",\"Studio Hibari\",\"Studio Kafka\",\"Studio Kai\",\"Studio M2\",\"Studio Rikka\",\"Studio Signpost\",\"Studio VOLN\",\"Sunrise\",\"SynergySP\",\"TMS Entertainment\",\"TOHO animation STUDIO\",\"TROYCA\",\"TYO Animations\",\"Tatsunoko Production\",\"Telecom Animation Film\",\"Telescreen\",\"Tezuka Productions\",\"Toei Animation\",\"Tokyo Kids\",\"Tokyo Movie Shinsha\",\"Topcraft\",\"Trans Arts\",\"Triangle Staff\",\"Trigger\",\"White Fox\",\"Wit Studio\",\"Xebec\",\"Yokohama Animation Lab\",\"Yumeta Company\",\"ZERO-G\",\"add some\",\"domerica\",\"feel.\",\"ufotable\"],\"name\":\"\",\"parents\":[\"\",\"\",\"\",\"\",\"\",\"\",\"\",\"\",\"\",\"\",\"\",\"\",\"\",\"\",\"\",\"\",\"\",\"\",\"\",\"\",\"\",\"\",\"\",\"\",\"\",\"\",\"\",\"\",\"\",\"\",\"\",\"\",\"\",\"\",\"\",\"\",\"\",\"\",\"\",\"\",\"\",\"\",\"\",\"\",\"\",\"\",\"\",\"\",\"\",\"\",\"\",\"\",\"\",\"\",\"\",\"\",\"\",\"\",\"\",\"\",\"\",\"\",\"\",\"\",\"\",\"\",\"\",\"\",\"\",\"\",\"\",\"\",\"\",\"\",\"\",\"\",\"\",\"\",\"\",\"\",\"\",\"\",\"\",\"\",\"\",\"\",\"\",\"\",\"\",\"\",\"\",\"\",\"\",\"\",\"\",\"\",\"\",\"\",\"\",\"\",\"\",\"\",\"\",\"\",\"\",\"\",\"\",\"\",\"\",\"\",\"\",\"\",\"\",\"\",\"\",\"\",\"\",\"\",\"\",\"\",\"\",\"\",\"\",\"\",\"\",\"\",\"\",\"\",\"\",\"\",\"\",\"\",\"\",\"\",\"\",\"\",\"\",\"\",\"\",\"\",\"\",\"\",\"\",\"\",\"\",\"\",\"\",\"\",\"\",\"\"],\"values\":[9,36,2,1,2,2,1,1,5,7,1,7,6,1,11,2,3,41,19,3,1,2,1,17,4,3,1,1,10,6,2,3,4,1,3,1,7,5,1,3,2,5,1,2,6,4,1,2,1,1,1,33,3,3,9,3,36,2,8,2,2,12,3,21,61,5,2,1,1,3,1,1,2,10,1,1,3,3,7,1,4,11,1,1,1,1,27,1,2,60,1,1,1,1,1,9,10,2,7,4,5,31,4,3,13,2,11,7,1,5,5,2,4,25,14,2,5,1,1,1,3,3,2,52,8,50,1,5,6,7,4,1,3,40,1,9,1,2,1,7,11,20,4,1,1,1,3,1,5,18],\"type\":\"treemap\"}],                        {\"template\":{\"data\":{\"histogram2dcontour\":[{\"type\":\"histogram2dcontour\",\"colorbar\":{\"outlinewidth\":0,\"ticks\":\"\"},\"colorscale\":[[0.0,\"#0d0887\"],[0.1111111111111111,\"#46039f\"],[0.2222222222222222,\"#7201a8\"],[0.3333333333333333,\"#9c179e\"],[0.4444444444444444,\"#bd3786\"],[0.5555555555555556,\"#d8576b\"],[0.6666666666666666,\"#ed7953\"],[0.7777777777777778,\"#fb9f3a\"],[0.8888888888888888,\"#fdca26\"],[1.0,\"#f0f921\"]]}],\"choropleth\":[{\"type\":\"choropleth\",\"colorbar\":{\"outlinewidth\":0,\"ticks\":\"\"}}],\"histogram2d\":[{\"type\":\"histogram2d\",\"colorbar\":{\"outlinewidth\":0,\"ticks\":\"\"},\"colorscale\":[[0.0,\"#0d0887\"],[0.1111111111111111,\"#46039f\"],[0.2222222222222222,\"#7201a8\"],[0.3333333333333333,\"#9c179e\"],[0.4444444444444444,\"#bd3786\"],[0.5555555555555556,\"#d8576b\"],[0.6666666666666666,\"#ed7953\"],[0.7777777777777778,\"#fb9f3a\"],[0.8888888888888888,\"#fdca26\"],[1.0,\"#f0f921\"]]}],\"heatmap\":[{\"type\":\"heatmap\",\"colorbar\":{\"outlinewidth\":0,\"ticks\":\"\"},\"colorscale\":[[0.0,\"#0d0887\"],[0.1111111111111111,\"#46039f\"],[0.2222222222222222,\"#7201a8\"],[0.3333333333333333,\"#9c179e\"],[0.4444444444444444,\"#bd3786\"],[0.5555555555555556,\"#d8576b\"],[0.6666666666666666,\"#ed7953\"],[0.7777777777777778,\"#fb9f3a\"],[0.8888888888888888,\"#fdca26\"],[1.0,\"#f0f921\"]]}],\"heatmapgl\":[{\"type\":\"heatmapgl\",\"colorbar\":{\"outlinewidth\":0,\"ticks\":\"\"},\"colorscale\":[[0.0,\"#0d0887\"],[0.1111111111111111,\"#46039f\"],[0.2222222222222222,\"#7201a8\"],[0.3333333333333333,\"#9c179e\"],[0.4444444444444444,\"#bd3786\"],[0.5555555555555556,\"#d8576b\"],[0.6666666666666666,\"#ed7953\"],[0.7777777777777778,\"#fb9f3a\"],[0.8888888888888888,\"#fdca26\"],[1.0,\"#f0f921\"]]}],\"contourcarpet\":[{\"type\":\"contourcarpet\",\"colorbar\":{\"outlinewidth\":0,\"ticks\":\"\"}}],\"contour\":[{\"type\":\"contour\",\"colorbar\":{\"outlinewidth\":0,\"ticks\":\"\"},\"colorscale\":[[0.0,\"#0d0887\"],[0.1111111111111111,\"#46039f\"],[0.2222222222222222,\"#7201a8\"],[0.3333333333333333,\"#9c179e\"],[0.4444444444444444,\"#bd3786\"],[0.5555555555555556,\"#d8576b\"],[0.6666666666666666,\"#ed7953\"],[0.7777777777777778,\"#fb9f3a\"],[0.8888888888888888,\"#fdca26\"],[1.0,\"#f0f921\"]]}],\"surface\":[{\"type\":\"surface\",\"colorbar\":{\"outlinewidth\":0,\"ticks\":\"\"},\"colorscale\":[[0.0,\"#0d0887\"],[0.1111111111111111,\"#46039f\"],[0.2222222222222222,\"#7201a8\"],[0.3333333333333333,\"#9c179e\"],[0.4444444444444444,\"#bd3786\"],[0.5555555555555556,\"#d8576b\"],[0.6666666666666666,\"#ed7953\"],[0.7777777777777778,\"#fb9f3a\"],[0.8888888888888888,\"#fdca26\"],[1.0,\"#f0f921\"]]}],\"mesh3d\":[{\"type\":\"mesh3d\",\"colorbar\":{\"outlinewidth\":0,\"ticks\":\"\"}}],\"scatter\":[{\"fillpattern\":{\"fillmode\":\"overlay\",\"size\":10,\"solidity\":0.2},\"type\":\"scatter\"}],\"parcoords\":[{\"type\":\"parcoords\",\"line\":{\"colorbar\":{\"outlinewidth\":0,\"ticks\":\"\"}}}],\"scatterpolargl\":[{\"type\":\"scatterpolargl\",\"marker\":{\"colorbar\":{\"outlinewidth\":0,\"ticks\":\"\"}}}],\"bar\":[{\"error_x\":{\"color\":\"#2a3f5f\"},\"error_y\":{\"color\":\"#2a3f5f\"},\"marker\":{\"line\":{\"color\":\"#E5ECF6\",\"width\":0.5},\"pattern\":{\"fillmode\":\"overlay\",\"size\":10,\"solidity\":0.2}},\"type\":\"bar\"}],\"scattergeo\":[{\"type\":\"scattergeo\",\"marker\":{\"colorbar\":{\"outlinewidth\":0,\"ticks\":\"\"}}}],\"scatterpolar\":[{\"type\":\"scatterpolar\",\"marker\":{\"colorbar\":{\"outlinewidth\":0,\"ticks\":\"\"}}}],\"histogram\":[{\"marker\":{\"pattern\":{\"fillmode\":\"overlay\",\"size\":10,\"solidity\":0.2}},\"type\":\"histogram\"}],\"scattergl\":[{\"type\":\"scattergl\",\"marker\":{\"colorbar\":{\"outlinewidth\":0,\"ticks\":\"\"}}}],\"scatter3d\":[{\"type\":\"scatter3d\",\"line\":{\"colorbar\":{\"outlinewidth\":0,\"ticks\":\"\"}},\"marker\":{\"colorbar\":{\"outlinewidth\":0,\"ticks\":\"\"}}}],\"scattermapbox\":[{\"type\":\"scattermapbox\",\"marker\":{\"colorbar\":{\"outlinewidth\":0,\"ticks\":\"\"}}}],\"scatterternary\":[{\"type\":\"scatterternary\",\"marker\":{\"colorbar\":{\"outlinewidth\":0,\"ticks\":\"\"}}}],\"scattercarpet\":[{\"type\":\"scattercarpet\",\"marker\":{\"colorbar\":{\"outlinewidth\":0,\"ticks\":\"\"}}}],\"carpet\":[{\"aaxis\":{\"endlinecolor\":\"#2a3f5f\",\"gridcolor\":\"white\",\"linecolor\":\"white\",\"minorgridcolor\":\"white\",\"startlinecolor\":\"#2a3f5f\"},\"baxis\":{\"endlinecolor\":\"#2a3f5f\",\"gridcolor\":\"white\",\"linecolor\":\"white\",\"minorgridcolor\":\"white\",\"startlinecolor\":\"#2a3f5f\"},\"type\":\"carpet\"}],\"table\":[{\"cells\":{\"fill\":{\"color\":\"#EBF0F8\"},\"line\":{\"color\":\"white\"}},\"header\":{\"fill\":{\"color\":\"#C8D4E3\"},\"line\":{\"color\":\"white\"}},\"type\":\"table\"}],\"barpolar\":[{\"marker\":{\"line\":{\"color\":\"#E5ECF6\",\"width\":0.5},\"pattern\":{\"fillmode\":\"overlay\",\"size\":10,\"solidity\":0.2}},\"type\":\"barpolar\"}],\"pie\":[{\"automargin\":true,\"type\":\"pie\"}]},\"layout\":{\"autotypenumbers\":\"strict\",\"colorway\":[\"#636efa\",\"#EF553B\",\"#00cc96\",\"#ab63fa\",\"#FFA15A\",\"#19d3f3\",\"#FF6692\",\"#B6E880\",\"#FF97FF\",\"#FECB52\"],\"font\":{\"color\":\"#2a3f5f\"},\"hovermode\":\"closest\",\"hoverlabel\":{\"align\":\"left\"},\"paper_bgcolor\":\"white\",\"plot_bgcolor\":\"#E5ECF6\",\"polar\":{\"bgcolor\":\"#E5ECF6\",\"angularaxis\":{\"gridcolor\":\"white\",\"linecolor\":\"white\",\"ticks\":\"\"},\"radialaxis\":{\"gridcolor\":\"white\",\"linecolor\":\"white\",\"ticks\":\"\"}},\"ternary\":{\"bgcolor\":\"#E5ECF6\",\"aaxis\":{\"gridcolor\":\"white\",\"linecolor\":\"white\",\"ticks\":\"\"},\"baxis\":{\"gridcolor\":\"white\",\"linecolor\":\"white\",\"ticks\":\"\"},\"caxis\":{\"gridcolor\":\"white\",\"linecolor\":\"white\",\"ticks\":\"\"}},\"coloraxis\":{\"colorbar\":{\"outlinewidth\":0,\"ticks\":\"\"}},\"colorscale\":{\"sequential\":[[0.0,\"#0d0887\"],[0.1111111111111111,\"#46039f\"],[0.2222222222222222,\"#7201a8\"],[0.3333333333333333,\"#9c179e\"],[0.4444444444444444,\"#bd3786\"],[0.5555555555555556,\"#d8576b\"],[0.6666666666666666,\"#ed7953\"],[0.7777777777777778,\"#fb9f3a\"],[0.8888888888888888,\"#fdca26\"],[1.0,\"#f0f921\"]],\"sequentialminus\":[[0.0,\"#0d0887\"],[0.1111111111111111,\"#46039f\"],[0.2222222222222222,\"#7201a8\"],[0.3333333333333333,\"#9c179e\"],[0.4444444444444444,\"#bd3786\"],[0.5555555555555556,\"#d8576b\"],[0.6666666666666666,\"#ed7953\"],[0.7777777777777778,\"#fb9f3a\"],[0.8888888888888888,\"#fdca26\"],[1.0,\"#f0f921\"]],\"diverging\":[[0,\"#8e0152\"],[0.1,\"#c51b7d\"],[0.2,\"#de77ae\"],[0.3,\"#f1b6da\"],[0.4,\"#fde0ef\"],[0.5,\"#f7f7f7\"],[0.6,\"#e6f5d0\"],[0.7,\"#b8e186\"],[0.8,\"#7fbc41\"],[0.9,\"#4d9221\"],[1,\"#276419\"]]},\"xaxis\":{\"gridcolor\":\"white\",\"linecolor\":\"white\",\"ticks\":\"\",\"title\":{\"standoff\":15},\"zerolinecolor\":\"white\",\"automargin\":true,\"zerolinewidth\":2},\"yaxis\":{\"gridcolor\":\"white\",\"linecolor\":\"white\",\"ticks\":\"\",\"title\":{\"standoff\":15},\"zerolinecolor\":\"white\",\"automargin\":true,\"zerolinewidth\":2},\"scene\":{\"xaxis\":{\"backgroundcolor\":\"#E5ECF6\",\"gridcolor\":\"white\",\"linecolor\":\"white\",\"showbackground\":true,\"ticks\":\"\",\"zerolinecolor\":\"white\",\"gridwidth\":2},\"yaxis\":{\"backgroundcolor\":\"#E5ECF6\",\"gridcolor\":\"white\",\"linecolor\":\"white\",\"showbackground\":true,\"ticks\":\"\",\"zerolinecolor\":\"white\",\"gridwidth\":2},\"zaxis\":{\"backgroundcolor\":\"#E5ECF6\",\"gridcolor\":\"white\",\"linecolor\":\"white\",\"showbackground\":true,\"ticks\":\"\",\"zerolinecolor\":\"white\",\"gridwidth\":2}},\"shapedefaults\":{\"line\":{\"color\":\"#2a3f5f\"}},\"annotationdefaults\":{\"arrowcolor\":\"#2a3f5f\",\"arrowhead\":0,\"arrowwidth\":1},\"geo\":{\"bgcolor\":\"white\",\"landcolor\":\"#E5ECF6\",\"subunitcolor\":\"white\",\"showland\":true,\"showlakes\":true,\"lakecolor\":\"white\"},\"title\":{\"x\":0.05},\"mapbox\":{\"style\":\"light\"}}},\"legend\":{\"tracegroupgap\":0},\"title\":{\"text\":\"Top Studios Producing Anime\"},\"height\":500,\"width\":1100},                        {\"responsive\": true}                    ).then(function(){\n",
       "                            \n",
       "var gd = document.getElementById('d5aec939-8fbd-4294-b261-c5185f1135b9');\n",
       "var x = new MutationObserver(function (mutations, observer) {{\n",
       "        var display = window.getComputedStyle(gd).display;\n",
       "        if (!display || display === 'none') {{\n",
       "            console.log([gd, 'removed!']);\n",
       "            Plotly.purge(gd);\n",
       "            observer.disconnect();\n",
       "        }}\n",
       "}});\n",
       "\n",
       "// Listen for the removal of the full notebook cells\n",
       "var notebookContainer = gd.closest('#notebook-container');\n",
       "if (notebookContainer) {{\n",
       "    x.observe(notebookContainer, {childList: true});\n",
       "}}\n",
       "\n",
       "// Listen for the clearing of the current output cell\n",
       "var outputEl = gd.closest('.output');\n",
       "if (outputEl) {{\n",
       "    x.observe(outputEl, {childList: true});\n",
       "}}\n",
       "\n",
       "                        })                };                });            </script>        </div>"
      ]
     },
     "metadata": {},
     "output_type": "display_data"
    }
   ],
   "source": [
    "# Exploding the 'Studios' column to separate each studio in a new row\n",
    "studio_exploded = anime_data.explode('Studios')\n",
    "\n",
    "# Group by the 'Studios' column and count the occurrences\n",
    "studio_counts = studio_exploded.groupby('Studios').size().reset_index(name='Count')\n",
    "\n",
    "# Drop any rows with NaN values in 'Count' (if any)\n",
    "studio_counts = studio_counts.dropna(subset=['Count'])\n",
    "\n",
    "# create the treemap \n",
    "fig = px.treemap(\n",
    "    studio_counts,  # Data with Count values\n",
    "    path=['Studios'],  # Hierarchical path for the treemap\n",
    "    values='Count',  \n",
    "    title='Top Studios Producing Anime',\n",
    "    width=1100,        # Adjust the width of the figure\n",
    "    height=500         # Adjust the height of the figure\n",
    ")\n",
    "fig.update_traces(\n",
    "    hovertemplate='<b>%{label}</b><br>Count: %{value}<extra></extra>' \n",
    ")\n",
    "fig.show()\n"
   ]
  },
  {
   "cell_type": "code",
   "execution_count": 308,
   "id": "b1e36ff3-a8f7-4c05-a1a4-4e57127a48bf",
   "metadata": {},
   "outputs": [
    {
     "name": "stdout",
     "output_type": "stream",
     "text": [
      "Index(['Score', 'Popularity', 'Rank', 'Members', 'Description', 'Synonyms',\n",
      "       'Japanese', 'Title', 'Type', 'Episodes', 'Status', 'Aired', 'Premiered',\n",
      "       'Broadcast', 'Producers', 'Licensors', 'Studios', 'Source', 'Genres',\n",
      "       'Demographic', 'Duration', 'Rating', 'Combined_Score'],\n",
      "      dtype='object')\n"
     ]
    }
   ],
   "source": [
    "print(df.columns)"
   ]
  },
  {
   "cell_type": "code",
   "execution_count": 356,
   "id": "ce216e7d-87b5-4623-afca-310dacf0a9ce",
   "metadata": {},
   "outputs": [
    {
     "name": "stdin",
     "output_type": "stream",
     "text": [
      "Enter the genre to base recommendations on (e.g., Action, Adventure, Fantasy), or 'exit' to stop:  action\n",
      "Enter the criteria for recommendations (e.g., Popularity, Score, Rank, Members), separated by commas:  score\n",
      "Enter the number of top recommendations to get (default is 10):  5\n"
     ]
    },
    {
     "name": "stdout",
     "output_type": "stream",
     "text": [
      "\n",
      "Recommended Anime based on Genre: action and Score:\n",
      "Fullmetal Alchemist: Brotherhood | ['Action', 'Adventure', 'Drama', 'Fantasy'] | 9.09\n",
      "Gintama Season 4 | ['Action', 'Comedy', 'Sci-Fi'] | 9.06\n",
      "Attack on Titan Season 3 Part 2 | ['Action', 'Drama', 'Suspense'] | 9.05\n",
      "Gintama: The Very Final | ['Action', 'Comedy', 'Drama', 'Sci-Fi'] | 9.04\n",
      "Hunter x Hunter | ['Action', 'Adventure', 'Fantasy'] | 9.04\n"
     ]
    },
    {
     "name": "stdin",
     "output_type": "stream",
     "text": [
      "\n",
      "Do you want to provide another input? (yes/no):  yes\n",
      "Enter the genre to base recommendations on (e.g., Action, Adventure, Fantasy), or 'exit' to stop:  drama\n",
      "Enter the criteria for recommendations (e.g., Popularity, Score, Rank, Members), separated by commas:  rank\n",
      "Enter the number of top recommendations to get (default is 10):  6\n"
     ]
    },
    {
     "name": "stdout",
     "output_type": "stream",
     "text": [
      "\n",
      "Recommended Anime based on Genre: drama and Rank:\n",
      "Frieren: Beyond Journey's End | ['Adventure', 'Drama', 'Fantasy'] | 1\n",
      "Fullmetal Alchemist: Brotherhood | ['Action', 'Adventure', 'Drama', 'Fantasy'] | 2\n",
      "Steins;Gate | ['Drama', 'Sci-Fi', 'Suspense'] | 3\n",
      "Attack on Titan Season 3 Part 2 | ['Action', 'Drama', 'Suspense'] | 5\n",
      "Gintama: The Very Final | ['Action', 'Comedy', 'Drama', 'Sci-Fi'] | 6\n",
      "Legend of the Galactic Heroes | ['Drama', 'Sci-Fi'] | 10\n"
     ]
    },
    {
     "name": "stdin",
     "output_type": "stream",
     "text": [
      "\n",
      "Do you want to provide another input? (yes/no):  yes\n",
      "Enter the genre to base recommendations on (e.g., Action, Adventure, Fantasy), or 'exit' to stop:  Fantasy\n",
      "Enter the criteria for recommendations (e.g., Popularity, Score, Rank, Members), separated by commas:  score\n",
      "Enter the number of top recommendations to get (default is 10):  8\n"
     ]
    },
    {
     "name": "stdout",
     "output_type": "stream",
     "text": [
      "\n",
      "Recommended Anime based on Genre: Fantasy and Score:\n",
      "Frieren: Beyond Journey's End | ['Adventure', 'Drama', 'Fantasy'] | 9.38\n",
      "Fullmetal Alchemist: Brotherhood | ['Action', 'Adventure', 'Drama', 'Fantasy'] | 9.09\n",
      "Hunter x Hunter | ['Action', 'Adventure', 'Fantasy'] | 9.04\n",
      "Bleach: Thousand-Year Blood War | ['Action', 'Adventure', 'Fantasy'] | 9.02\n",
      "Violet Evergarden: The Movie | ['Award Winning', 'Drama', 'Fantasy'] | 8.87\n",
      "Jujutsu Kaisen Season 2 | ['Action', 'Fantasy'] | 8.84\n",
      "Demon Slayer: Kimetsu no Yaiba Entertainment District Arc | ['Action', 'Fantasy'] | 8.75\n",
      "One Piece | ['Action', 'Adventure', 'Fantasy'] | 8.72\n"
     ]
    },
    {
     "name": "stdin",
     "output_type": "stream",
     "text": [
      "\n",
      "Do you want to provide another input? (yes/no):  yes\n",
      "Enter the genre to base recommendations on (e.g., Action, Adventure, Fantasy), or 'exit' to stop:  Adventure\n",
      "Enter the criteria for recommendations (e.g., Popularity, Score, Rank, Members), separated by commas:  Popularity\n",
      "Enter the number of top recommendations to get (default is 10):  3\n"
     ]
    },
    {
     "name": "stdout",
     "output_type": "stream",
     "text": [
      "\n",
      "Recommended Anime based on Genre: Adventure and Popularity:\n",
      "Swallowed Star 3rd Season | ['Action', 'Adventure', 'Fantasy', 'Sci-Fi'] | 11443\n",
      "The Demon Hunter | ['Action', 'Adventure', 'Fantasy'] | 11337\n",
      "Swallowed Star 4th Season | ['Action', 'Adventure', 'Fantasy', 'Sci-Fi'] | 11250\n"
     ]
    },
    {
     "name": "stdin",
     "output_type": "stream",
     "text": [
      "\n",
      "Do you want to provide another input? (yes/no):  no\n"
     ]
    },
    {
     "name": "stdout",
     "output_type": "stream",
     "text": [
      "Exiting the program.\n"
     ]
    }
   ],
   "source": [
    "# Function to recommend top N anime based on a given genre and other criteria\n",
    "def recommend_by_genre_and_criteria(genre_input, criteria=['Popularity'], top_n=10):\n",
    "    # Filter anime data by genre matching\n",
    "    genre_input = genre_input.lower()\n",
    "    \n",
    "    # Check if the genre_input is part of any genre in the Genres column\n",
    "    genre_filtered_data = df[df['Genres'].str.split(',').apply(lambda x: any(genre_input in g.lower() for g in x))]\n",
    "    \n",
    "    if genre_filtered_data.empty:\n",
    "        print(f\"No anime found for the genre: {genre_input}\")\n",
    "        return None\n",
    "    \n",
    "    # Validate criteria\n",
    "    valid_criteria = ['Popularity', 'Score', 'Rank', 'Members']\n",
    "    for criterion in criteria:\n",
    "        if criterion not in valid_criteria:\n",
    "            print(f\"Invalid criterion: {criterion}. Valid options are: {valid_criteria}\")\n",
    "            return None\n",
    "    \n",
    "    # Sort the filtered data based on the specified criteria\n",
    "    ascending_flags = [False if criterion != 'Rank' else True for criterion in criteria]\n",
    "    sorted_anime = genre_filtered_data.sort_values(by=criteria, ascending=ascending_flags)\n",
    "    \n",
    "    # Check if 'Title' exists before attempting to access it\n",
    "    if 'Title' not in sorted_anime.columns:\n",
    "        print(\"The 'Title' column is missing in the filtered data.\")\n",
    "        return None\n",
    "    \n",
    "    # Return the top N recommendations based on sorted criteria\n",
    "    recommended_animes = sorted_anime[['Title', 'Genres'] + criteria].head(top_n)\n",
    "    return recommended_animes\n",
    "\n",
    "# Main loop to continuously accept user input\n",
    "while True:\n",
    "    genre_input = input(\"Enter the genre to base recommendations on (e.g., Action, Adventure, Fantasy), or 'exit' to stop: \").strip()\n",
    "    \n",
    "    if genre_input.lower() == 'exit':\n",
    "        print(\"Exiting the program.\")\n",
    "        break\n",
    "    \n",
    "    # Normalize criteria input to match valid options (case-insensitive)\n",
    "    valid_criteria = ['Popularity', 'Score', 'Rank', 'Members']\n",
    "    criteria_input = input(\"Enter the criteria for recommendations (e.g., Popularity, Score, Rank, Members), separated by commas: \").strip()\n",
    "    criteria = [x.strip().capitalize() for x in criteria_input.split(',')]\n",
    "\n",
    "    # Validate criteria against valid options\n",
    "    invalid_criteria = [criterion for criterion in criteria if criterion not in valid_criteria]\n",
    "    if invalid_criteria:\n",
    "        print(f\"Invalid criteria: {', '.join(invalid_criteria)}. Valid options are: {valid_criteria}\")\n",
    "        continue\n",
    "    \n",
    "    top_n_input = input(\"Enter the number of top recommendations to get (default is 10): \").strip()\n",
    "    top_n = int(top_n_input) if top_n_input.isdigit() else 10\n",
    "\n",
    "    recommended_animes = recommend_by_genre_and_criteria(genre_input=genre_input, criteria=criteria, top_n=top_n)\n",
    "    \n",
    "    if recommended_animes is not None and not recommended_animes.empty:\n",
    "        print(f\"\\nRecommended Anime based on Genre: {genre_input} and {', '.join(criteria)}:\")\n",
    "        for _, row in recommended_animes.iterrows():\n",
    "            print(f\"{row['Title']} | {row['Genres']} | {', '.join([str(row[criterion]) for criterion in criteria])}\")\n",
    "    else:\n",
    "        print(f\"No recommendations found for the given genre and criteria.\")\n",
    "\n",
    "    continue_choice = input(\"\\nDo you want to provide another input? (yes/no): \").strip().lower()\n",
    "    if continue_choice == 'no':\n",
    "        print(\"Exiting the program.\")\n",
    "        break\n",
    "    elif continue_choice != 'yes':\n",
    "        print(\"Invalid input. Exiting the program.\")\n",
    "        break\n"
   ]
  },
  {
   "cell_type": "code",
   "execution_count": null,
   "id": "d86715b2-2db2-4b7f-a04b-c8d043412f15",
   "metadata": {},
   "outputs": [],
   "source": []
  }
 ],
 "metadata": {
  "kernelspec": {
   "display_name": "Python 3 (ipykernel)",
   "language": "python",
   "name": "python3"
  },
  "language_info": {
   "codemirror_mode": {
    "name": "ipython",
    "version": 3
   },
   "file_extension": ".py",
   "mimetype": "text/x-python",
   "name": "python",
   "nbconvert_exporter": "python",
   "pygments_lexer": "ipython3",
   "version": "3.12.4"
  }
 },
 "nbformat": 4,
 "nbformat_minor": 5
}
